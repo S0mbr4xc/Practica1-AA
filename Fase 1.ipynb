{
 "cells": [
  {
   "cell_type": "code",
<<<<<<< HEAD
=======
   "execution_count": 19,
>>>>>>> 86560a565858918d2b2ce5e4375781d2bf5214f4
   "id": "df63a30e",
   "metadata": {
    "id": "df63a30e",
    "ExecuteTime": {
     "end_time": "2025-05-08T03:03:32.835578Z",
     "start_time": "2025-05-08T03:03:24.855677Z"
    }
   },
   "source": [
    "import pandas as pd\n",
    "import numpy as np\n",
    "import matplotlib.pyplot as plt\n",
    "import seaborn as sns\n",
    "import holidays\n",
    "import umap\n",
    "from sklearn.preprocessing import StandardScaler\n",
    "from sklearn.feature_extraction import DictVectorizer\n",
    "from sklearn.decomposition import PCA\n",
    "\n",
    "# Configuración estética\n",
    "sns.set(style=\"whitegrid\")\n",
    "plt.rcParams[\"figure.figsize\"] = (10, 5)\n",
    "print(\"Modulos importados\")"
   ],
   "outputs": [
    {
     "name": "stderr",
     "output_type": "stream",
     "text": [
      "/home/eduardo/PycharmProjects/Calculo_Entropia/.venv/lib/python3.10/site-packages/tqdm/auto.py:21: TqdmWarning: IProgress not found. Please update jupyter and ipywidgets. See https://ipywidgets.readthedocs.io/en/stable/user_install.html\n",
      "  from .autonotebook import tqdm as notebook_tqdm\n",
      "2025-05-07 22:03:29.698701: E external/local_xla/xla/stream_executor/cuda/cuda_dnn.cc:9261] Unable to register cuDNN factory: Attempting to register factory for plugin cuDNN when one has already been registered\n",
      "2025-05-07 22:03:29.698779: E external/local_xla/xla/stream_executor/cuda/cuda_fft.cc:607] Unable to register cuFFT factory: Attempting to register factory for plugin cuFFT when one has already been registered\n",
      "2025-05-07 22:03:29.805275: E external/local_xla/xla/stream_executor/cuda/cuda_blas.cc:1515] Unable to register cuBLAS factory: Attempting to register factory for plugin cuBLAS when one has already been registered\n",
      "2025-05-07 22:03:30.032267: I tensorflow/core/platform/cpu_feature_guard.cc:182] This TensorFlow binary is optimized to use available CPU instructions in performance-critical operations.\n",
      "To enable the following instructions: AVX2 FMA, in other operations, rebuild TensorFlow with the appropriate compiler flags.\n",
      "2025-05-07 22:03:31.638982: W tensorflow/compiler/tf2tensorrt/utils/py_utils.cc:38] TF-TRT Warning: Could not find TensorRT\n"
     ]
    },
    {
     "name": "stdout",
     "output_type": "stream",
     "text": [
      "Modulos importados\n"
     ]
    }
   ],
   "execution_count": 1
  },
  {
   "cell_type": "code",
<<<<<<< HEAD
=======
   "execution_count": 20,
>>>>>>> 86560a565858918d2b2ce5e4375781d2bf5214f4
   "id": "45e7e15a",
   "metadata": {
    "colab": {
     "base_uri": "https://localhost:8080/",
     "height": 206
    },
    "id": "45e7e15a",
    "outputId": "7521edef-f73a-4345-abed-382323510b94",
    "ExecuteTime": {
     "end_time": "2025-05-08T03:03:34.360378Z",
     "start_time": "2025-05-08T03:03:32.855646Z"
    }
   },
   "source": [
    "# Cargar el dataset\n",
    "df = pd.read_csv(\"test_set_1.csv\")\n",
    "\n",
    "# Vista inicial\n",
    "df.head()"
   ],
   "outputs": [
    {
     "data": {
      "text/plain": [
       "   userId  movieId  rating   timestamp\n",
       "0   66954      780     3.0   850944100\n",
       "1    9877      566     3.0   945497442\n",
       "2   38348     1086     4.0   999975049\n",
       "3  177202     1020     4.0   948169041\n",
       "4  140400   275079     3.5  1653782463"
      ],
      "text/html": [
       "<div>\n",
       "<style scoped>\n",
       "    .dataframe tbody tr th:only-of-type {\n",
       "        vertical-align: middle;\n",
       "    }\n",
       "\n",
       "    .dataframe tbody tr th {\n",
       "        vertical-align: top;\n",
       "    }\n",
       "\n",
       "    .dataframe thead th {\n",
       "        text-align: right;\n",
       "    }\n",
       "</style>\n",
       "<table border=\"1\" class=\"dataframe\">\n",
       "  <thead>\n",
       "    <tr style=\"text-align: right;\">\n",
       "      <th></th>\n",
       "      <th>userId</th>\n",
       "      <th>movieId</th>\n",
       "      <th>rating</th>\n",
       "      <th>timestamp</th>\n",
       "    </tr>\n",
       "  </thead>\n",
       "  <tbody>\n",
       "    <tr>\n",
       "      <th>0</th>\n",
       "      <td>66954</td>\n",
       "      <td>780</td>\n",
       "      <td>3.0</td>\n",
       "      <td>850944100</td>\n",
       "    </tr>\n",
       "    <tr>\n",
       "      <th>1</th>\n",
       "      <td>9877</td>\n",
       "      <td>566</td>\n",
       "      <td>3.0</td>\n",
       "      <td>945497442</td>\n",
       "    </tr>\n",
       "    <tr>\n",
       "      <th>2</th>\n",
       "      <td>38348</td>\n",
       "      <td>1086</td>\n",
       "      <td>4.0</td>\n",
       "      <td>999975049</td>\n",
       "    </tr>\n",
       "    <tr>\n",
       "      <th>3</th>\n",
       "      <td>177202</td>\n",
       "      <td>1020</td>\n",
       "      <td>4.0</td>\n",
       "      <td>948169041</td>\n",
       "    </tr>\n",
       "    <tr>\n",
       "      <th>4</th>\n",
       "      <td>140400</td>\n",
       "      <td>275079</td>\n",
       "      <td>3.5</td>\n",
       "      <td>1653782463</td>\n",
       "    </tr>\n",
       "  </tbody>\n",
       "</table>\n",
       "</div>"
      ]
     },
<<<<<<< HEAD
     "execution_count": 2,
=======
     "execution_count": 20,
>>>>>>> 86560a565858918d2b2ce5e4375781d2bf5214f4
     "metadata": {},
     "output_type": "execute_result"
    }
   ],
   "execution_count": 2
  },
  {
   "cell_type": "code",
<<<<<<< HEAD
=======
   "execution_count": 21,
>>>>>>> 86560a565858918d2b2ce5e4375781d2bf5214f4
   "id": "5d2f9716",
   "metadata": {
    "colab": {
     "base_uri": "https://localhost:8080/"
    },
    "id": "5d2f9716",
    "outputId": "9ef16bde-d265-42e6-e730-2b5535a1d81b",
    "ExecuteTime": {
     "end_time": "2025-05-08T03:03:34.496223Z",
     "start_time": "2025-05-08T03:03:34.482740Z"
    }
   },
   "source": [
    "# Información general\n",
    "df.info()"
   ],
   "outputs": [
    {
     "name": "stdout",
     "output_type": "stream",
     "text": [
      "<class 'pandas.core.frame.DataFrame'>\n",
      "RangeIndex: 5333368 entries, 0 to 5333367\n",
      "Data columns (total 4 columns):\n",
      " #   Column     Dtype  \n",
      "---  ------     -----  \n",
      " 0   userId     int64  \n",
      " 1   movieId    int64  \n",
      " 2   rating     float64\n",
      " 3   timestamp  int64  \n",
      "dtypes: float64(1), int64(3)\n",
      "memory usage: 162.8 MB\n"
     ]
    }
   ],
   "execution_count": 3
  },
  {
   "cell_type": "code",
<<<<<<< HEAD
=======
   "execution_count": 22,
>>>>>>> 86560a565858918d2b2ce5e4375781d2bf5214f4
   "id": "beedc7b9",
   "metadata": {
    "colab": {
     "base_uri": "https://localhost:8080/",
     "height": 300
    },
    "id": "beedc7b9",
    "outputId": "cf475386-c684-4b88-b096-98e4fd14f44f",
    "ExecuteTime": {
     "end_time": "2025-05-08T03:03:35.157223Z",
     "start_time": "2025-05-08T03:03:34.535344Z"
    }
   },
   "source": [
    "# Estadísticas descriptivas\n",
    "df.describe()"
   ],
   "outputs": [
    {
     "data": {
      "text/plain": [
       "             userId       movieId        rating     timestamp\n",
       "count  5.333368e+06  5.333368e+06  5.333368e+06  5.333368e+06\n",
       "mean   1.003232e+05  2.932297e+04  3.540315e+00  1.275147e+09\n",
       "std    5.795290e+04  5.096274e+04  1.059116e+00  2.561771e+08\n",
       "min    1.000000e+00  1.000000e+00  5.000000e-01  8.228736e+08\n",
       "25%    5.014500e+04  1.232000e+03  3.000000e+00  1.050908e+09\n",
       "50%    1.003430e+05  3.461000e+03  3.500000e+00  1.272265e+09\n",
       "75%    1.505050e+05  4.419900e+04  4.000000e+00  1.503066e+09\n",
       "max    2.009480e+05  2.927550e+05  5.000000e+00  1.697164e+09"
      ],
      "text/html": [
       "<div>\n",
       "<style scoped>\n",
       "    .dataframe tbody tr th:only-of-type {\n",
       "        vertical-align: middle;\n",
       "    }\n",
       "\n",
       "    .dataframe tbody tr th {\n",
       "        vertical-align: top;\n",
       "    }\n",
       "\n",
       "    .dataframe thead th {\n",
       "        text-align: right;\n",
       "    }\n",
       "</style>\n",
       "<table border=\"1\" class=\"dataframe\">\n",
       "  <thead>\n",
       "    <tr style=\"text-align: right;\">\n",
       "      <th></th>\n",
       "      <th>userId</th>\n",
       "      <th>movieId</th>\n",
       "      <th>rating</th>\n",
       "      <th>timestamp</th>\n",
       "    </tr>\n",
       "  </thead>\n",
       "  <tbody>\n",
       "    <tr>\n",
       "      <th>count</th>\n",
       "      <td>5.333368e+06</td>\n",
       "      <td>5.333368e+06</td>\n",
       "      <td>5.333368e+06</td>\n",
       "      <td>5.333368e+06</td>\n",
       "    </tr>\n",
       "    <tr>\n",
       "      <th>mean</th>\n",
       "      <td>1.003232e+05</td>\n",
       "      <td>2.932297e+04</td>\n",
       "      <td>3.540315e+00</td>\n",
       "      <td>1.275147e+09</td>\n",
       "    </tr>\n",
       "    <tr>\n",
       "      <th>std</th>\n",
       "      <td>5.795290e+04</td>\n",
       "      <td>5.096274e+04</td>\n",
       "      <td>1.059116e+00</td>\n",
       "      <td>2.561771e+08</td>\n",
       "    </tr>\n",
       "    <tr>\n",
       "      <th>min</th>\n",
       "      <td>1.000000e+00</td>\n",
       "      <td>1.000000e+00</td>\n",
       "      <td>5.000000e-01</td>\n",
       "      <td>8.228736e+08</td>\n",
       "    </tr>\n",
       "    <tr>\n",
       "      <th>25%</th>\n",
       "      <td>5.014500e+04</td>\n",
       "      <td>1.232000e+03</td>\n",
       "      <td>3.000000e+00</td>\n",
       "      <td>1.050908e+09</td>\n",
       "    </tr>\n",
       "    <tr>\n",
       "      <th>50%</th>\n",
       "      <td>1.003430e+05</td>\n",
       "      <td>3.461000e+03</td>\n",
       "      <td>3.500000e+00</td>\n",
       "      <td>1.272265e+09</td>\n",
       "    </tr>\n",
       "    <tr>\n",
       "      <th>75%</th>\n",
       "      <td>1.505050e+05</td>\n",
       "      <td>4.419900e+04</td>\n",
       "      <td>4.000000e+00</td>\n",
       "      <td>1.503066e+09</td>\n",
       "    </tr>\n",
       "    <tr>\n",
       "      <th>max</th>\n",
       "      <td>2.009480e+05</td>\n",
       "      <td>2.927550e+05</td>\n",
       "      <td>5.000000e+00</td>\n",
       "      <td>1.697164e+09</td>\n",
       "    </tr>\n",
       "  </tbody>\n",
       "</table>\n",
       "</div>"
      ]
     },
<<<<<<< HEAD
     "execution_count": 4,
=======
     "execution_count": 22,
>>>>>>> 86560a565858918d2b2ce5e4375781d2bf5214f4
     "metadata": {},
     "output_type": "execute_result"
    }
   ],
   "execution_count": 4
  },
  {
   "metadata": {
    "ExecuteTime": {
     "end_time": "2025-05-08T03:03:35.787409Z",
     "start_time": "2025-05-08T03:03:35.261946Z"
    }
   },
   "cell_type": "code",
   "source": [
    "# Estadisticas varias\n",
    "# Número de usuarios y películas únicos\n",
    "num_users = df['userId'].nunique()\n",
    "num_movies = df['movieId'].nunique()\n",
    "\n",
    "# Estadísticas de ratings\n",
    "rating_min = df['rating'].min()\n",
    "rating_max = df['rating'].max()\n",
    "rating_mean = df['rating'].mean()\n",
    "\n",
    "# Rango de tiempo (de timestamp a fecha)\n",
    "df['date'] = pd.to_datetime(df['timestamp'], unit='s')\n",
    "date_min = df['date'].min()\n",
    "date_max = df['date'].max()\n",
    "\n",
    "# Mostrar resultados\n",
    "print(f'Usuarios únicos: {num_users:,}')\n",
    "print(f'Películas únicas: {num_movies:,}')\n",
    "print(f'Rating mínimo: {rating_min}')\n",
    "print(f'Rating máximo: {rating_max}')\n",
    "print(f'Rating promedio: {rating_mean:.2f}')\n",
    "print(f'Rango temporal: {date_min.date()} → {date_max.date()}')"
   ],
   "id": "97ec3f78eb7b9a35",
   "outputs": [
    {
     "name": "stdout",
     "output_type": "stream",
     "text": [
      "Usuarios únicos: 200,384\n",
      "Películas únicas: 50,879\n",
      "Rating mínimo: 0.5\n",
      "Rating máximo: 5.0\n",
      "Rating promedio: 3.54\n",
      "Rango temporal: 1996-01-29 → 2023-10-13\n"
     ]
    }
   ],
   "execution_count": 5
  },
  {
   "cell_type": "markdown",
   "id": "d07e2f99",
   "metadata": {},
   "source": [
    "# Analisis Exploratorio"
   ]
  },
  {
   "cell_type": "markdown",
   "id": "7c073290",
   "metadata": {},
   "source": [
    "## Graficos"
   ]
  },
  {
   "cell_type": "code",
<<<<<<< HEAD
=======
   "execution_count": 23,
>>>>>>> 86560a565858918d2b2ce5e4375781d2bf5214f4
   "id": "9a7da735",
   "metadata": {
    "colab": {
     "base_uri": "https://localhost:8080/",
     "height": 375
    },
    "id": "9a7da735",
    "outputId": "b6fb932c-40e8-424a-e160-460f9af71737",
    "ExecuteTime": {
     "end_time": "2025-05-08T03:03:53.201097Z",
     "start_time": "2025-05-08T03:03:35.826060Z"
    }
   },
   "source": [
    "# Distribución de calificaciones\n",
    "sns.histplot(df['rating'], bins=10, kde=True)\n",
    "plt.title(\"Distribución de Calificaciones\")\n",
    "plt.xlabel(\"Rating\")\n",
    "plt.ylabel(\"Frecuencia\")\n",
    "plt.show()"
   ],
   "outputs": [
    {
     "data": {
      "text/plain": [
       "<Figure size 1000x500 with 1 Axes>"
      ],
      "image/png": "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"
     },
     "metadata": {},
     "output_type": "display_data"
    }
   ],
   "execution_count": 6
  },
  {
   "cell_type": "code",
<<<<<<< HEAD
=======
   "execution_count": 24,
>>>>>>> 86560a565858918d2b2ce5e4375781d2bf5214f4
   "id": "50525641",
   "metadata": {
    "colab": {
     "base_uri": "https://localhost:8080/",
     "height": 326
    },
    "id": "50525641",
    "outputId": "112afb45-15ed-4900-af53-1d309c2924d1",
    "ExecuteTime": {
     "end_time": "2025-05-08T03:03:53.613324Z",
     "start_time": "2025-05-08T03:03:53.246651Z"
    }
   },
   "source": [
    "user_counts = df['userId'].value_counts()\n",
    "sns.boxplot(x=user_counts)\n",
    "plt.title(\"Distribución de Calificaciones por Usuario (Boxplot)\")\n",
    "plt.xlabel(\"Cantidad de Calificaciones\")\n",
    "plt.tight_layout()\n",
    "plt.show()\n"
   ],
   "outputs": [
    {
     "data": {
      "text/plain": [
       "<Figure size 1000x500 with 1 Axes>"
      ],
      "image/png": "iVBORw0KGgoAAAANSUhEUgAAA9gAAAHkCAYAAADFDYeOAAAAOnRFWHRTb2Z0d2FyZQBNYXRwbG90bGliIHZlcnNpb24zLjEwLjEsIGh0dHBzOi8vbWF0cGxvdGxpYi5vcmcvc2/+5QAAAAlwSFlzAAAPYQAAD2EBqD+naQAATmtJREFUeJzt3XmcjfX///HnzJjBGGMYS1lGtjMGw9izZ4hEWbLvleyyfCpLpfQpSpQtQkQIZa2IbB8yoYgINfY9y1hmZcbM9fvD75yvM2eGwZvReNxvNzdz3tf7XNfrOud9lue5NjfLsiwBAAAAAIB74p7eBQAAAAAAkBEQsAEAAAAAMICADQAAAACAAQRsAAAAAAAMIGADAAAAAGAAARsAAAAAAAMI2AAAAAAAGEDABgAAAADAAAI2APwLxMfH6/PPP9fPP/+c3qUAAAAgFQRsAA+ViRMnKjAw8IEsq1OnTurUqZPj9rZt2xQYGKhVq1Y9kOXfLDAwUBMnTkx1+qhRo/T999+rXLlyD6SeIUOGKDQ09IEs616EhoZqyJAhjtv253Dbtm1O/ZYtW6ZnnnlGpUuXVqVKlSS5Pv/p4WGoAQ+H270H3I0zZ84oODhYO3bsMDrf+y211/G9uHTpkkJCQrRx40Zj8wSAlGRK7wIAZFxLlizR0KFDHbe9vLyUI0cOBQYGqk6dOmrRooV8fHzueTlnz57VN998o/r16ysoKOie5/ewWblypdauXauFCxfK19c3vcu5J/v379eMGTP022+/KSIiQt7e3ipVqpSee+45NWvWTB4eHsaXeejQIQ0dOlS1atVS9+7dlSVLFuPLQPoaMmSIVq9erZ07d6Y4vXz58mrYsKE+/PDDB1xZ+vrss89Urlw5VaxY0dE2ZMgQLV261HHbw8NDefLkUYUKFdSnTx8VL148PUo1ZuPGjdq9e7f69evn1J4zZ061bNlS48ePV506ddKpOgCPAgI2gPvu1VdfVcGCBXX9+nVduHBBv/76q0aOHKlZs2Zp8uTJKlmypKNvr1691L179zua/7lz5zRp0iQVKFDgjgL2jBkz7mg599Pu3btTDJeWZens2bOaPn268ufPnw6VmfPtt9/qnXfekb+/v5o2barChQsrJiZGW7du1Ztvvqnz58+rZ8+e97SMypUra/fu3fL09HS0/frrr0pKStKbb76pwoULO9ofhuf/YagBD4fU3gPu1sWLF7Vs2bIUf1Tw8vLS+++/L0lKTEzU8ePHtWDBAv38889asWKF8uXLZ6yOB23jxo2aN2+eS8CWpHbt2mnOnDnasmWLqlWrlg7VAXgUELAB3He1a9dWcHCw43aPHj20ZcsW9ezZU71799bKlSsdWxUzZcqkTJnu71tTXFycsmbNKi8vr/u6nDuROXPmFNvd3Nz04osvPuBqzNu1a5feeecdhYSEaNq0aU57LnTt2lV79uzRgQMH7nk57u7uLo9lRESEJCl79uxO7Q/D8/8w1PBvYX/dZiRJSUlKSEhQ5syZU30PuFvfffedPDw8VLduXZdpmTJlUtOmTZ3aQkJC1KNHD23cuFGtW7c2WsvDolixYrLZbFq6dCkBG8B9wzHYANJFtWrV1Lt3b506dUrfffedoz2lY7DDwsLUrl07VapUybGr5yeffCLpxrF6LVu2lCQNHTpUgYGBCgwM1JIlSyTdOMa1SZMm+vPPP9WhQweVK1fOcd/Ujn9NSkrSJ598oho1aigkJEQ9e/bUmTNnnPokP/bXLqV5Xrt2TRMnTlTDhg0VHBysmjVrqm/fvjp+/LijT0rHX+7bt0/dunVThQoVVL58eXXp0kW7du1y6rNkyRIFBgZqx44dGjVqlJ588kmFhISoT58+unjxousDn4K1a9eqSZMmCg4OVpMmTbRmzZoU+yUlJWnWrFlq3LixgoODVb16dQ0fPlxXrly57TImTZokNzc3jRkzJsXDAoKDg9WiRQvH7RkzZqht27aqWrWqypYtqxYtWqTp2Pjkx26GhoY6Htdq1ao5Pc53+1zdSW3Lly9Xy5YtVa5cOVWuXFkdOnTQ5s2bHdNTqiEiIkLDhg1T9erVFRwcrOeff95pl15JOnnypAIDAzVjxgwtXLhQ9evXV5kyZfTCCy9o9+7dLnUcOnRIr776qqpUqeJ4rNetW+fUJyEhQZMmTVKDBg0UHBysqlWrql27dgoLC7vlY24fg7/99puGDx+uqlWrqkKFCnrjjTdSHBvz5s1T48aNVaZMGdWsWVMjRoxQZGSkU59bvW5NSMu6pvb+kNL5CdI6JgIDA/Xee+/pu+++c7yO7CcuvNv3gNSsXbtWZcuWVbZs2dLUP3fu3JLkshX9xIkTjrFTrlw5tW7dWv/73/8c0w8dOqSyZcvqjTfecLrf9u3bFRQUpI8//tjRFhoaqh49emjz5s1q2rSpgoOD9eyzz+qnn35KU40//vijWrRoobJly6pq1ap67bXXdPbsWcf0IUOGaN68eZLk+CxI/nlSvXp1bdiwQZZlpWmZAHCn2IININ00bdpUn3zyiTZv3pzqFpMDBw6oR48eCgwM1KuvviovLy8dO3ZMv//+u6QbWyReffVVTZgwQW3atHEca1ihQgXHPC5fvqxXXnlFjRs31vPPPy9/f/9b1jVlyhS5ubnplVdeUUREhGbPnq2uXbtq+fLld3z8bmJiomOLfePGjdW5c2fFxMQoLCxM4eHhCggISHW9O3TooGzZsqlbt27KlCmTFi5cqE6dOmnu3LkuJzt7//335evrq759++rUqVOaPXu23nvvPY0bN+6W9W3evFn9+vVT8eLF9Z///EeXLl3S0KFD9dhjj7n0HT58uJYuXaoWLVqoU6dOOnnypObNm6d9+/Zp/vz5Trtl3ywuLk5bt25VpUqV0ryb+1dffaXQ0FA999xzSkhI0IoVK9S/f39NnTpVTz31VJrmIUnDhg3TsmXLtGbNGr377rvy9vZO9SR6aX2u0lrbpEmTNHHiRJUvX16vvvqqPD099ccff2jr1q2qWbNmijVcvXpVnTp10vHjx9WhQwcVLFhQq1at0pAhQxQZGakuXbo49f/hhx8UExOjNm3ayM3NTV988YX69euntWvXOp6PAwcOqF27dsqXL59eeeUVeXt768cff1SfPn00ceJEPf300456p06dqlatWqls2bKKjo7Wn3/+qb1796pGjRq3fazfe+89xxg8cuSI5s+fr9OnT2vOnDlyc3OTdOMHtEmTJql69epq166do9+ePXtcxtCdvm7vxL2ua3J3Ml63bt2qH3/8UR06dFDOnDlVoECBFOd5p+8BN0tISNCePXvUrl27VPvYf4BLSkrSiRMnNGbMGPn5+Tlt8b5w4YLatm2ruLg4derUSTlz5tTSpUvVq1cvTZgwQU8//bSKFSum/v37a/To0WrYsKHq1aun2NhYDR06VEWLFlX//v2dlnv06FENHDhQbdu2VfPmzbV48WL1799fX3zxxS0fe/s5PYKDgzVo0CBFREToq6++0u+//65ly5bJ19dXbdq00blz5xQWFqbRo0enOJ/SpUtr1qxZOnDggGw2W6rLA4C7ZgHAfbJ48WLLZrNZu3fvTrVPxYoVrWbNmjluT5gwwbLZbI7bX375pWWz2ayIiIhU57F7927LZrNZixcvdpnWsWNHy2azWfPnz09xWseOHR23t27datlsNqtWrVpWVFSUo33lypWWzWazZs+e7WirW7euNXjw4NvOc9GiRZbNZrO+/PJLl75JSUmOv202mzVhwgTH7d69e1ulS5e2jh8/7mg7e/asVb58eatDhw6ONvtj3LVrV6f5jRw50goKCrIiIyNdlnuzpk2bWjVq1HDqt3nzZstms1l169Z1tP3222+WzWazvvvuO6f7b9q0KcX2m+3fv9+y2WzW+++/f8tabhYXF+d0Oz4+3mrSpInVuXNnp/bkz4P9Ody6daujzT6mko+hu32u0lLb0aNHrZIlS1p9+vSxEhMTU51X8hpmzZpl2Ww2a/ny5U7zb9OmjRUSEuIYlydOnLBsNptVpUoV6/Lly46+a9eutWw2m7V+/XpHW5cuXawmTZpY165dc6qhTZs2VoMGDRxtzz//vNW9e3eXdb8d+xhs3ry5FR8f72ifPn26ZbPZrLVr11qWZVkRERFW6dKlrZdeesnpMZk7d65ls9msRYsWOT0uqb1uUzJ48GArJCQk1ekhISFO4yQt65r8ubl5WTe/Niwr7ePVZrNZJUuWtA4cOOAy37t9D0jJsWPHLJvNZs2ZMyfF+m02m8u/WrVqWX/++adT3w8++MCy2WzWb7/95miLjo62QkNDrbp16zqex8TERKtdu3ZW9erVrYsXL1ojRoywSpUq5fLeX7duXctms1mrV692tEVFRVk1atRw+hxI/jqOj4+3qlWrZjVp0sS6evWqo9+GDRssm81mjR8/3tE2YsQIp8+Q5H7//XfLZrNZK1asuOVjCAB3i13EAaQrb29vxcTEpDrdftbsdevWKSkp6a6W4eXl5bT78e00a9bMaTfmZ555Rnny5Lmry7v89NNPypkzpzp27Ogyzb5VL7nExESFhYWpfv36KlSokKM9b968atKkiXbs2KHo6Gin+7Ru3dppfpUqVVJiYqJOnTqVam3nzp3T/v371bx5c6fjk2vUqOFyJuFVq1Ype/bsqlGjhi5evOj4V7p0aXl7e9/ycjr2WtO6q6okpz0Frly5oqioKFWsWFH79u1L8zzuVFqfq7TUtnbtWiUlJalPnz5yd3dPdV7Jbdq0SXny5FGTJk0cbZ6enurUqZNiY2P122+/OfV/9tlnlSNHDsdt+yXITpw4IenGVuCtW7eqUaNGio6Odjxvly5dUs2aNXX06FHHLra+vr46cOCAjh49mmp9t9KmTRunLdDt2rVTpkyZHK+bX375RQkJCercubPTY9KqVSv5+Pi4vL7u9HV7J+51XZO7k/FauXLl256p+27eA252+fJlSUr1qgOZM2fWl19+qS+//FIzZszQe++9J29vb3Xv3l1Hjhxx9Nu4caPKli3rGFfSjddxmzZtdOrUKR08eFDSjXMffPjhh4qNjdUrr7yir7/+Wt27d3c698bN62Dfa0KSfHx81KxZM+3bt0/nz59Psd4///xTERERateundOx6k899ZSKFi3qtMv67dgfk0uXLqX5PgBwJ9hFHEC6io2NveWun88++6y+/fZbvfXWWxo7dqyqVaump59+Ws8884xLcElNvnz57uhkUjefaVq6EYgKFy58y7CamuPHj6tIkSJ3dOK2ixcvKi4uTkWKFHGZVqxYMSUlJenMmTMqUaKEoz35rtf2L5HJj2292enTpyW5rq8kFSlSxCkcHDt2TFFRUameGMh+IrGU2H+suNUPKclt2LBBU6ZM0f79+xUfH+9ov1U4vVdpfa7SUtvx48fl7u6uYsWK3VENp06dUuHChV3Gtn0+9ufM7vHHH3e6bQ/b9uf9+PHjsixL48eP1/jx41NcZkREhPLly6dXX31VvXv3VsOGDWWz2VSzZk01bdrU6Sz/t5J8HGXLlk158uRxvG7stRctWtSpn5eXlwoVKuTy+rrT1+3t3Pz83Ou6Jncn47VgwYK3nd/dvAekxErlOGMPDw9Vr17dqa1OnTpq0KCBPvnkE8ex4KdPn05xV3T7c3j69GnHbtYBAQHq27evRo8eLZvNpt69e6e47MKFC7s8Lk888YSkG+M/T548Lvexj52UHo+iRYve1XW+7+d7CYBHGwEbQLr5559/FBUVlepxyNKNLUPz5s3Ttm3b9L///U8///yzVq5cqYULF2rmzJlpuqzNg7zucWJi4n25lvPtpPZjQ2pfsO9UUlKS/P39NWbMmBSn58qVK9X7Fi5cWJkyZVJ4eHialrV9+3b16tVLlStX1jvvvKM8efLI09NTixcv1g8//HBX9ZvysNWW2lizP+/2vT5eeukl1apVK8W+9tdf5cqVtWbNGq1bt05hYWFatGiRZs+erREjRqhVq1b3ofpbu5PXrZeXl+Lj42VZlktwsixL165dcwrr97KuiYmJTrfvdEw8iPcjPz8/Sbf+gS25xx57TEWKFHHZS+JO2E8Sd+7cOV2+fDnFsJze7Cfey5kzZzpXAiCjImADSDfLly+XpFRP+GTn7u6uatWqqVq1aho6dKg+//xzffrpp9q2bZuqV69ufEvEsWPHnG5blqVjx445nRwrR44cKX55PX36tNMunQEBAfrjjz+UkJCQ6knAksuVK5eyZs3qtKum3eHDh+Xu7u6y5fJu2Ld6J19fSS7LDggI0JYtW1ShQoU7DghZs2bVk08+qa1bt+rMmTO3rX316tXKnDmzZsyY4RSKFi9efEfLvVNpea7SWltAQICSkpJ06NChO7o2e4ECBfT3338rKSnJ6UeTw4cPS3LdU+F27GPR09PTZYtlSvz8/PTCCy/ohRdeUExMjDp27KiJEyemKWAfO3ZMTz75pON2TEyMzp8/r9q1azvVfvjwYafXSHx8vE6ePJmm+lJToEABXb9+XcePH3fZkn7s2DElJia6nEzsduuaI0cOx672N0u+F8H9GK/3+h7w+OOPK0uWLDp58uQdLTcxMVGxsbGO2/nz50+1Bvt0u/nz5yssLEwDBw7U1KlTNXz4cE2ZMsXlvseOHXP5IcS+q35qJ3yzL+fIkSMue9EcOXLEqY7bfR7YH5M73bsEANKKY7ABpIstW7Zo8uTJKliwoJ5//vlU+9mPJbyZPbDYd8W0Xxv3TrbW3MqyZcucjm9ctWqVU1CQbgSXP/74w2l30A0bNrhczqtBgwa6dOmS49IxN7vV7ps1atTQunXrnL4gX7hwQT/88IMqVqyY4qWu7lTevHkVFBSkpUuXKioqytEeFhbmOLbSrlGjRkpMTNTkyZNd5nP9+vXbPvZ9+vSRZVl64403UtxV/M8//3RcisrDw0Nubm5OWwpPnjzpclkp09LyXKW1tvr168vd3V2fffaZy7kDbrVXQe3atXX+/HmtXLnS0Xb9+nXNmTNH3t7eqly58h2tk7+/v6pUqaKFCxfq3LlzLtNvvpRb8mNSs2XLpoCAAKcxfisLFy5UQkKC4/b8+fN1/fp1x+umevXq8vT01Jw5c5weg0WLFikqKkp16tS5o3W7mX0Zc+fOdZlmfz5vfv2mZV0LFSqkw4cPOz1Gf/31l+MKBnb3Y7ze63uAp6enypQpoz///DPNyzxy5IiOHDnitJt8nTp1tHv3bu3cudPRFhsbq2+++UYFChRwHEt+4sQJx1nEe/bsqcGDB2v9+vVatmyZy3LOnTvndCnA6OhoLVu2TEFBQalu8S5Tpoz8/f21YMECp+do48aNOnTokNOZ2m/3ebB3715lz579trvXA8DdYgs2gPtu06ZNOnz4sBITE3XhwgVt27ZNYWFhyp8/v6ZMmeJ00prkPvvsM23fvl116tRRgQIFFBERoa+//lqPPfaY45JcAQEB8vX11YIFC5QtWzZ5e3urbNmyTlvJ7kSOHDnUvn17tWjRwnGZrsKFCztdSqxVq1ZavXq1unXrpkaNGun48eP6/vvvXXZ3b9asmZYtW6ZRo0Zp9+7dqlixouLi4rRlyxa1a9dO9evXT7GGAQMG6JdfflH79u3Vvn17eXh4aOHChYqPj9frr79+V+uVkkGDBqlHjx5q3769XnjhBV2+fFlz585ViRIlnLZkValSRW3atNHUqVO1f/9+1ahRQ56enjp69KhWrVqlN998U88880yqy6lQoYKGDx+uESNGqFGjRmratKkKFy6smJgY/frrr1q/fr0GDBgg6caX+i+//FLdunVTkyZNHM95QECA/v77b2Prnlxanqu01la4cGH17NlTkydPVvv27dWgQQN5eXlpz549yps3r/7zn/+kWEObNm20cOFCDRkyRHv37lWBAgW0evVq/f777xo2bNhd/bDyzjvvqH379nruuefUunVrFSpUSBcuXNCuXbv0zz//OK5D37hxY1WpUkWlS5eWn5+f9uzZo9WrV6d40reUJCQkqGvXrmrUqJGOHDmir7/+WhUrVlS9evUk3dgq26NHD02aNEndunVTaGioo5/9et93KygoSK1atdJXX32lY8eOObaG//LLL9q4caNatWrlFBzTsq4tW7bUrFmz9PLLL6tly5aKiIjQggULVLx4cacfie7XeL3X94B69erp008/VXR0tMu4uX79umMPIsuydPLkSS1YsMBxYj677t27a8WKFXrllVfUqVMn5ciRQ8uWLdPJkyc1ceJEubu7y7IsDRs2TFmyZNG7774rSWrbtq1++uknffDBB6pWrZry5cvnmOcTTzyhN998U3v27JG/v78WL16siIgIjRo1KtV18fT01GuvvaahQ4eqY8eOaty4seMyXQUKFFDXrl0dfUuXLi3pxqULa9asKQ8PDzVu3Ngx/ZdfflHdunU5BhvAfUPABnDfTZgwQdKNL0l+fn6y2WwaNmyYWrRocdvAEBoaqlOnTmnx4sW6dOmScubMqSpVqqhfv36OM197enrqww8/1CeffKJ3331X169f16hRo+46YPfs2VN///23pk2bppiYGFWrVk3vvPOOY8uIJNWqVUtDhgzRl19+qZEjR6pMmTL6/PPP9dFHHznNy8PDQ9OnT9eUKVP0ww8/6KeffpKfn58qVKiQ6vWYJalEiRKaN2+exo4dq6lTp8qyLJUtW1Yff/zxLa9/e6dq166t8ePHa9y4cRo7dqwCAgI0atQorVu3Tr/++qtT3/fee09lypTRggUL9Omnn8rDw0MFChTQ888/73Td8dS0bdtWwcHBmjlzppYtW6ZLly7J29tbpUqV0qhRoxwBq1q1avrggw80ffp0jRw5UgULFtRrr72mU6dO3deAnZbn6k5q69+/vwoWLKi5c+fq008/VdasWRUYGKimTZumWkOWLFk0Z84cjRkzRkuXLlV0dLSKFCmiUaNG3fUZtYsXL67Fixdr0qRJWrp0qS5fvqxcuXKpVKlSTmGqU6dOWr9+vcLCwhQfH6/8+fNrwIABevnll9O0nOHDh+v777/XhAkTlJCQoMaNG+utt95yCjL9+vVTrly5NHfuXI0aNUo5cuRQ69atNWjQoDQfQpGa9957TzabTYsXL9Ynn3wi6cZJsd566y116NDBqW9a1rVYsWL66KOPNGHCBI0aNUrFixfX6NGj9cMPPzi9Nu7XeL3X94CmTZtq7NixWrduncuYi4+P1xtvvOG47ePjo+DgYH388cdOu2Dnzp1bCxYs0Mcff6y5c+fq2rVrCgwM1Oeff+7Yajxnzhz9+uuvmjhxotO5GD744AM1adJEb7/9tqZNm+Zof+KJJ/T2229r9OjROnLkiAoWLKhPP/001XME2LVo0UJZsmTR9OnTNWbMGHl7e6t+/fp6/fXXnc6W3qBBA3Xq1EkrVqzQd999J8uyHAH70KFDCg8P17Bhw277+AHA3XKzTJ0BBwAAPHKWLFmioUOHatGiRSlelgnpZ9iwYTp69Ki+/vrr9C5F0o0fTEuUKKGpU6emy/I/+OADbd++XUuWLGELNoD7hmOwAQAAMqC+fftqz549d3UZq4zm0qVLWrRokQYMGEC4BnBfsYs4AABABpQ/f37t2bMnvct4KOTMmdPpZG0AcL+wBRsAAAAAAAM4BhsAAAAAAAPYgg0AAAAAgAEEbAAAAAAADCBgAwAAAABgAAEbAAAAAAAD0nyZLsuylJT07zkfmru727+qXmQcjD2kF8Ye0gtjD+mFsYf0wth7tLi7u8nNzS1NfdMcsJOSLF28GHPXRT1ImTK5K2fObIqMjNX160npXQ4eIYw9pBfGHtILYw/phbGH9MLYe/TkypVNHh5pC9jsIg4AAAAAgAEEbAAAAAAADCBgAwAAAABgAAEbAAAAAAADCNgAAAAAABhAwAYAAAAAwAACNgAAAAAABhCwAQAAAAAwgIANAAAAAIABBGwAAAAAAAwgYAMAAAAAYAABGwAAAAAAAwjYAAAAAAAYQMAGAAAAAMAAAjYAAAAAAAYQsAEAAAAAMICADQAAAACAAQRsAAAAAAAMIGADAAAAAGAAARsAAAAAAAMI2AAAAAAAGEDABgAAAADAAAI2AAAAAAAGELABAAAAADCAgA0AAAAAgAEEbAAAAAAADCBgAwAAAABgAAEbAAAAAAADCNgAAAAAABhAwAYAAAAAwAACNgAAAAAABhCwAQAAAAAwgIANAAAAAIABBGwAAAAAAAwgYAMAAAAAYAABGwAAAAAAAzKldwH304ULF3TlyhVJko9Pdvn7507nigAAAAAAGVWGDdjnzp3TG28M1PXrCZIkT08vjRw5hpANAAAAALgvMuwu4pGRkY5w7ZU7WAkJ8YqOjkrnqgAAAAAAGVWGDdg3c/fMlt4lAAAAAAAyuEciYAMAAAAAcL8RsAEAAAAAMICADQAAAACAAQRsAAAAAAAMIGADAAAAAGAAARsAAAAAAAMI2AAAAAAAGEDABgAAAADAAAI2AAAAAAAGELABAAAAADCAgA0AAAAAgAEEbAAAAAAADCBgAwAAAABgAAEbAAAAAAADCNgAAAAAABhAwAYAAAAAwAACNgAAAAAABhCwAQAAAAAwgIANAAAAAIABBGwAAAAAAAwgYAMAAAAAYAABGwAAAAAAAwjYAAAAAAAYQMAGAAAAAMAAAjYAAAAAAAYQsAEAAAAAMICADQAAAACAAQRsAAAAAAAMIGADAAAAAGAAARsAAAAAAAMI2AAAAAAAGEDABgAAAADAAAI2AAAAAAAGELABAAAAADCAgA0AAAAAgAEEbAAAAAAADCBgAwAAAABgAAEbAAAAAAADCNgAAAAAABhAwAYAAAAAwAACNgAAAAAABhCwAQAAAAAwgIANAAAAAIABBGwAAAAAAAwgYAMAAAAAYAABGwAAAAAAAwjYAAAAAAAYQMAGAAAAAMAAAjYAAAAAAAYQsAEAAAAAMICADQAAAACAAQRsAAAAAAAMIGADAAAAAGAAARsAAAAAAAMI2AAAAAAAGEDABgAAAADAAAI2AAAAAAAGELABAAAAADCAgA0AAAAAgAEEbAAAAAAADCBgAwAAAABgAAEbAAAAAAADCNgAAAAAABhAwAYAAAAAwAACNgAAAAAABhCwAQAAAAAwgIANAAAAAIABBGwAAAAAAAwgYAMAAAAAYAABGwAAAAAAAwjYAAAAAAAYQMAGAAAAAMAAAjYAAAAAAAYQsAEAAAAAMCDDBuzo6Ojb9omKinwAlQAAAAAAHgUZMmCfO3dWw4cPv22fAQN66dy5sw+oKgAAAABARpYhA3ZsbKwsy7pln7i4G33i4mIfUFUAAAAAgIwsQwZsAAAAAAAeNAI2AAAAAAAGELABAAAAADCAgA0AAAAAgAEEbAAAAAAADCBgAwAAAABgAAEbAAAAAAADCNgAAAAAABhAwAYAAAAAwAACNgAAAAAABhCwAQAAAAAwgIANAAAAAIABBGwAAAAAAAwgYAMAAAAAYAABGwAAAAAAAwjYAAAAAAAYQMAGAAAAAMAAAjYAAAAAAAYQsAEAAAAAMICADQAAAACAAQRsAAAAAAAMIGADAAAAAGAAARsAAAAAAAMI2AAAAAAAGEDABgAAAADAAAI2AAAAAAAGELABAAAAADCAgA0AAAAAgAEEbAAAAAAADCBgAwAAAABgAAEbAAAAAAADCNgAAAAAABhAwAYAAAAAwAACNgAAAAAABhCwAQAAAAAwgIANAAAAAIABBGwAAAAAAAwgYAMAAAAAYAABGwAAAAAAAwjYAAAAAAAYQMAGAAAAAMAAAjYAAAAAAAYQsAEAAAAAMICADQAAAACAAQRsAAAAAAAMIGADAAAAAGAAARsAAAAAAAMI2AAAAAAAGEDABgAAAADAAAI2AAAAAAAGELABAAAAADCAgA0AAAAAgAEEbAAAAAAADCBgAwAAAABgAAEbAAAAAAADCNgAAAAAABhAwAYAAAAAwAACNgAAAAAABhCwAQAAAAAwgIANAAAAAIABBGwAAAAAAAwgYAMAAAAAYAABGwAAAAAAAwjYAAAAAAAYQMAGAAAAAMAAAjYAAAAAAAYQsAEAAAAAMICADQAAAACAAQRsAAAAAAAMIGADAAAAAGAAARsAAAAAAAMypXcB6WXEiDed/ocZHh4eyp7dV/7+eRQVdUVxcXGKiop06uPl5SU3N3clJiZKsuTl5SUvr8xyd3dTjhw5JUnR0VG6du2qPDw85Ofnr4CAABUtWlwxMTGKiorUsWNH5OnpJR+f7NqzZ6eioqIlWfL29laRIsXl7++vuLg4XbwYIX//3CpYsJCuXr0qScqa1VuxsTG6eDFClmXJ3z+3vL2zKS4uVpZlKSYmWqdOnZBlualAgQK6evWqIiIuKCEhXjlz+iswsKRCQxvo4MFw7d+/VxERF+Tvn1tBQaVVpkwZJSYmau/eP7V375+SpJIlS6lkyVJyd3dXUlKSwsP/0uXLl+Xn56fixW06eDDccdtmKyl397T/7pV8fvb7p7Sc8PC/9Ndf+25b053WcC9uXravr68kKTIy8raPTXrWDAAAgLuX0b/HuVmWZaWlY2Jiki5ejLnf9Rhx8uQxDR8+1HE7y+NP6uqZrXrnnQ9UuHARvfRS+3SsDhlZ1qxZ5ebmptjYWKf27Nl9VaNGbW3fvk0XLpx3tNsDrl3u3HnUpk0HVaxY5bbL2rHjVy1cOM9pfrlz51GlSlVdluPm5qbkL/XUarqTGu5FSvXfLLXHRlKK6/0gan6YZcrkrpw5s+nSpRhdv550+zsAhjD2kF4Ye0gvjL27l9r314f9e1yuXNnk4ZG2HwEeuYDNFmvcLS+vzIqPv+bUliOHn5o0aaqtW3/RoUMHHO2PP55fHTt2leSmZcsW6cCBvyVJTzxRRB06dNW5c2c1ffpk+frmUGRkpF55pbfy5s2rFSuW648/dqp37/63fJPZseNXTZ48XuXKlVfjxk1VoEAhnTp1QvPmzdbRo4ddlmPXtGkL2WxBKdZkn0daa7gXN9dfrFgJLV68UCVKBEqSo66UHptdu36XJIWEVHBa7wdR88OOD3ukF8Ye0gtjD+mFsXd3Uvv++m/4HncnATvjbItPA8L1o8vDw8Ppto9P9hT/lm5s7U1JfPw1l/lERl5RnTr1NHjw2/L09HLcPyEhXoGBpRQUVFqvv/6mPD295ObmpqioKBUuXERLl36rkJAKGjNmokJCymvp0m9UpEgx9e07SOXKldfChfOctt7eLCkpSQsXzlO5cuXVt+8gFStWQlmyZFGRIsUUFRUpX98cio6OdizHy8tLZcuGqFy58goL+1mBgUEuNRUpUkxZsmRRsWIl0lTDvbi5/t69B2jjxvUKCamgwYPf1uuvv/n/Dxnw0ujR450em969Bzim9e49wLHeD6JmAAAA3L3Uvr9mxO9xj1TAxqPrxvHe/ycoqJTj7/z5CzpNS75TR6lSZVKdj2VZWr/+Jx08GK6EhHhH24ULFxQe/pckOaZZlqWIiAtav/4nXbhwXo0bN1WmTJn07LPP68KF8woP/0vu7u5Ot1MSHv6X4/43H68SHv6XIiIuqHnzVrpw4bxjOfHx8XruueZq3LipY77Ja7p5WWmp4V7cXP/Bg+FO63LwYLji4+MVHx+vw4cPOtVx87SDB8Od5nm/awYAAMDdS+37q5TxvscRsPFI8vLK7Pj7dkdJlCxZ+pbTz507p8uXL7u029uSTzt37pwkqUCBQk7/2/slv53afO39kreXK1feaTn2vjfPN/m8k9++XQ334ub6b7XOly9fTrXmlOq6nzUDAADg7qX2/dUuI32PI2DjkXTzsdSp7RJu99dfe285PW/evPLz83Npt7cln5Y3b15J0qlTJ5z+t/dLfju1+dr7JW//44+dTsux9715vsnnnfz27Wq4FzfXf6t19vPzS7XmlOq6nzUDAADg7qX2/dUuI32PI2DjkZD82On9+/c5/j59+qTTtOSBe9++P1Odj5ubm0JDG6h4cZvTMdi5c+eWzVZSkhzT3Nzc5O+fW6GhDZQ7dx6tWLFc169f18qV3yl37jyy2UoqKSnJ6XZKbLaSjvvffJyKzVZS/v65tXTpt8qdO49jOV5eXvr++6VasWK5Y77Ja7p5WWmp4V7cXH/x4jandSle3OY4zrpo0eJOddw8rXhxm9M873fNAAAAuHupfX+VMt73uEcqYL/zzgfpXQLSSfJjp6Ojo1L8W0p9l3EvLy+X+fj65tCGDWv04YfvOR2D7enppf3792rv3j36+OP3Hcc7Z8+eXUePHlbz5q20a9fveu21ftq163c1b95Khw8f1KRJn+iPP3aqTZsOqV4P0N3dXW3adNAff+zUpEmf6ODBcMXFxenw4YPKnt1XkZFX5OPj41hOfHy8du/epT/+2Knq1Wtp//69LjUdPnxQcXFxOngwPE013Iub6588eZzq1KmrXbt+10cfvaePP37fcZz1G2/0d3psJk8e55g2efI4x3o/iJoBAABw91L7/poRv8c9cpfp4jrYuJ+yZvWWm5u4DnYacB1ss7hkCNILYw/phbGH9MLYu3tcB/smGSlgSyJk3yceHh7Knt1X/v55FBV1RXFxcYqKinTq4+XlJTc39/+/Ndj6/7v9Zpa7u5ty5Mgp6cZW5WvXrsrDw0N+fv4KCAhQ0aLFFRMTo6ioSB07dkSenl7y8cmuPXt2KioqWpIlb29vFSlSXP7+/oqLi9PFixHy98+tggUL6erVq5JuhODY2BhdvBghy7Lk759b3t7ZFBcXK8uyFBMTrVOnTsiy3FSgQAFdvXpVEREXlJAQr5w5/RUYWFKhoQ108GC49u/fq4iIC/L3z62goNIqU6aM/Py8tWXLdu3de2PX8pIlS6lkyVKOwBge/pcuX74sPz8/FS9u08GD4Y7bNlvJO/rlLvn87PdPaTnh4X/pr7/23bamO63hXty8bF9fX0lSZGTkbR+b9Kz5YcWHPdILYw/phbGH9MLYuzf/xu9xBOw0BOxjx45oxIg3ndqAe8UbLtILYw/phbGH9MLYQ3ph7D167iRgP9w/FQAAAAAA8C9BwAYAAAAAwAACNgAAAAAABhCwAQAAAAAwgIANAAAAAIABBGwAAAAAAAwgYAMAAAAAYAABGwAAAAAAAwjYAAAAAAAYQMAGAAAAAMAAAjYAAAAAAAYQsAEAAAAAMICADQAAAACAAQRsAAAAAAAMIGADAAAAAGAAARsAAAAAAAMI2AAAAAAAGEDABgAAAADAAAI2AAAAAAAGELABAAAAADCAgA0AAAAAgAEEbAAAAAAADCBgAwAAAABgAAEbAAAAAAADCNgAAAAAABhAwAYAAAAAwAACNgAAAAAABhCwAQAAAAAwgIANAAAAAIABBGwAAAAAAAwgYAMAAAAAYAABGwAAAAAAAwjYAAAAAAAYQMAGAAAAAMAAAjYAAAAAAAYQsAEAAAAAMICADQAAAACAAQRsAAAAAAAMIGADAAAAAGAAARsAAAAAAAMI2AAAAAAAGEDABgAAAADAAAI2AAAAAAAGELABAAAAADCAgA0AAAAAgAEEbAAAAAAADCBgAwAAAABgAAEbAAAAAAADCNgAAAAAABhAwAYAAAAAwAACNgAAAAAABhCwAQAAAAAwgIANAAAAAIABBGwAAAAAAAwgYAMAAAAAYAABGwAAAAAAAwjYAAAAAAAYQMAGAAAAAMAAAjYAAAAAAAYQsAEAAAAAMICADQAAAACAAQRsAAAAAAAMIGADAAAAAGAAARsAAAAAAAMI2AAAAAAAGEDABgAAAADAAAI2AAAAAAAGELABAAAAADCAgA0AAAAAgAEEbAAAAAAADMiQAdvb21tubm637JM1640+WbN6P6CqAAAAAAAZWYYM2Hnz5tN777132z7jxk1R3rz5HlBVAAAAAICMLEMGbEny8fG5bZ/s2X0fQCUAAAAAgEdBhg3YAAAAAAA8SARsAAAAAAAMIGADAAAAAGAAARsAAAAAAAMI2AAAAAAAGEDABgAAAADAAAI2AAAAAAAGELABAAAAADCAgA0AAAAAgAEEbAAAAAAADCBgAwAAAABgAAEbAAAAAAADCNgAAAAAABhAwAYAAAAAwAACNgAAAAAABhCwAQAAAAAwgIANAAAAAIABBGwAAAAAAAwgYAMAAAAAYAABGwAAAAAAAwjYAAAAAAAYQMAGAAAAAMAAAjYAAAAAAAYQsAEAAAAAMICADQAAAACAAQRsAAAAAAAMIGADAAAAAGAAARsAAAAAAAMI2AAAAAAAGEDABgAAAADAAAI2AAAAAAAGELABAAAAADCAgA0AAAAAgAEEbAAAAAAADCBgAwAAAABgAAEbAAAAAAADCNgAAAAAABhAwAYAAAAAwAACNgAAAAAABhCwAQAAAAAwgIANAAAAAIABBGwAAAAAAAwgYAMAAAAAYAABGwAAAAAAAwjYAAAAAAAYQMAGAAAAAMAAAjYAAAAAAAYQsAEAAAAAMICADQAAAACAAQRsAAAAAAAMIGADAAAAAGAAARsAAAAAAAMI2AAAAAAAGEDABgAAAADAAAI2AAAAAAAGELABAAAAADCAgA0AAAAAgAEEbAAAAAAADCBgAwAAAABgAAEbAAAAAAADCNgAAAAAABhAwAYAAAAAwAACNgAAAAAABhCwAQAAAAAwgIANAAAAAIABBGwAAAAAAAwgYAMAAAAAYAABGwAAAAAAAwjYAAAAAAAYQMAGAAAAAMAAAjYAAAAAAAYQsAEAAAAAMICADQAAAACAAQRsAAAAAAAMeCQCdlJCTHqXAAAAAADI4DJswPb19VWmTJ6SpPgLe+Tp6SUfn+zpXBUAAAAAIKPKlN4F3C958+bV6NGf6sqVK5IkH5/s8vfPnc5VAQAAAAAyqgwbsCUpd+7c8vPLld5lAAAAAAAeARl2F3EAAAAAAB4kAjYAAAAAAAYQsAEAAAAAMICADQAAAACAAQRsAAAAAAAMIGADAAAAAGAAARsAAAAAAAMI2AAAAAAAGEDABgAAAADAAAI2AAAAAAAGELABAAAAADCAgA0AAAAAgAEEbAAAAAAADCBgAwAAAABgAAEbAAAAAAADCNgAAAAAABhAwAYAAAAAwAACNgAAAAAABhCwAQAAAAAwgIANAAAAAIABBGwAAAAAAAwgYAMAAAAAYAABGwAAAAAAAwjYAAAAAAAYQMAGAAAAAMAAAjYAAAAAAAYQsAEAAAAAMICADQAAAACAAQRsAAAAAAAMIGADAAAAAGAAARsAAAAAAAMI2AAAAAAAGEDABgAAAADAAAI2AAAAAAAGELABAAAAADDAzbIsKy0dLctSUlKauj4UPDzclZiYlN5l4BHE2EN6YewhvTD2kF4Ye0gvjL1Hi7u7m9zc3NLUN80BGwAAAAAApI5dxAEAAAAAMICADQAAAACAAQRsAAAAAAAMIGADAAAAAGAAARsAAAAAAAMI2AAAAAAAGEDABgAAAADAAAI2AAAAAAAGELABAAAAADCAgA0AAAAAgAEEbAAAAAAADCBgAwAAAABgQIYK2IcOHdKLL76okJAQ1ahRQ6NHj1Z8fHx6l4V/iWPHjmn48OFq2rSpSpUqpSZNmqTY79tvv1XDhg0VHBys559/Xhs2bHDpExUVpWHDhqlKlSoqX768Xn31VZ07d86l3++//642bdqobNmyqlu3rqZNmybLsoyvGx5uP/74o3r16qXatWsrJCRETZs21aJFi1zGAmMPpm3cuFEdO3bUk08+qTJlyqhevXoaNWqUoqKinPqtX79ezz//vIKDg9WwYUMtXrzYZV7x8fH66KOPVKNGDYWEhOjFF1/U4cOHXfrxWY2UxMTEqHbt2goMDNSePXucpvHeB5OWLFmiwMBAl39jxoxx6se4w93KMAH7ypUr6tKlixISEjRx4kQNHDhQ33zzjT788MP0Lg3/EgcOHNDGjRtVuHBhFStWLMU+K1as0Ntvv61GjRpp+vTpCgkJUd++fbVr1y6nfgMGDFBYWJjeffddjRkzRkeOHNErr7yi69evO/ocO3ZML7/8svLkyaOpU6eqS5cumjBhgmbOnHk/VxMPoVmzZilr1qwaMmSIpkyZotq1a+vtt9/WZ5995ujD2MP9cPnyZZUtW1YjRozQjBkz9OKLL2rZsmXq37+/o8/27dvVt29fhYSEaPr06WrUqJHefPNNrVq1ymle77//vr799lsNHDhQEydOVHx8vLp27eoU1vmsRmomT56sxMREl3be+3C/fPHFF1q4cKHjX4cOHRzTGHe4J1YG8fnnn1shISHWpUuXHG0LFiywgoKCrH/++Sf9CsO/RmJiouPvwYMHW40bN3bp06BBA2vQoEFObW3atLG6devmuP37779bNpvN+vnnnx1thw4dsgIDA60VK1Y42t5++22rbt261rVr1xxtY8eOtSpVquTUhowvIiLCpe2tt96yKlSo4BiXjD08KAsXLrRsNpvjs/Oll16y2rRp49Rn0KBBVqNGjRy3z5w5YwUFBVkLFixwtF26dMkKCQmxpk2b5mjjsxopOXjwoBUSEmLNnz/fstls1u7dux3TeO+DaYsXL7ZsNluKn712jDvciwyzBXvTpk2qVq2a/Pz8HG2NGjVSUlKSwsLC0q8w/Gu4u9/65XDixAkdPXpUjRo1cmp/9tlntWXLFscujps2bZKvr69q1Kjh6FO0aFEFBQVp06ZNjrZNmzapXr168vLycppXZGSkdu7caWKV8C+RK1cul7agoCBFR0crNjaWsYcHyv45mpCQoPj4eG3btk3PPPOMU59nn31Whw4d0smTJyVJmzdvVlJSklM/Pz8/1ahRw2Xs8VmN5N5//321bdtWRYoUcWrnvQ/pgXGHe5VhAvbhw4dVtGhRpzZfX1/lyZMnxWPAgDtlH0fJvwAUK1ZMCQkJOnHihKNfkSJF5Obm5tSvaNGijnnExsbqzJkzLmO2aNGicnNzY8xCO3bsUL58+eTj48PYw32XmJioa9euae/evfrss88UGhqqggUL6vjx40pISHAZL/bDaOzj5fDhw/L391eOHDlc+t08pvisRnKrVq1SeHi4+vTp4zKN9z7cT02aNFFQUJDq1aunqVOnOg5RYNzhXmVK7wJMiYyMlK+vr0t7jhw5dOXKlXSoCBmNfRwlH2f22/bpkZGRyp49u8v9c+TIoT///FOSHMckJp+Xl5eXsmbNyph9xG3fvl0rV67U4MGDJTH2cP/VrVtXZ8+elSTVqlVLY8eOlXTvY8/X19dpTPFZjZvFxcXpww8/1MCBA+Xj4+Mynfc+3A958uRRv379VK5cObm5uWn9+vUaN26czp49q+HDhzPucM8yTMAGgIzgn3/+0cCBA1W1alV17tw5vcvBI2LatGmKi4vTwYMHNWXKFPXs2VNffvllepeFDG7KlCny9/fXCy+8kN6l4BFSq1Yt1apVy3G7Zs2aypw5s2bPnq2ePXumY2XIKDLMLuK+vr4ulxWRbvzKlHyXNeBu2MdR8nEWGRnpNN3X11fR0dEu9795LNp/8Uw+r/j4eMXFxTFmH1GRkZF65ZVX5Ofnp4kTJzrOC8DYw/1WsmRJlS9fXq1atdLkyZO1bds2rVmz5p7HXmRkpNOY4rMadqdOndLMmTP16quvKioqSpGRkYqNjZV0Y7famJgY3vvwwDRq1EiJiYnav38/4w73LMME7JuPd7CLiorS+fPnXY57AO6GfRwlH2eHDx+Wp6enChUq5Oh35MgRl+sbHjlyxDEPb29vPf744y7zst+PMfvouXr1qnr06KGoqCh98cUXTrudMfbwIAUGBsrT01PHjx9XQECAPD09Uxx70v+NzaJFi+rChQsuuzsmP+aaz2rYnTx5UgkJCerevbsqV66sypUrO7Yedu7cWS+++CLvfUgXjDvcqwwTsGvXrq1ffvnF8euSdOPEGe7u7k5n9wPuVqFChfTEE0+4XPt15cqVqlatmuPskLVr19aVK1e0ZcsWR58jR45o3759ql27tqOtdu3aWrdunRISEpzm5evrq/Lly9/ntcHD5Pr16xowYIAOHz6sL774Qvny5XOaztjDg/THH38oISFBBQsWlJeXl6pWrarVq1c79Vm5cqWKFSumggULSrqxi6W7u7t++uknR58rV65o8+bNLmOPz2pIN66U8NVXXzn9Gzp0qCRpxIgReuedd3jvwwOzcuVKeXh4qFSpUow73LMMcwx227ZtNWfOHPXp00c9evTQ2bNnNXr0aLVt29blyyqQkri4OG3cuFHSjV3XoqOjHW+uVapUUa5cudSvXz+99tprCggIUNWqVbVy5Urt3r1bc+fOdcynfPnyqlmzpoYNG6bBgwcrc+bM+vTTTxUYGKgGDRo4+r388sv6/vvv9Z///Eft2rVTeHi4ZsyYoYEDBzpdygEZ34gRI7RhwwYNGTJE0dHR2rVrl2NaqVKl5OXlxdjDfdG3b1+VKVNGgYGBypIli/766y/NmDFDgYGBql+/viSpV69e6ty5s9599101atRI27Zt0w8//KBPP/3UMZ/HHntMLVu21OjRo+Xu7q58+fJp6tSpyp49u9q2bevox2c17Hx9fVW1atUUp5UuXVqlS5eWJN77YNzLL7+sqlWrKjAwUJK0bt06ffPNN+rcubPy5MkjiXGHe+NmJd+v4V/s0KFD+u9//6udO3cqW7Zsatq0KYMXaXby5EnVq1cvxWlfffWV44vAt99+q+nTp+v06dMqUqSIBg0apLp16zr1j4qK0qhRo7RmzRpdv35dNWvW1FtvveXyBfL333/Xhx9+qP379ytXrlzq0KGDXnnlFZdLPiBjCw0N1alTp1Kctm7dOsdWQsYeTJs2bZpWrlyp48ePy7IsFShQQE8//bRefvllp7M6r1u3TuPGjdORI0eUP39+de/eXS1btnSaV3x8vD799FMtX75cMTExqlChgt566y3HJb3s+KxGarZt26bOnTtr0aJFCg4OdrTz3geT3n//ff3888/6559/lJSUpCeeeEKtWrVSp06dnMYB4w53K0MFbAAAAAAA0kuGOQYbAAAAAID0RMAGAAAAAMAAAjYAAAAAAAYQsAEAAAAAMICADQAAAACAAQRsAAAAAAAMIGADAAAAAGAAARsAAAAAAAMI2ACAh0qnTp3UqVOn2/bbtm2bAgMDtW3bNmPLHjJkiEJDQ+/6/qGhoRoyZIixeu6HkydPKjAwUEuWLHG0TZw4UYGBgU79rl+/rtGjR6tOnToqWbKkevfuLUkKDAzUxIkTH2jNyT0MNQAAkJJM6V0AACD9HD9+XF988YXCwsJ07tw5eXp6ymazqVGjRmrTpo2yZMlyX5Z78OBB/fjjj2revLkKFix4X5aRkaxZs0YLFy7Unj17FBMTIz8/P1WsWFFt27ZVtWrV7ssyFy9erBkzZqhLly4qVaqU8ufPf1+WAwBARkLABoBH1P/+9z/1799fXl5eatq0qWw2mxISErRjxw59/PHHOnjwoP773//el2UfPHhQkyZNUpUqVVwC9owZM+7LMv+NLMvSsGHDtGTJEpUqVUovvviicufOrfPnz2vNmjXq2rWr5s+frwoVKtzTcnr16qXu3bs7tW3dulX58uXTsGHDnNp3794tDw+Pe1revXoYagAAICUEbAB4BJ04cUIDBw5U/vz5NXv2bOXNm9cxrUOHDjp27Jj+97//pUttXl5e6bLch9HMmTO1ZMkSdenSRUOHDpWbm5tjWq9evbRs2TJlynTvH+WZMmVymU9ERIR8fX1d+mbOnPmel3evHoYaAABICcdgA8Aj6IsvvlBsbKw++OADp3BtV7hwYXXp0sVxe/HixercubOqVaumMmXK6Nlnn9XXX3/tcr/Q0FD16NFD27dvV8uWLRUcHKx69epp2bJljj5LlixR//79JUmdO3dWYGCg07HUKR2D/c8//6h3794KCQlRtWrVNHLkSMXHx7ssf/v27Xr11Vf11FNPqUyZMqpTp45Gjhypq1evuvRdu3atmjRpouDgYDVp0kRr1qxJ24OnG1uWJ0+erNq1a6tcuXLq1KmTDhw4kGLfyMhIffDBB6pTp47KlCmjp59+WtOmTVNSUtItl3H16lVNmzZNRYsW1eDBg53CtV2zZs1UtmxZSdLly5f10Ucf6bnnnlP58uVVoUIFdevWTX/99ddt1+fmY7Dtx2hv27ZNBw4ccHl+Ujr++ezZsxo2bJhq1qypMmXKKDQ0VO+8847jObqT2q5du6aJEyeqYcOGCg4OVs2aNdW3b18dP37c0SelGvbt26du3bqpQoUKKl++vLp06aJdu3Y59VmyZIkCAwO1Y8cOjRo1Sk8++aRCQkLUp08fXbx40aWWjRs3qn379goJCVH58uXVvXt3l+f5/PnzGjp0qGrXrq0yZcqoZs2a6tWrl06ePHnbxx0AkPGwBRsAHkEbNmxQoUKF0rxr8fz581WiRAmFhoYqU6ZM2rBhg0aMGCHLstShQwenvseOHVP//v3VsmVLNW/eXIsXL9aQIUNUunRplShRQpUrV1anTp00Z84c9ezZU0WLFpUkFStWLMVlX716VV26dNGZM2fUqVMn5c2bV8uXL9fWrVtd+q5atUpXr15Vu3bt5Ofnp927d2vu3Ln6559/NGHCBEe/zZs3q1+/fipevLj+85//6NKlSxo6dKgee+yxND0e48eP15QpU1SnTh3VqVNHe/fu1UsvvaSEhASnfnFxcerYsaPOnj2rtm3b6vHHH9fOnTv1ySef6Pz583rzzTdTXcaOHTt0+fJlde7cOU27Q584cUJr167VM888o4IFC+rChQtauHChOnbsqBUrVihfvnxpWrdcuXJp9OjR+vzzzxUbG6tBgwZJSv35OXv2rFq2bKmoqCi1bt1aRYsW1dmzZ7V69WpdvXpVXl5eaa4tMTFRPXr00JYtW9S4cWN17txZMTExCgsLU3h4uAICAlKs4cCBA+rQoYOyZcumbt26KVOmTFq4cKE6deqkuXPnqly5ck7933//ffn6+qpv3746deqUZs+erffee0/jxo1z9Fm2bJmGDBmimjVr6rXXXlNcXJzmz5+v9u3ba+nSpY5DG/r166eDBw+qY8eOKlCggC5evKiwsDCdOXOG8wsAwKPIAgA8UqKioiybzWb16tUrzfeJi4tzaXvppZesevXqObXVrVvXstls1m+//eZoi4iIsMqUKWN9+OGHjrYff/zRstls1tatW13m27FjR6tjx46O27NmzbJsNpu1cuVKR1tsbKz19NNPu8wjpTqnTp1qBQYGWqdOnXK0NW3a1KpRo4YVGRnpaNu8ebNls9msunXrpvo42NendOnSVvfu3a2kpCRH+yeffGLZbDZr8ODBjrbPPvvMCgkJsY4cOeI0jzFjxlhBQUHW6dOnU13O7NmzLZvNZq1Zs+aW9dhdu3bNSkxMdGo7ceKEVaZMGWvSpElObTabzVq8eLGjbcKECZbNZnO6b8eOHa3GjRu7LMdms1kTJkxw3H7jjTeskiVLWrt373bpa3980lrbokWLLJvNZn355ZepziulGnr37m2VLl3aOn78uKPt7NmzVvny5a0OHTo42hYvXmzZbDara9euTvMbOXKkFRQU5BgP0dHRVqVKlay33nrLqYbz589bFStWdLRfuXLFstls1hdffOFSLwDg0cQu4gDwiImOjpYkZcuWLc33ufls4lFRUbp48aKqVKmiEydOKCoqyqlv8eLFValSJcftXLlyqUiRIjpx4sRd1btp0yblyZNHzzzzjKMta9asat269S3rjI2N1cWLF1W+fHlZlqV9+/ZJks6dO6f9+/erefPmyp49u6N/jRo1VLx48dvW88svvyghIUEdO3Z02m375l3q7VatWqWKFSvK19dXFy9edPyrXr26EhMT9dtvv6W6nDt9nry8vOTufuNjPTExUZcuXZK3t7eKFCniWHfTkpKStHbtWtWtW1fBwcEu0+2PT1pr++mnn5QzZ0517Ngx1Xkll5iYqLCwMNWvX1+FChVytOfNm1dNmjTRjh07HI+lXevWrZ3mV6lSJSUmJurUqVOSbjzHkZGRaty4sdPz5u7urnLlyjl2l8+SJYs8PT3166+/6sqVK2l6zAAAGRu7iAPAI8bHx0eSFBMTk+b77NixQxMnTtSuXbsUFxfnNC0qKsopqD7++OMu98+RI8ddB5BTp06pcOHCLgGrSJEiLn1Pnz6tCRMmaP369S7Ls4es06dPS7pxnHlyaQmj9vs/8cQTTu25cuVSjhw5nNqOHTumv//+O9VLaaV03K/dnT5PSUlJ+uqrr/T111/r5MmTSkxMdEzz8/NL0zzu1MWLFxUdHa0SJUoYqe348eMqUqTIHZ247eLFi4qLi0txPBQrVkxJSUk6c+aMU43JLzlmP5lbZGSkJOno0aOSUv7RRPq/58bLy0uvvfaaPvroI9WoUUPlypXTU089pWbNmilPnjxpXgcAQMZBwAaAR4yPj4/y5s2b6km5kjt+/Li6du2qokWLasiQIXr88cfl6empjRs3atasWS4n60qvyyclJibqxRdf1JUrV9StWzcVLVpU3t7eOnv2rIYMGXLbk4rdD0lJSapRo4a6deuW4vTkIf1m9mPT//77b9WvX/+2y/r88881fvx4vfDCC+rfv79y5Mghd3d3jRw5UpZl3VX9pjxstdm3pidnr8X+/+jRo1MMyjeP8a5duyo0NFRr167V5s2bNX78eE2bNk2zZ89WqVKl7kP1AICHGQEbAB5BdevW1cKFC7Vz506VL1/+ln3Xr1+v+Ph4TZkyxWnLn3032buR2u6+KSlQoIDCw8NlWZbT/Y4cOeLULzw8XEePHtVHH32kZs2aOdrDwsKc+tnX4dixYy7LSj7PlNjvf/ToUaddki9evOiy1TwgIECxsbGqXr36beebXMWKFZUjRw6tWLFCPXv2vO0PF6tXr1bVqlU1cuRIp/bIyEjlzJnzjpefFrly5ZKPj89tf6xJa20BAQH6448/lJCQIE9PzzTXkDVr1hSfu8OHD8vd3T3FvSpuxf68+vv7p+m5CwgI0EsvvaSXXnpJR48eVbNmzTRz5kyNGTPmjpYLAPj34xhsAHgEdevWTd7e3nrrrbd04cIFl+nHjx/X7NmzJf3f1rqbtzRGRUVp8eLFd738rFmzOuZzO7Vr19a5c+e0atUqR1tcXJy++eYbp372rZI312lZlr766iunfnnz5lVQUJCWLl3qtPywsDAdPHjwtvVUr15dnp6emjt3rtOy7I/XzRo1aqSdO3fq559/dpkWGRmp69evp7qcrFmzqlu3bjp06JDGjBmT4pbe5cuXa/fu3ZJuPE/J+/z44486e/bsbdfpbrm7u6t+/frasGGD9uzZ4zLdXk9aa2vQoIEuXbqkefPmpTqv5Dw8PFSjRg2tW7fO6dJYFy5c0A8//KCKFSs6dulOq1q1asnHx0dTp051OTO89H+79sfFxenatWtO0wICApQtW7YULyMHAMj42IINAI+ggIAAjRkzRgMHDtSzzz6rpk2bymazKT4+Xjt37tSqVavUokULSTdO/uXp6amePXuqbdu2iomJ0bfffit/f3+dP3/+rpYfFBQkDw8PTZ8+XVFRUfLy8tKTTz4pf39/l76tW7fWvHnzNHjwYO3du1d58uTR8uXLnU5oJt3YpTogIEAfffSRzp49Kx8fH61evdpxXO3NBg0apB49eqh9+/Z64YUXdPnyZc2dO1clSpRQbGzsLWvPlSuXXnrpJU2dOlU9evRQnTp1tG/fPm3atMllS/HLL7+s9evXq2fPnmrevLlKly6tuLg4hYeHa/Xq1Vq3bp1y5cqV6rK6deumgwcPaubMmdq2bZsaNmyo3Llz68KFC1q7dq12796tBQsWSJKeeuopffbZZxo6dKjKly+v8PBwff/9905b2e+HQYMGKSwsTJ06dVLr1q1VrFgxnT9/XqtWrdLXX38tX1/fNNfWrFkzLVu2TKNGjdLu3btVsWJFxcXFacuWLWrXrl2qu8oPGDBAv/zyi9q3b6/27dvLw8NDCxcuVHx8vF5//fU7XicfHx+9++67euONN9SiRQs9++yzypUrl06fPq2NGzeqQoUKGj58uI4ePaquXbvqmWeeUfHixeXh4aG1a9fqwoULaty48V09ngCAfzcCNgA8ourVq6fvvvtOM2bM0Lp16zR//nx5eXkpMDBQQ4YMcZylu2jRopowYYLGjRunjz76SLlz51a7du2UK1cuDRs27K6WnSdPHo0YMUJTp07Vm2++qcTERH311VcpBuysWbNq1qxZ+u9//6u5c+cqS5Yseu6551S7dm2nY5s9PT31+eef6/3339fUqVOVOXNmPf300+rQoYOaNm3qNM/atWtr/PjxGjdunMaOHauAgACNGjVK69at06+//nrb+gcMGCAvLy8tWLBA27ZtU9myZTVz5kz16NHDpfY5c+Zo6tSpWrVqlZYtWyYfHx898cQT6tevn9PJ4VLi7u6u0aNHq169evrmm280c+ZMRUdHK2fOnKpcubJef/11xy7+PXv2VFxcnL7//nutXLlSpUqV0tSpUzV27Njbrs+9yJcvn7755huNHz9e33//vaKjo5UvXz7Vrl3b8SNIWmuz/+gyZcoU/fDDD/rpp5/k5+enChUqKDAwMNUaSpQooXnz5mns2LGaOnWqLMtS2bJl9fHHH7tcAzutnnvuOeXNm1fTpk3TjBkzFB8fr3z58qlSpUqOH58ee+wxNW7cWFu2bNF3330nDw8PFS1aVOPGjVPDhg3varkAgH83Nyu9z3wCAAAAAEAGwDHYAAAAAAAYQMAGAAAAAMAAAjYAAAAAAAYQsAEAAAAAMICADQAAAACAAQRsAAAAAAAMIGADAAAAAGAAARsAAAAAAAMI2AAAAAAAGEDABgAAAADAAAI2AAAAAAAGELABAAAAADCAgA0AAAAAgAH/D0IBQDOgHzwPAAAAAElFTkSuQmCC"
     },
     "metadata": {},
     "output_type": "display_data"
    }
   ],
   "execution_count": 7
  },
  {
   "cell_type": "code",
<<<<<<< HEAD
=======
   "execution_count": 25,
>>>>>>> 86560a565858918d2b2ce5e4375781d2bf5214f4
   "id": "wKIANxv-OhKG",
   "metadata": {
    "colab": {
     "base_uri": "https://localhost:8080/",
     "height": 326
    },
    "id": "wKIANxv-OhKG",
    "outputId": "fba31950-daf0-4e8f-eaca-9e844437d418",
    "ExecuteTime": {
     "end_time": "2025-05-08T03:03:53.870562Z",
     "start_time": "2025-05-08T03:03:53.621789Z"
    }
   },
   "source": [
    "user_counts_trimmed = user_counts[user_counts <= 200]\n",
    "sns.histplot(user_counts_trimmed, bins=50, kde=False)\n",
    "plt.title(\"Usuarios con ≤ 200 Calificaciones\")\n",
    "plt.xlabel(\"Cantidad de Calificaciones\")\n",
    "plt.ylabel(\"Número de Usuarios\")\n",
    "plt.tight_layout()\n",
    "plt.show()\n"
   ],
   "outputs": [
    {
     "data": {
      "text/plain": [
       "<Figure size 1000x500 with 1 Axes>"
      ],
      "image/png": "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"
     },
     "metadata": {},
     "output_type": "display_data"
    }
   ],
   "execution_count": 8
  },
  {
   "cell_type": "code",
<<<<<<< HEAD
=======
   "execution_count": 26,
>>>>>>> 86560a565858918d2b2ce5e4375781d2bf5214f4
   "id": "ba1ac656",
   "metadata": {
    "colab": {
     "base_uri": "https://localhost:8080/",
     "height": 263
    },
    "id": "ba1ac656",
    "outputId": "dd0433ef-b9a7-4ac0-fedb-0b2bc5a4a99d",
    "ExecuteTime": {
     "end_time": "2025-05-08T03:03:54.101421Z",
     "start_time": "2025-05-08T03:03:53.879458Z"
    }
   },
   "source": [
    "movie_counts = df['movieId'].value_counts()\n",
    "plt.figure(figsize=(10, 4))\n",
    "sns.boxplot(x=movie_counts)\n",
    "plt.title(\"Distribución de Calificaciones por Película (Boxplot)\")\n",
    "plt.xlabel(\"Cantidad de Calificaciones\")\n",
    "plt.tight_layout()\n",
    "plt.show()"
   ],
   "outputs": [
    {
     "data": {
      "text/plain": [
       "<Figure size 1000x400 with 1 Axes>"
      ],
      "image/png": "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"
     },
     "metadata": {},
     "output_type": "display_data"
    }
   ],
   "execution_count": 9
  },
  {
   "cell_type": "code",
<<<<<<< HEAD
=======
   "execution_count": 27,
>>>>>>> 86560a565858918d2b2ce5e4375781d2bf5214f4
   "id": "2KhwaPmqPLDQ",
   "metadata": {
    "colab": {
     "base_uri": "https://localhost:8080/",
     "height": 326
    },
    "id": "2KhwaPmqPLDQ",
    "outputId": "d54cba90-56d4-4fce-c6e0-39b850c6d00b",
    "ExecuteTime": {
     "end_time": "2025-05-08T03:03:54.254172Z",
     "start_time": "2025-05-08T03:03:54.109845Z"
    }
   },
   "source": [
    "movie_counts_trimmed = movie_counts[movie_counts <= 100]\n",
    "\n",
    "plt.figure(figsize=(10, 5))\n",
    "sns.histplot(movie_counts_trimmed, bins=10, kde=False)\n",
    "plt.title(\"Películas con ≤ 100 Calificaciones\")\n",
    "plt.xlabel(\"Cantidad de Calificaciones\")\n",
    "plt.ylabel(\"Número de Películas\")\n",
    "plt.tight_layout()\n",
    "plt.show()"
   ],
   "outputs": [
    {
     "data": {
      "text/plain": [
       "<Figure size 1000x500 with 1 Axes>"
      ],
      "image/png": "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"
     },
     "metadata": {},
     "output_type": "display_data"
    }
   ],
   "execution_count": 10
  },
  {
   "cell_type": "markdown",
   "id": "a568cc26",
   "metadata": {},
   "source": [
    "## Estadisticas Descriptivas"
   ]
  },
  {
   "cell_type": "code",
   "execution_count": 28,
   "id": "382ffd35",
   "metadata": {},
   "outputs": [
    {
     "name": "stdout",
     "output_type": "stream",
     "text": [
      "Promedio del rating: 3.540314769204\n",
      "Desviación estándar: 1.0591155448302072\n",
      "Valor mínimo: 0.5  | Valor máximo: 5.0\n",
      "Usuarios únicos: 200384\n",
      "Películas únicas: 50879\n",
      "Película más calificada: 318\n",
      "Usuario más activo: 175325\n"
     ]
    }
   ],
   "source": [
    "print(\"Promedio del rating:\", df['rating'].mean())\n",
    "print(\"Desviación estándar:\", df['rating'].std())\n",
    "print(\"Valor mínimo:\", df['rating'].min(), \" | Valor máximo:\", df['rating'].max())\n",
    "\n",
    "print(\"Usuarios únicos:\", df['userId'].nunique())\n",
    "print(\"Películas únicas:\", df['movieId'].nunique())\n",
    "\n",
    "print(\"Película más calificada:\", df['movieId'].value_counts().idxmax())\n",
    "print(\"Usuario más activo:\", df['userId'].value_counts().idxmax())\n"
   ]
  },
  {
   "cell_type": "code",
   "execution_count": 29,
   "id": "dab8cca5",
   "metadata": {},
   "outputs": [
    {
     "name": "stdout",
     "output_type": "stream",
     "text": [
      "count    5.333368e+06\n",
      "mean     3.540315e+00\n",
      "std      1.059116e+00\n",
      "min      5.000000e-01\n",
      "25%      3.000000e+00\n",
      "50%      3.500000e+00\n",
      "75%      4.000000e+00\n",
      "max      5.000000e+00\n",
      "Name: rating, dtype: float64\n",
      "Desviación estándar del rating: 1.0591155448302072\n",
      "--------------------------\n",
      "Users who only rated 5:\n",
      "153053\n",
      "Users who only rated 0.5:\n",
      "26935\n"
     ]
    }
   ],
   "source": [
    "# Estadísticas\n",
    "print(df['rating'].describe())\n",
    "print(\"Desviación estándar del rating:\", df['rating'].std())\n",
    "\n",
    "# Usuarios extremos\n",
    "solo_5 = df[df['rating'] == 5]['userId'].value_counts()\n",
    "solo_0_5 = df[df['rating'] == 0.5]['userId'].value_counts()\n",
    "\n",
    "print(\"--------------------------\")\n",
    "\n",
    "print(\"Users who only rated 5:\")\n",
    "print(solo_5.count())\n",
    "print(\"Users who only rated 0.5:\")  \n",
    "print(solo_0_5.count())\n"
   ]
  },
  {
   "cell_type": "markdown",
   "id": "822f8e6a",
   "metadata": {},
   "source": [
    "## Analisis de Outliders"
   ]
  },
  {
   "cell_type": "code",
<<<<<<< HEAD
=======
   "execution_count": 30,
   "id": "7eb66896",
   "metadata": {},
   "outputs": [
    {
     "name": "stdout",
     "output_type": "stream",
     "text": [
      "Usuarios que solo votan con 5: 2809\n",
      "Usuarios que solo votan con 1: 161\n"
     ]
    }
   ],
   "source": [
    "user_rating_behavior = df.groupby('userId')['rating'].agg(['min', 'max']).reset_index()\n",
    "solo_5 = user_rating_behavior[user_rating_behavior['min'] == 5]\n",
    "solo_1 = user_rating_behavior[user_rating_behavior['max'] == 1]\n",
    "\n",
    "print(f\"Usuarios que solo votan con 5: {len(solo_5)}\")\n",
    "print(f\"Usuarios que solo votan con 1: {len(solo_1)}\")\n"
   ]
  },
  {
   "cell_type": "code",
   "execution_count": 31,
>>>>>>> 86560a565858918d2b2ce5e4375781d2bf5214f4
   "id": "1e6be8cd",
   "metadata": {
    "colab": {
     "base_uri": "https://localhost:8080/",
     "height": 356
    },
    "id": "1e6be8cd",
    "outputId": "abcf3687-0a1d-45df-9c61-7afb6590082f",
    "ExecuteTime": {
     "end_time": "2025-05-08T03:03:56.967733Z",
     "start_time": "2025-05-08T03:03:54.262167Z"
    }
   },
   "source": [
    "# Conversión de timestamp a fecha\n",
    "df['date'] = pd.to_datetime(df['timestamp'], unit='s')\n",
    "df['year'] = df['date'].dt.year\n",
    "\n",
    "# Evolución de calificaciones por año\n",
    "sns.histplot(df['year'], bins=30, kde=False)\n",
    "plt.title(\"Distribución de Calificaciones por Año\")\n",
    "plt.xlabel(\"Año\")\n",
    "plt.ylabel(\"Número de Calificaciones\")\n",
    "plt.show()"
   ],
   "outputs": [
    {
     "data": {
      "text/plain": [
       "<Figure size 1000x500 with 1 Axes>"
      ],
      "image/png": "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"
     },
     "metadata": {},
     "output_type": "display_data"
    }
   ],
   "execution_count": 11
  },
  {
   "metadata": {},
   "cell_type": "markdown",
   "source": "# Analisis estadistico",
   "id": "f6f3d4d8ce5a5ed"
  },
  {
   "metadata": {
    "ExecuteTime": {
     "end_time": "2025-05-08T03:03:57.912887Z",
     "start_time": "2025-05-08T03:03:56.976976Z"
    }
   },
   "cell_type": "code",
   "source": [
    "# Estadísticas generales del rating\n",
    "rating_stats = df['rating'].describe()\n",
    "print(\"Estadísticas de Ratings:\")\n",
    "print(rating_stats)\n",
    "\n",
    "# Desviación estándar\n",
    "std_rating = df['rating'].std()\n",
    "print(\"\\nDesviación estándar del rating:\", round(std_rating, 4))\n",
    "\n",
    "# Número total de usuarios únicos\n",
    "num_users = df['userId'].nunique()\n",
    "print(\"\\nTotal de usuarios únicos:\", num_users)\n",
    "\n",
    "# Número total de ítems únicos\n",
    "num_items = df['movieId'].nunique()\n",
    "print(\"Total de películas únicas:\", num_items)\n",
    "\n",
    "# Ítem más consumido\n",
    "top_item = df['movieId'].value_counts().idxmax()\n",
    "top_item_count = df['movieId'].value_counts().max()\n",
    "print(\"\\nPelícula más calificada:\", top_item, \"con\", top_item_count, \"calificaciones\")\n",
    "\n",
    "# Ítem menos consumido\n",
    "bottom_item = df['movieId'].value_counts().idxmin()\n",
    "bottom_item_count = df['movieId'].value_counts().min()\n",
    "print(\"Película menos calificada:\", bottom_item, \"con\", bottom_item_count, \"calificación\")\n",
    "\n",
    "# Usuario más activo\n",
    "top_user = df['userId'].value_counts().idxmax()\n",
    "top_user_count = df['userId'].value_counts().max()\n",
    "print(\"\\nUsuario más activo:\", top_user, \"con\", top_user_count, \"ratings\")\n",
    "\n",
    "# Usuario menos activo\n",
    "bottom_user = df['userId'].value_counts().idxmin()\n",
    "bottom_user_count = df['userId'].value_counts().min()\n",
    "print(\"Usuario menos activo:\", bottom_user, \"con\", bottom_user_count, \"rating\")\n"
   ],
   "id": "8c9fd978e9f9ad10",
   "outputs": [
    {
     "name": "stdout",
     "output_type": "stream",
     "text": [
      "Estadísticas de Ratings:\n",
      "count    5.333368e+06\n",
      "mean     3.540315e+00\n",
      "std      1.059116e+00\n",
      "min      5.000000e-01\n",
      "25%      3.000000e+00\n",
      "50%      3.500000e+00\n",
      "75%      4.000000e+00\n",
      "max      5.000000e+00\n",
      "Name: rating, dtype: float64\n",
      "\n",
      "Desviación estándar del rating: 1.0591\n",
      "\n",
      "Total de usuarios únicos: 200384\n",
      "Total de películas únicas: 50879\n",
      "\n",
      "Película más calificada: 318 con 17162 calificaciones\n",
      "Película menos calificada: 189869 con 1 calificación\n",
      "\n",
      "Usuario más activo: 175325 con 5507 ratings\n",
      "Usuario menos activo: 82023 con 1 rating\n"
     ]
    }
   ],
   "execution_count": 12
  },
  {
   "metadata": {},
   "cell_type": "markdown",
   "source": "# Analisis de outliers",
   "id": "68ef68bbc14848eb"
  },
  {
   "metadata": {
    "ExecuteTime": {
     "end_time": "2025-05-08T03:03:58.316096Z",
     "start_time": "2025-05-08T03:03:57.921435Z"
    }
   },
   "cell_type": "code",
   "source": [
    "# Usuarios que solo usan una calificación\n",
    "user_rating_unique_counts = df.groupby('userId')['rating'].nunique()\n",
    "\n",
    "# Usuarios que solo votan con 1 calificación única (posible outlier)\n",
    "outlier_users = user_rating_unique_counts[user_rating_unique_counts == 1]\n",
    "print(f\"Usuarios que solo usan un mismo valor de rating: {len(outlier_users)}\")\n",
    "\n",
    "# ¿Qué calificación específica usaron?\n",
    "outlier_details = df[df['userId'].isin(outlier_users.index)].groupby('userId')['rating'].first().value_counts()\n",
    "print(\"Distribución de rating único entre los outliers:\")\n",
    "print(outlier_details)\n",
    "\n",
    "# Usuarios que solo dan calificaciones altas o bajas (por ejemplo, solo 5.0 o solo 0.5)\n",
    "only_high = outlier_details.get(5.0, 0)\n",
    "only_low = outlier_details.get(0.5, 0)\n"
   ],
   "id": "d9f8e9e1e031362e",
   "outputs": [
    {
     "name": "stdout",
     "output_type": "stream",
     "text": [
      "Usuarios que solo usan un mismo valor de rating: 7104\n",
      "Distribución de rating único entre los outliers:\n",
      "rating\n",
      "5.0    2809\n",
      "4.0    1750\n",
      "3.0    1316\n",
      "4.5     388\n",
      "3.5     295\n",
      "2.0     174\n",
      "1.0     113\n",
      "2.5     105\n",
      "0.5     105\n",
      "1.5      49\n",
      "Name: count, dtype: int64\n"
     ]
    }
   ],
   "execution_count": 13
  },
  {
   "cell_type": "markdown",
   "id": "rZESRPb5T73V",
   "metadata": {
    "id": "rZESRPb5T73V"
   },
   "source": [
    "# Experimentos"
   ]
  },
  {
   "cell_type": "code",
<<<<<<< HEAD
=======
   "execution_count": 32,
>>>>>>> 86560a565858918d2b2ce5e4375781d2bf5214f4
   "id": "jzqXIKuCNqGu",
   "metadata": {
    "colab": {
     "base_uri": "https://localhost:8080/",
     "height": 790
    },
    "id": "jzqXIKuCNqGu",
<<<<<<< HEAD
    "outputId": "210cdf0e-152e-446c-9e2a-cce767ae0c43",
    "ExecuteTime": {
     "end_time": "2025-05-08T03:03:59.208426Z",
     "start_time": "2025-05-08T03:03:58.327645Z"
=======
    "outputId": "210cdf0e-152e-446c-9e2a-cce767ae0c43"
   },
   "outputs": [
    {
     "data": {
      "text/html": [
       "<div>\n",
       "<style scoped>\n",
       "    .dataframe tbody tr th:only-of-type {\n",
       "        vertical-align: middle;\n",
       "    }\n",
       "\n",
       "    .dataframe tbody tr th {\n",
       "        vertical-align: top;\n",
       "    }\n",
       "\n",
       "    .dataframe thead th {\n",
       "        text-align: right;\n",
       "    }\n",
       "</style>\n",
       "<table border=\"1\" class=\"dataframe\">\n",
       "  <thead>\n",
       "    <tr style=\"text-align: right;\">\n",
       "      <th></th>\n",
       "      <th>userId</th>\n",
       "      <th>movieId</th>\n",
       "      <th>rating</th>\n",
       "      <th>timestamp</th>\n",
       "      <th>date</th>\n",
       "      <th>year</th>\n",
       "      <th>month</th>\n",
       "      <th>weekday</th>\n",
       "    </tr>\n",
       "  </thead>\n",
       "  <tbody>\n",
       "    <tr>\n",
       "      <th>0</th>\n",
       "      <td>66954</td>\n",
       "      <td>780</td>\n",
       "      <td>3.0</td>\n",
       "      <td>850944100</td>\n",
       "      <td>1996-12-18 21:21:40</td>\n",
       "      <td>1996</td>\n",
       "      <td>12</td>\n",
       "      <td>2</td>\n",
       "    </tr>\n",
       "    <tr>\n",
       "      <th>1</th>\n",
       "      <td>9877</td>\n",
       "      <td>566</td>\n",
       "      <td>3.0</td>\n",
       "      <td>945497442</td>\n",
       "      <td>1999-12-18 06:10:42</td>\n",
       "      <td>1999</td>\n",
       "      <td>12</td>\n",
       "      <td>5</td>\n",
       "    </tr>\n",
       "    <tr>\n",
       "      <th>2</th>\n",
       "      <td>38348</td>\n",
       "      <td>1086</td>\n",
       "      <td>4.0</td>\n",
       "      <td>999975049</td>\n",
       "      <td>2001-09-08 18:50:49</td>\n",
       "      <td>2001</td>\n",
       "      <td>9</td>\n",
       "      <td>5</td>\n",
       "    </tr>\n",
       "    <tr>\n",
       "      <th>3</th>\n",
       "      <td>177202</td>\n",
       "      <td>1020</td>\n",
       "      <td>4.0</td>\n",
       "      <td>948169041</td>\n",
       "      <td>2000-01-18 04:17:21</td>\n",
       "      <td>2000</td>\n",
       "      <td>1</td>\n",
       "      <td>1</td>\n",
       "    </tr>\n",
       "    <tr>\n",
       "      <th>4</th>\n",
       "      <td>140400</td>\n",
       "      <td>275079</td>\n",
       "      <td>3.5</td>\n",
       "      <td>1653782463</td>\n",
       "      <td>2022-05-29 00:01:03</td>\n",
       "      <td>2022</td>\n",
       "      <td>5</td>\n",
       "      <td>6</td>\n",
       "    </tr>\n",
       "    <tr>\n",
       "      <th>...</th>\n",
       "      <td>...</td>\n",
       "      <td>...</td>\n",
       "      <td>...</td>\n",
       "      <td>...</td>\n",
       "      <td>...</td>\n",
       "      <td>...</td>\n",
       "      <td>...</td>\n",
       "      <td>...</td>\n",
       "    </tr>\n",
       "    <tr>\n",
       "      <th>5333363</th>\n",
       "      <td>58503</td>\n",
       "      <td>8961</td>\n",
       "      <td>4.0</td>\n",
       "      <td>1114211827</td>\n",
       "      <td>2005-04-22 23:17:07</td>\n",
       "      <td>2005</td>\n",
       "      <td>4</td>\n",
       "      <td>4</td>\n",
       "    </tr>\n",
       "    <tr>\n",
       "      <th>5333364</th>\n",
       "      <td>75529</td>\n",
       "      <td>2278</td>\n",
       "      <td>4.0</td>\n",
       "      <td>986630941</td>\n",
       "      <td>2001-04-07 08:09:01</td>\n",
       "      <td>2001</td>\n",
       "      <td>4</td>\n",
       "      <td>5</td>\n",
       "    </tr>\n",
       "    <tr>\n",
       "      <th>5333365</th>\n",
       "      <td>3245</td>\n",
       "      <td>36519</td>\n",
       "      <td>3.5</td>\n",
       "      <td>1312491655</td>\n",
       "      <td>2011-08-04 21:00:55</td>\n",
       "      <td>2011</td>\n",
       "      <td>8</td>\n",
       "      <td>3</td>\n",
       "    </tr>\n",
       "    <tr>\n",
       "      <th>5333366</th>\n",
       "      <td>49658</td>\n",
       "      <td>5690</td>\n",
       "      <td>5.0</td>\n",
       "      <td>1233266334</td>\n",
       "      <td>2009-01-29 21:58:54</td>\n",
       "      <td>2009</td>\n",
       "      <td>1</td>\n",
       "      <td>3</td>\n",
       "    </tr>\n",
       "    <tr>\n",
       "      <th>5333367</th>\n",
       "      <td>126078</td>\n",
       "      <td>6250</td>\n",
       "      <td>2.5</td>\n",
       "      <td>1067478148</td>\n",
       "      <td>2003-10-30 01:42:28</td>\n",
       "      <td>2003</td>\n",
       "      <td>10</td>\n",
       "      <td>3</td>\n",
       "    </tr>\n",
       "  </tbody>\n",
       "</table>\n",
       "<p>5333368 rows × 8 columns</p>\n",
       "</div>"
      ],
      "text/plain": [
       "         userId  movieId  rating   timestamp                date  year  month  \\\n",
       "0         66954      780     3.0   850944100 1996-12-18 21:21:40  1996     12   \n",
       "1          9877      566     3.0   945497442 1999-12-18 06:10:42  1999     12   \n",
       "2         38348     1086     4.0   999975049 2001-09-08 18:50:49  2001      9   \n",
       "3        177202     1020     4.0   948169041 2000-01-18 04:17:21  2000      1   \n",
       "4        140400   275079     3.5  1653782463 2022-05-29 00:01:03  2022      5   \n",
       "...         ...      ...     ...         ...                 ...   ...    ...   \n",
       "5333363   58503     8961     4.0  1114211827 2005-04-22 23:17:07  2005      4   \n",
       "5333364   75529     2278     4.0   986630941 2001-04-07 08:09:01  2001      4   \n",
       "5333365    3245    36519     3.5  1312491655 2011-08-04 21:00:55  2011      8   \n",
       "5333366   49658     5690     5.0  1233266334 2009-01-29 21:58:54  2009      1   \n",
       "5333367  126078     6250     2.5  1067478148 2003-10-30 01:42:28  2003     10   \n",
       "\n",
       "         weekday  \n",
       "0              2  \n",
       "1              5  \n",
       "2              5  \n",
       "3              1  \n",
       "4              6  \n",
       "...          ...  \n",
       "5333363        4  \n",
       "5333364        5  \n",
       "5333365        3  \n",
       "5333366        3  \n",
       "5333367        3  \n",
       "\n",
       "[5333368 rows x 8 columns]"
      ]
     },
     "execution_count": 32,
     "metadata": {},
     "output_type": "execute_result"
>>>>>>> 86560a565858918d2b2ce5e4375781d2bf5214f4
    }
   },
   "source": [
    "# 🔹 2. Convertir timestamp\n",
    "df['date'] = pd.to_datetime(df['timestamp'], unit='s')\n",
    "df['year'] = df['date'].dt.year\n",
    "df['month'] = df['date'].dt.month\n",
    "df['weekday'] = df['date'].dt.weekday"
   ],
   "outputs": [],
   "execution_count": 14
  },
  {
   "cell_type": "code",
<<<<<<< HEAD
   "id": "b23d975d",
   "metadata": {
    "ExecuteTime": {
     "end_time": "2025-05-08T03:04:00.131589Z",
     "start_time": "2025-05-08T03:03:59.217896Z"
=======
   "execution_count": 33,
   "id": "b23d975d",
   "metadata": {},
   "outputs": [
    {
     "data": {
      "text/html": [
       "<div>\n",
       "<style scoped>\n",
       "    .dataframe tbody tr th:only-of-type {\n",
       "        vertical-align: middle;\n",
       "    }\n",
       "\n",
       "    .dataframe tbody tr th {\n",
       "        vertical-align: top;\n",
       "    }\n",
       "\n",
       "    .dataframe thead th {\n",
       "        text-align: right;\n",
       "    }\n",
       "</style>\n",
       "<table border=\"1\" class=\"dataframe\">\n",
       "  <thead>\n",
       "    <tr style=\"text-align: right;\">\n",
       "      <th></th>\n",
       "      <th>userId</th>\n",
       "      <th>movieId</th>\n",
       "      <th>rating</th>\n",
       "      <th>timestamp</th>\n",
       "      <th>date</th>\n",
       "      <th>year</th>\n",
       "      <th>month</th>\n",
       "      <th>weekday</th>\n",
       "      <th>season</th>\n",
       "    </tr>\n",
       "  </thead>\n",
       "  <tbody>\n",
       "    <tr>\n",
       "      <th>0</th>\n",
       "      <td>66954</td>\n",
       "      <td>780</td>\n",
       "      <td>3.0</td>\n",
       "      <td>850944100</td>\n",
       "      <td>1996-12-18 21:21:40</td>\n",
       "      <td>1996</td>\n",
       "      <td>12</td>\n",
       "      <td>2</td>\n",
       "      <td>invierno</td>\n",
       "    </tr>\n",
       "    <tr>\n",
       "      <th>1</th>\n",
       "      <td>9877</td>\n",
       "      <td>566</td>\n",
       "      <td>3.0</td>\n",
       "      <td>945497442</td>\n",
       "      <td>1999-12-18 06:10:42</td>\n",
       "      <td>1999</td>\n",
       "      <td>12</td>\n",
       "      <td>5</td>\n",
       "      <td>invierno</td>\n",
       "    </tr>\n",
       "    <tr>\n",
       "      <th>2</th>\n",
       "      <td>38348</td>\n",
       "      <td>1086</td>\n",
       "      <td>4.0</td>\n",
       "      <td>999975049</td>\n",
       "      <td>2001-09-08 18:50:49</td>\n",
       "      <td>2001</td>\n",
       "      <td>9</td>\n",
       "      <td>5</td>\n",
       "      <td>otoño</td>\n",
       "    </tr>\n",
       "    <tr>\n",
       "      <th>3</th>\n",
       "      <td>177202</td>\n",
       "      <td>1020</td>\n",
       "      <td>4.0</td>\n",
       "      <td>948169041</td>\n",
       "      <td>2000-01-18 04:17:21</td>\n",
       "      <td>2000</td>\n",
       "      <td>1</td>\n",
       "      <td>1</td>\n",
       "      <td>invierno</td>\n",
       "    </tr>\n",
       "    <tr>\n",
       "      <th>4</th>\n",
       "      <td>140400</td>\n",
       "      <td>275079</td>\n",
       "      <td>3.5</td>\n",
       "      <td>1653782463</td>\n",
       "      <td>2022-05-29 00:01:03</td>\n",
       "      <td>2022</td>\n",
       "      <td>5</td>\n",
       "      <td>6</td>\n",
       "      <td>primavera</td>\n",
       "    </tr>\n",
       "    <tr>\n",
       "      <th>...</th>\n",
       "      <td>...</td>\n",
       "      <td>...</td>\n",
       "      <td>...</td>\n",
       "      <td>...</td>\n",
       "      <td>...</td>\n",
       "      <td>...</td>\n",
       "      <td>...</td>\n",
       "      <td>...</td>\n",
       "      <td>...</td>\n",
       "    </tr>\n",
       "    <tr>\n",
       "      <th>5333363</th>\n",
       "      <td>58503</td>\n",
       "      <td>8961</td>\n",
       "      <td>4.0</td>\n",
       "      <td>1114211827</td>\n",
       "      <td>2005-04-22 23:17:07</td>\n",
       "      <td>2005</td>\n",
       "      <td>4</td>\n",
       "      <td>4</td>\n",
       "      <td>primavera</td>\n",
       "    </tr>\n",
       "    <tr>\n",
       "      <th>5333364</th>\n",
       "      <td>75529</td>\n",
       "      <td>2278</td>\n",
       "      <td>4.0</td>\n",
       "      <td>986630941</td>\n",
       "      <td>2001-04-07 08:09:01</td>\n",
       "      <td>2001</td>\n",
       "      <td>4</td>\n",
       "      <td>5</td>\n",
       "      <td>primavera</td>\n",
       "    </tr>\n",
       "    <tr>\n",
       "      <th>5333365</th>\n",
       "      <td>3245</td>\n",
       "      <td>36519</td>\n",
       "      <td>3.5</td>\n",
       "      <td>1312491655</td>\n",
       "      <td>2011-08-04 21:00:55</td>\n",
       "      <td>2011</td>\n",
       "      <td>8</td>\n",
       "      <td>3</td>\n",
       "      <td>verano</td>\n",
       "    </tr>\n",
       "    <tr>\n",
       "      <th>5333366</th>\n",
       "      <td>49658</td>\n",
       "      <td>5690</td>\n",
       "      <td>5.0</td>\n",
       "      <td>1233266334</td>\n",
       "      <td>2009-01-29 21:58:54</td>\n",
       "      <td>2009</td>\n",
       "      <td>1</td>\n",
       "      <td>3</td>\n",
       "      <td>invierno</td>\n",
       "    </tr>\n",
       "    <tr>\n",
       "      <th>5333367</th>\n",
       "      <td>126078</td>\n",
       "      <td>6250</td>\n",
       "      <td>2.5</td>\n",
       "      <td>1067478148</td>\n",
       "      <td>2003-10-30 01:42:28</td>\n",
       "      <td>2003</td>\n",
       "      <td>10</td>\n",
       "      <td>3</td>\n",
       "      <td>otoño</td>\n",
       "    </tr>\n",
       "  </tbody>\n",
       "</table>\n",
       "<p>5333368 rows × 9 columns</p>\n",
       "</div>"
      ],
      "text/plain": [
       "         userId  movieId  rating   timestamp                date  year  month  \\\n",
       "0         66954      780     3.0   850944100 1996-12-18 21:21:40  1996     12   \n",
       "1          9877      566     3.0   945497442 1999-12-18 06:10:42  1999     12   \n",
       "2         38348     1086     4.0   999975049 2001-09-08 18:50:49  2001      9   \n",
       "3        177202     1020     4.0   948169041 2000-01-18 04:17:21  2000      1   \n",
       "4        140400   275079     3.5  1653782463 2022-05-29 00:01:03  2022      5   \n",
       "...         ...      ...     ...         ...                 ...   ...    ...   \n",
       "5333363   58503     8961     4.0  1114211827 2005-04-22 23:17:07  2005      4   \n",
       "5333364   75529     2278     4.0   986630941 2001-04-07 08:09:01  2001      4   \n",
       "5333365    3245    36519     3.5  1312491655 2011-08-04 21:00:55  2011      8   \n",
       "5333366   49658     5690     5.0  1233266334 2009-01-29 21:58:54  2009      1   \n",
       "5333367  126078     6250     2.5  1067478148 2003-10-30 01:42:28  2003     10   \n",
       "\n",
       "         weekday     season  \n",
       "0              2   invierno  \n",
       "1              5   invierno  \n",
       "2              5      otoño  \n",
       "3              1   invierno  \n",
       "4              6  primavera  \n",
       "...          ...        ...  \n",
       "5333363        4  primavera  \n",
       "5333364        5  primavera  \n",
       "5333365        3     verano  \n",
       "5333366        3   invierno  \n",
       "5333367        3      otoño  \n",
       "\n",
       "[5333368 rows x 9 columns]"
      ]
     },
     "execution_count": 33,
     "metadata": {},
     "output_type": "execute_result"
>>>>>>> 86560a565858918d2b2ce5e4375781d2bf5214f4
    }
   },
   "source": [
    "# 🔹 3. Codificar temporada, fin de semana y feriado\n",
    "def get_season(month):\n",
    "    if month in [12, 1, 2]:\n",
    "        return 'invierno'\n",
    "    elif month in [3, 4, 5]:\n",
    "        return 'primavera'\n",
    "    elif month in [6, 7, 8]:\n",
    "        return 'verano'\n",
    "    else:\n",
    "        return 'otoño'\n",
<<<<<<< HEAD
    "\n",
    "df['season'] = df['month'].apply(get_season)"
=======
    "    \n",
    "df['season'] = df['month'].apply(get_season)\n",
    "df"
   ]
  },
  {
   "cell_type": "code",
   "execution_count": 34,
   "id": "33b1b22b",
   "metadata": {},
   "outputs": [
    {
     "data": {
      "text/html": [
       "<div>\n",
       "<style scoped>\n",
       "    .dataframe tbody tr th:only-of-type {\n",
       "        vertical-align: middle;\n",
       "    }\n",
       "\n",
       "    .dataframe tbody tr th {\n",
       "        vertical-align: top;\n",
       "    }\n",
       "\n",
       "    .dataframe thead th {\n",
       "        text-align: right;\n",
       "    }\n",
       "</style>\n",
       "<table border=\"1\" class=\"dataframe\">\n",
       "  <thead>\n",
       "    <tr style=\"text-align: right;\">\n",
       "      <th></th>\n",
       "      <th>userId</th>\n",
       "      <th>movieId</th>\n",
       "      <th>rating</th>\n",
       "      <th>timestamp</th>\n",
       "      <th>date</th>\n",
       "      <th>year</th>\n",
       "      <th>month</th>\n",
       "      <th>weekday</th>\n",
       "      <th>season</th>\n",
       "      <th>is_weekend</th>\n",
       "    </tr>\n",
       "  </thead>\n",
       "  <tbody>\n",
       "    <tr>\n",
       "      <th>0</th>\n",
       "      <td>66954</td>\n",
       "      <td>780</td>\n",
       "      <td>3.0</td>\n",
       "      <td>850944100</td>\n",
       "      <td>1996-12-18 21:21:40</td>\n",
       "      <td>1996</td>\n",
       "      <td>12</td>\n",
       "      <td>2</td>\n",
       "      <td>invierno</td>\n",
       "      <td>False</td>\n",
       "    </tr>\n",
       "    <tr>\n",
       "      <th>1</th>\n",
       "      <td>9877</td>\n",
       "      <td>566</td>\n",
       "      <td>3.0</td>\n",
       "      <td>945497442</td>\n",
       "      <td>1999-12-18 06:10:42</td>\n",
       "      <td>1999</td>\n",
       "      <td>12</td>\n",
       "      <td>5</td>\n",
       "      <td>invierno</td>\n",
       "      <td>True</td>\n",
       "    </tr>\n",
       "    <tr>\n",
       "      <th>2</th>\n",
       "      <td>38348</td>\n",
       "      <td>1086</td>\n",
       "      <td>4.0</td>\n",
       "      <td>999975049</td>\n",
       "      <td>2001-09-08 18:50:49</td>\n",
       "      <td>2001</td>\n",
       "      <td>9</td>\n",
       "      <td>5</td>\n",
       "      <td>otoño</td>\n",
       "      <td>True</td>\n",
       "    </tr>\n",
       "    <tr>\n",
       "      <th>3</th>\n",
       "      <td>177202</td>\n",
       "      <td>1020</td>\n",
       "      <td>4.0</td>\n",
       "      <td>948169041</td>\n",
       "      <td>2000-01-18 04:17:21</td>\n",
       "      <td>2000</td>\n",
       "      <td>1</td>\n",
       "      <td>1</td>\n",
       "      <td>invierno</td>\n",
       "      <td>False</td>\n",
       "    </tr>\n",
       "    <tr>\n",
       "      <th>4</th>\n",
       "      <td>140400</td>\n",
       "      <td>275079</td>\n",
       "      <td>3.5</td>\n",
       "      <td>1653782463</td>\n",
       "      <td>2022-05-29 00:01:03</td>\n",
       "      <td>2022</td>\n",
       "      <td>5</td>\n",
       "      <td>6</td>\n",
       "      <td>primavera</td>\n",
       "      <td>True</td>\n",
       "    </tr>\n",
       "    <tr>\n",
       "      <th>...</th>\n",
       "      <td>...</td>\n",
       "      <td>...</td>\n",
       "      <td>...</td>\n",
       "      <td>...</td>\n",
       "      <td>...</td>\n",
       "      <td>...</td>\n",
       "      <td>...</td>\n",
       "      <td>...</td>\n",
       "      <td>...</td>\n",
       "      <td>...</td>\n",
       "    </tr>\n",
       "    <tr>\n",
       "      <th>5333363</th>\n",
       "      <td>58503</td>\n",
       "      <td>8961</td>\n",
       "      <td>4.0</td>\n",
       "      <td>1114211827</td>\n",
       "      <td>2005-04-22 23:17:07</td>\n",
       "      <td>2005</td>\n",
       "      <td>4</td>\n",
       "      <td>4</td>\n",
       "      <td>primavera</td>\n",
       "      <td>False</td>\n",
       "    </tr>\n",
       "    <tr>\n",
       "      <th>5333364</th>\n",
       "      <td>75529</td>\n",
       "      <td>2278</td>\n",
       "      <td>4.0</td>\n",
       "      <td>986630941</td>\n",
       "      <td>2001-04-07 08:09:01</td>\n",
       "      <td>2001</td>\n",
       "      <td>4</td>\n",
       "      <td>5</td>\n",
       "      <td>primavera</td>\n",
       "      <td>True</td>\n",
       "    </tr>\n",
       "    <tr>\n",
       "      <th>5333365</th>\n",
       "      <td>3245</td>\n",
       "      <td>36519</td>\n",
       "      <td>3.5</td>\n",
       "      <td>1312491655</td>\n",
       "      <td>2011-08-04 21:00:55</td>\n",
       "      <td>2011</td>\n",
       "      <td>8</td>\n",
       "      <td>3</td>\n",
       "      <td>verano</td>\n",
       "      <td>False</td>\n",
       "    </tr>\n",
       "    <tr>\n",
       "      <th>5333366</th>\n",
       "      <td>49658</td>\n",
       "      <td>5690</td>\n",
       "      <td>5.0</td>\n",
       "      <td>1233266334</td>\n",
       "      <td>2009-01-29 21:58:54</td>\n",
       "      <td>2009</td>\n",
       "      <td>1</td>\n",
       "      <td>3</td>\n",
       "      <td>invierno</td>\n",
       "      <td>False</td>\n",
       "    </tr>\n",
       "    <tr>\n",
       "      <th>5333367</th>\n",
       "      <td>126078</td>\n",
       "      <td>6250</td>\n",
       "      <td>2.5</td>\n",
       "      <td>1067478148</td>\n",
       "      <td>2003-10-30 01:42:28</td>\n",
       "      <td>2003</td>\n",
       "      <td>10</td>\n",
       "      <td>3</td>\n",
       "      <td>otoño</td>\n",
       "      <td>False</td>\n",
       "    </tr>\n",
       "  </tbody>\n",
       "</table>\n",
       "<p>5333368 rows × 10 columns</p>\n",
       "</div>"
      ],
      "text/plain": [
       "         userId  movieId  rating   timestamp                date  year  month  \\\n",
       "0         66954      780     3.0   850944100 1996-12-18 21:21:40  1996     12   \n",
       "1          9877      566     3.0   945497442 1999-12-18 06:10:42  1999     12   \n",
       "2         38348     1086     4.0   999975049 2001-09-08 18:50:49  2001      9   \n",
       "3        177202     1020     4.0   948169041 2000-01-18 04:17:21  2000      1   \n",
       "4        140400   275079     3.5  1653782463 2022-05-29 00:01:03  2022      5   \n",
       "...         ...      ...     ...         ...                 ...   ...    ...   \n",
       "5333363   58503     8961     4.0  1114211827 2005-04-22 23:17:07  2005      4   \n",
       "5333364   75529     2278     4.0   986630941 2001-04-07 08:09:01  2001      4   \n",
       "5333365    3245    36519     3.5  1312491655 2011-08-04 21:00:55  2011      8   \n",
       "5333366   49658     5690     5.0  1233266334 2009-01-29 21:58:54  2009      1   \n",
       "5333367  126078     6250     2.5  1067478148 2003-10-30 01:42:28  2003     10   \n",
       "\n",
       "         weekday     season  is_weekend  \n",
       "0              2   invierno       False  \n",
       "1              5   invierno        True  \n",
       "2              5      otoño        True  \n",
       "3              1   invierno       False  \n",
       "4              6  primavera        True  \n",
       "...          ...        ...         ...  \n",
       "5333363        4  primavera       False  \n",
       "5333364        5  primavera        True  \n",
       "5333365        3     verano       False  \n",
       "5333366        3   invierno       False  \n",
       "5333367        3      otoño       False  \n",
       "\n",
       "[5333368 rows x 10 columns]"
      ]
     },
     "execution_count": 34,
     "metadata": {},
     "output_type": "execute_result"
    }
>>>>>>> 86560a565858918d2b2ce5e4375781d2bf5214f4
   ],
   "outputs": [],
   "execution_count": 15
  },
  {
   "cell_type": "code",
   "id": "33b1b22b",
   "metadata": {
    "ExecuteTime": {
     "end_time": "2025-05-08T03:04:00.195721Z",
     "start_time": "2025-05-08T03:04:00.141118Z"
    }
   },
   "source": "df['is_weekend'] = df['weekday'].isin([5, 6])\n",
   "outputs": [],
   "execution_count": 16
  },
  {
   "cell_type": "code",
<<<<<<< HEAD
=======
   "execution_count": 35,
>>>>>>> 86560a565858918d2b2ce5e4375781d2bf5214f4
   "id": "a3b9dc2d",
   "metadata": {
    "ExecuteTime": {
     "end_time": "2025-05-08T03:04:00.806815Z",
     "start_time": "2025-05-08T03:04:00.206570Z"
    }
   },
   "source": [
    "ecu_holidays = holidays.Ecuador(years=range(df['year'].min(), df['year'].max() + 1))\n",
    "df['is_holiday'] = df['date'].isin(ecu_holidays)\n",
    "print(df[['season', 'is_weekend', 'is_holiday']].describe(include='all'))"
   ],
   "outputs": [
    {
     "name": "stderr",
     "output_type": "stream",
     "text": [
<<<<<<< HEAD
      "/tmp/ipykernel_6935/1045739521.py:2: FutureWarning: The behavior of 'isin' with dtype=datetime64[ns] and castable values (e.g. strings) is deprecated. In a future version, these will not be considered matching by isin. Explicitly cast to the appropriate dtype before calling isin instead.\n",
=======
      "C:\\Users\\s3_xc\\AppData\\Local\\Temp\\ipykernel_23060\\2658432674.py:2: FutureWarning: The behavior of 'isin' with dtype=datetime64[ns] and castable values (e.g. strings) is deprecated. In a future version, these will not be considered matching by isin. Explicitly cast to the appropriate dtype before calling isin instead.\n",
>>>>>>> 86560a565858918d2b2ce5e4375781d2bf5214f4
      "  df['is_holiday'] = df['date'].isin(ecu_holidays)\n"
     ]
    },
    {
     "name": "stdout",
     "output_type": "stream",
     "text": [
      "          season is_weekend is_holiday\n",
      "count    5333368    5333368    5333368\n",
      "unique         4          2          2\n",
      "top     invierno      False      False\n",
      "freq     1360697    3737820    5333366\n"
     ]
    }
   ],
   "execution_count": 17
  },
  {
   "metadata": {
    "ExecuteTime": {
     "end_time": "2025-05-08T03:04:00.985284Z",
     "start_time": "2025-05-08T03:04:00.818695Z"
    }
   },
   "cell_type": "code",
   "source": [
    "# 🔹 4. Codificación booleana y categórica\n",
    "df['season_encoded'] = df['season'].map({'invierno': 0, 'primavera': 1, 'verano': 2, 'otoño': 3})\n",
    "df['is_weekend'] = df['is_weekend'].astype(int)\n",
    "df['is_holiday'] = df['is_holiday'].astype(int)\n"
   ],
   "id": "93b8947f569c6665",
   "outputs": [],
   "execution_count": 18
  },
  {
   "cell_type": "code",
<<<<<<< HEAD
=======
   "execution_count": 36,
>>>>>>> 86560a565858918d2b2ce5e4375781d2bf5214f4
   "id": "f97c81ba",
   "metadata": {
    "ExecuteTime": {
     "end_time": "2025-05-08T03:04:05.941817Z",
     "start_time": "2025-05-08T03:04:00.994231Z"
    }
   },
   "source": [
    "# 🔹 5. Calcular rating_previous\n",
    "df = df.sort_values(['userId', 'timestamp'])\n",
    "df['rating_previous'] = df.groupby('userId')['rating'].shift().fillna(0)"
   ],
   "outputs": [],
   "execution_count": 19
  },
  {
   "cell_type": "code",
   "id": "c8e7da4b",
   "metadata": {
    "ExecuteTime": {
     "end_time": "2025-05-08T03:04:07.180819Z",
     "start_time": "2025-05-08T03:04:05.952310Z"
    }
   },
   "source": [
    "# 🔹 Asegurar que week_of_year sea int para el merge\n",
    "df['week_of_year'] = df['date'].dt.isocalendar().week.astype(int)\n",
    "\n",
    "# 🔹 Calcular consumo semanal\n",
    "consumo = df.groupby(['userId', 'week_of_year']).size().reset_index(name='consumo_semanal_usuario')\n",
    "df = pd.merge(df, consumo, on=['userId', 'week_of_year'], how='left')\n",
    "\n",
    "\n",
    "df['antiguedad_rating'] = 2025 - df['year']\n",
    "df['diferencia_rating_anterior'] = df['rating'] - df['rating_previous']\n",
    "df['diferencia_rating_anterior'].fillna(0, inplace=True)\n"
   ],
   "outputs": [
    {
     "name": "stderr",
     "output_type": "stream",
     "text": [
<<<<<<< HEAD
      "/tmp/ipykernel_6935/2385838130.py:11: FutureWarning: A value is trying to be set on a copy of a DataFrame or Series through chained assignment using an inplace method.\n",
=======
      "C:\\Users\\s3_xc\\AppData\\Local\\Temp\\ipykernel_23060\\2917305912.py:2: FutureWarning: A value is trying to be set on a copy of a DataFrame or Series through chained assignment using an inplace method.\n",
>>>>>>> 86560a565858918d2b2ce5e4375781d2bf5214f4
      "The behavior will change in pandas 3.0. This inplace method will never work because the intermediate object on which we are setting values always behaves as a copy.\n",
      "\n",
      "For example, when doing 'df[col].method(value, inplace=True)', try using 'df.method({col: value}, inplace=True)' or df[col] = df[col].method(value) instead, to perform the operation inplace on the original object.\n",
      "\n",
      "\n",
      "  df['diferencia_rating_anterior'].fillna(0, inplace=True)\n"
     ]
    }
   ],
   "execution_count": 20
  },
  {
   "cell_type": "code",
<<<<<<< HEAD
=======
   "execution_count": 37,
   "id": "c8e7da4b",
   "metadata": {},
   "outputs": [],
   "source": [
    "# 🔹 1. Codificación de variables categóricas/booleanas\n",
    "df['season_encoded'] = df['season'].map({'invierno': 0, 'primavera': 1, 'verano': 2, 'otoño': 3})\n",
    "df['is_weekend'] = df['is_weekend'].astype(int)\n",
    "df['is_holiday'] = df['is_holiday'].astype(int)\n"
   ]
  },
  {
   "cell_type": "code",
   "execution_count": 38,
>>>>>>> 86560a565858918d2b2ce5e4375781d2bf5214f4
   "id": "81ba1810",
   "metadata": {
    "ExecuteTime": {
     "end_time": "2025-05-08T03:04:07.683151Z",
     "start_time": "2025-05-08T03:04:07.192948Z"
    }
   },
   "source": [
    "# 🔹 7. Ingeniería UMAP\n",
    "temporal_features = ['year', 'month', 'weekday', 'season_encoded', 'is_weekend', 'is_holiday', 'rating_previous']\n",
    "X_scaled = StandardScaler().fit_transform(df[temporal_features])"
   ],
   "outputs": [],
   "execution_count": 21
  },
  {
   "cell_type": "code",
<<<<<<< HEAD
=======
   "execution_count": 39,
>>>>>>> 86560a565858918d2b2ce5e4375781d2bf5214f4
   "id": "0aa87359",
   "metadata": {
    "ExecuteTime": {
     "end_time": "2025-05-08T03:04:07.879260Z",
     "start_time": "2025-05-08T03:04:07.694582Z"
    }
   },
   "source": [
<<<<<<< HEAD
    "# UMAP sobre muestra aleatoria\n",
    "sample_size = 100_000\n",
=======
    "# Normalizar\n",
    "features = ['year', 'month', 'weekday', 'season_encoded', 'is_weekend', 'is_holiday', 'rating_previous']\n",
    "X_scaled = StandardScaler().fit_transform(df[features])"
   ]
  },
  {
   "cell_type": "code",
   "execution_count": 40,
   "id": "dc2757c3",
   "metadata": {},
   "outputs": [],
   "source": [
    "# ⚠️ Muestra aleatoria para entrenamiento de UMAP\n",
    "sample_size = 100_000  # ajustable según tu RAM\n",
>>>>>>> 86560a565858918d2b2ce5e4375781d2bf5214f4
    "sample_idx = np.random.choice(len(X_scaled), size=sample_size, replace=False)\n",
    "X_sample = X_scaled[sample_idx]"
   ],
   "outputs": [],
   "execution_count": 22
  },
  {
   "cell_type": "code",
<<<<<<< HEAD
   "id": "dc2757c3",
   "metadata": {
    "ExecuteTime": {
     "end_time": "2025-05-08T03:21:05.837606Z",
     "start_time": "2025-05-08T03:04:07.891666Z"
    }
   },
   "source": [
    "reducer = umap.UMAP(n_components=3, random_state=42, init='random', n_neighbors=15, min_dist=0.1)\n",
    "reducer.fit(X_sample)\n",
    "X_umap_full = reducer.transform(X_scaled)"
   ],
=======
   "execution_count": 41,
   "id": "2292c84a",
   "metadata": {},
>>>>>>> 86560a565858918d2b2ce5e4375781d2bf5214f4
   "outputs": [
    {
     "name": "stderr",
     "output_type": "stream",
     "text": [
      "/home/eduardo/PycharmProjects/Calculo_Entropia/.venv/lib/python3.10/site-packages/sklearn/utils/deprecation.py:151: FutureWarning: 'force_all_finite' was renamed to 'ensure_all_finite' in 1.6 and will be removed in 1.8.\n",
      "  warnings.warn(\n",
      "/home/eduardo/PycharmProjects/Calculo_Entropia/.venv/lib/python3.10/site-packages/umap/umap_.py:1952: UserWarning: n_jobs value 1 overridden to 1 by setting random_state. Use no seed for parallelism.\n",
      "  warn(\n",
      "/home/eduardo/PycharmProjects/Calculo_Entropia/.venv/lib/python3.10/site-packages/numba/np/ufunc/parallel.py:371: NumbaWarning: The TBB threading layer requires TBB version 2021 update 6 or later i.e., TBB_INTERFACE_VERSION >= 12060. Found TBB_INTERFACE_VERSION = 12050. The TBB threading layer is disabled.\n",
      "  warnings.warn(problem)\n",
      "/home/eduardo/PycharmProjects/Calculo_Entropia/.venv/lib/python3.10/site-packages/sklearn/utils/deprecation.py:151: FutureWarning: 'force_all_finite' was renamed to 'ensure_all_finite' in 1.6 and will be removed in 1.8.\n",
      "  warnings.warn(\n"
     ]
<<<<<<< HEAD
=======
    },
    {
     "data": {
      "text/html": [
       "<style>#sk-container-id-1 {\n",
       "  /* Definition of color scheme common for light and dark mode */\n",
       "  --sklearn-color-text: black;\n",
       "  --sklearn-color-line: gray;\n",
       "  /* Definition of color scheme for unfitted estimators */\n",
       "  --sklearn-color-unfitted-level-0: #fff5e6;\n",
       "  --sklearn-color-unfitted-level-1: #f6e4d2;\n",
       "  --sklearn-color-unfitted-level-2: #ffe0b3;\n",
       "  --sklearn-color-unfitted-level-3: chocolate;\n",
       "  /* Definition of color scheme for fitted estimators */\n",
       "  --sklearn-color-fitted-level-0: #f0f8ff;\n",
       "  --sklearn-color-fitted-level-1: #d4ebff;\n",
       "  --sklearn-color-fitted-level-2: #b3dbfd;\n",
       "  --sklearn-color-fitted-level-3: cornflowerblue;\n",
       "\n",
       "  /* Specific color for light theme */\n",
       "  --sklearn-color-text-on-default-background: var(--sg-text-color, var(--theme-code-foreground, var(--jp-content-font-color1, black)));\n",
       "  --sklearn-color-background: var(--sg-background-color, var(--theme-background, var(--jp-layout-color0, white)));\n",
       "  --sklearn-color-border-box: var(--sg-text-color, var(--theme-code-foreground, var(--jp-content-font-color1, black)));\n",
       "  --sklearn-color-icon: #696969;\n",
       "\n",
       "  @media (prefers-color-scheme: dark) {\n",
       "    /* Redefinition of color scheme for dark theme */\n",
       "    --sklearn-color-text-on-default-background: var(--sg-text-color, var(--theme-code-foreground, var(--jp-content-font-color1, white)));\n",
       "    --sklearn-color-background: var(--sg-background-color, var(--theme-background, var(--jp-layout-color0, #111)));\n",
       "    --sklearn-color-border-box: var(--sg-text-color, var(--theme-code-foreground, var(--jp-content-font-color1, white)));\n",
       "    --sklearn-color-icon: #878787;\n",
       "  }\n",
       "}\n",
       "\n",
       "#sk-container-id-1 {\n",
       "  color: var(--sklearn-color-text);\n",
       "}\n",
       "\n",
       "#sk-container-id-1 pre {\n",
       "  padding: 0;\n",
       "}\n",
       "\n",
       "#sk-container-id-1 input.sk-hidden--visually {\n",
       "  border: 0;\n",
       "  clip: rect(1px 1px 1px 1px);\n",
       "  clip: rect(1px, 1px, 1px, 1px);\n",
       "  height: 1px;\n",
       "  margin: -1px;\n",
       "  overflow: hidden;\n",
       "  padding: 0;\n",
       "  position: absolute;\n",
       "  width: 1px;\n",
       "}\n",
       "\n",
       "#sk-container-id-1 div.sk-dashed-wrapped {\n",
       "  border: 1px dashed var(--sklearn-color-line);\n",
       "  margin: 0 0.4em 0.5em 0.4em;\n",
       "  box-sizing: border-box;\n",
       "  padding-bottom: 0.4em;\n",
       "  background-color: var(--sklearn-color-background);\n",
       "}\n",
       "\n",
       "#sk-container-id-1 div.sk-container {\n",
       "  /* jupyter's `normalize.less` sets `[hidden] { display: none; }`\n",
       "     but bootstrap.min.css set `[hidden] { display: none !important; }`\n",
       "     so we also need the `!important` here to be able to override the\n",
       "     default hidden behavior on the sphinx rendered scikit-learn.org.\n",
       "     See: https://github.com/scikit-learn/scikit-learn/issues/21755 */\n",
       "  display: inline-block !important;\n",
       "  position: relative;\n",
       "}\n",
       "\n",
       "#sk-container-id-1 div.sk-text-repr-fallback {\n",
       "  display: none;\n",
       "}\n",
       "\n",
       "div.sk-parallel-item,\n",
       "div.sk-serial,\n",
       "div.sk-item {\n",
       "  /* draw centered vertical line to link estimators */\n",
       "  background-image: linear-gradient(var(--sklearn-color-text-on-default-background), var(--sklearn-color-text-on-default-background));\n",
       "  background-size: 2px 100%;\n",
       "  background-repeat: no-repeat;\n",
       "  background-position: center center;\n",
       "}\n",
       "\n",
       "/* Parallel-specific style estimator block */\n",
       "\n",
       "#sk-container-id-1 div.sk-parallel-item::after {\n",
       "  content: \"\";\n",
       "  width: 100%;\n",
       "  border-bottom: 2px solid var(--sklearn-color-text-on-default-background);\n",
       "  flex-grow: 1;\n",
       "}\n",
       "\n",
       "#sk-container-id-1 div.sk-parallel {\n",
       "  display: flex;\n",
       "  align-items: stretch;\n",
       "  justify-content: center;\n",
       "  background-color: var(--sklearn-color-background);\n",
       "  position: relative;\n",
       "}\n",
       "\n",
       "#sk-container-id-1 div.sk-parallel-item {\n",
       "  display: flex;\n",
       "  flex-direction: column;\n",
       "}\n",
       "\n",
       "#sk-container-id-1 div.sk-parallel-item:first-child::after {\n",
       "  align-self: flex-end;\n",
       "  width: 50%;\n",
       "}\n",
       "\n",
       "#sk-container-id-1 div.sk-parallel-item:last-child::after {\n",
       "  align-self: flex-start;\n",
       "  width: 50%;\n",
       "}\n",
       "\n",
       "#sk-container-id-1 div.sk-parallel-item:only-child::after {\n",
       "  width: 0;\n",
       "}\n",
       "\n",
       "/* Serial-specific style estimator block */\n",
       "\n",
       "#sk-container-id-1 div.sk-serial {\n",
       "  display: flex;\n",
       "  flex-direction: column;\n",
       "  align-items: center;\n",
       "  background-color: var(--sklearn-color-background);\n",
       "  padding-right: 1em;\n",
       "  padding-left: 1em;\n",
       "}\n",
       "\n",
       "\n",
       "/* Toggleable style: style used for estimator/Pipeline/ColumnTransformer box that is\n",
       "clickable and can be expanded/collapsed.\n",
       "- Pipeline and ColumnTransformer use this feature and define the default style\n",
       "- Estimators will overwrite some part of the style using the `sk-estimator` class\n",
       "*/\n",
       "\n",
       "/* Pipeline and ColumnTransformer style (default) */\n",
       "\n",
       "#sk-container-id-1 div.sk-toggleable {\n",
       "  /* Default theme specific background. It is overwritten whether we have a\n",
       "  specific estimator or a Pipeline/ColumnTransformer */\n",
       "  background-color: var(--sklearn-color-background);\n",
       "}\n",
       "\n",
       "/* Toggleable label */\n",
       "#sk-container-id-1 label.sk-toggleable__label {\n",
       "  cursor: pointer;\n",
       "  display: block;\n",
       "  width: 100%;\n",
       "  margin-bottom: 0;\n",
       "  padding: 0.5em;\n",
       "  box-sizing: border-box;\n",
       "  text-align: center;\n",
       "}\n",
       "\n",
       "#sk-container-id-1 label.sk-toggleable__label-arrow:before {\n",
       "  /* Arrow on the left of the label */\n",
       "  content: \"▸\";\n",
       "  float: left;\n",
       "  margin-right: 0.25em;\n",
       "  color: var(--sklearn-color-icon);\n",
       "}\n",
       "\n",
       "#sk-container-id-1 label.sk-toggleable__label-arrow:hover:before {\n",
       "  color: var(--sklearn-color-text);\n",
       "}\n",
       "\n",
       "/* Toggleable content - dropdown */\n",
       "\n",
       "#sk-container-id-1 div.sk-toggleable__content {\n",
       "  max-height: 0;\n",
       "  max-width: 0;\n",
       "  overflow: hidden;\n",
       "  text-align: left;\n",
       "  /* unfitted */\n",
       "  background-color: var(--sklearn-color-unfitted-level-0);\n",
       "}\n",
       "\n",
       "#sk-container-id-1 div.sk-toggleable__content.fitted {\n",
       "  /* fitted */\n",
       "  background-color: var(--sklearn-color-fitted-level-0);\n",
       "}\n",
       "\n",
       "#sk-container-id-1 div.sk-toggleable__content pre {\n",
       "  margin: 0.2em;\n",
       "  border-radius: 0.25em;\n",
       "  color: var(--sklearn-color-text);\n",
       "  /* unfitted */\n",
       "  background-color: var(--sklearn-color-unfitted-level-0);\n",
       "}\n",
       "\n",
       "#sk-container-id-1 div.sk-toggleable__content.fitted pre {\n",
       "  /* unfitted */\n",
       "  background-color: var(--sklearn-color-fitted-level-0);\n",
       "}\n",
       "\n",
       "#sk-container-id-1 input.sk-toggleable__control:checked~div.sk-toggleable__content {\n",
       "  /* Expand drop-down */\n",
       "  max-height: 200px;\n",
       "  max-width: 100%;\n",
       "  overflow: auto;\n",
       "}\n",
       "\n",
       "#sk-container-id-1 input.sk-toggleable__control:checked~label.sk-toggleable__label-arrow:before {\n",
       "  content: \"▾\";\n",
       "}\n",
       "\n",
       "/* Pipeline/ColumnTransformer-specific style */\n",
       "\n",
       "#sk-container-id-1 div.sk-label input.sk-toggleable__control:checked~label.sk-toggleable__label {\n",
       "  color: var(--sklearn-color-text);\n",
       "  background-color: var(--sklearn-color-unfitted-level-2);\n",
       "}\n",
       "\n",
       "#sk-container-id-1 div.sk-label.fitted input.sk-toggleable__control:checked~label.sk-toggleable__label {\n",
       "  background-color: var(--sklearn-color-fitted-level-2);\n",
       "}\n",
       "\n",
       "/* Estimator-specific style */\n",
       "\n",
       "/* Colorize estimator box */\n",
       "#sk-container-id-1 div.sk-estimator input.sk-toggleable__control:checked~label.sk-toggleable__label {\n",
       "  /* unfitted */\n",
       "  background-color: var(--sklearn-color-unfitted-level-2);\n",
       "}\n",
       "\n",
       "#sk-container-id-1 div.sk-estimator.fitted input.sk-toggleable__control:checked~label.sk-toggleable__label {\n",
       "  /* fitted */\n",
       "  background-color: var(--sklearn-color-fitted-level-2);\n",
       "}\n",
       "\n",
       "#sk-container-id-1 div.sk-label label.sk-toggleable__label,\n",
       "#sk-container-id-1 div.sk-label label {\n",
       "  /* The background is the default theme color */\n",
       "  color: var(--sklearn-color-text-on-default-background);\n",
       "}\n",
       "\n",
       "/* On hover, darken the color of the background */\n",
       "#sk-container-id-1 div.sk-label:hover label.sk-toggleable__label {\n",
       "  color: var(--sklearn-color-text);\n",
       "  background-color: var(--sklearn-color-unfitted-level-2);\n",
       "}\n",
       "\n",
       "/* Label box, darken color on hover, fitted */\n",
       "#sk-container-id-1 div.sk-label.fitted:hover label.sk-toggleable__label.fitted {\n",
       "  color: var(--sklearn-color-text);\n",
       "  background-color: var(--sklearn-color-fitted-level-2);\n",
       "}\n",
       "\n",
       "/* Estimator label */\n",
       "\n",
       "#sk-container-id-1 div.sk-label label {\n",
       "  font-family: monospace;\n",
       "  font-weight: bold;\n",
       "  display: inline-block;\n",
       "  line-height: 1.2em;\n",
       "}\n",
       "\n",
       "#sk-container-id-1 div.sk-label-container {\n",
       "  text-align: center;\n",
       "}\n",
       "\n",
       "/* Estimator-specific */\n",
       "#sk-container-id-1 div.sk-estimator {\n",
       "  font-family: monospace;\n",
       "  border: 1px dotted var(--sklearn-color-border-box);\n",
       "  border-radius: 0.25em;\n",
       "  box-sizing: border-box;\n",
       "  margin-bottom: 0.5em;\n",
       "  /* unfitted */\n",
       "  background-color: var(--sklearn-color-unfitted-level-0);\n",
       "}\n",
       "\n",
       "#sk-container-id-1 div.sk-estimator.fitted {\n",
       "  /* fitted */\n",
       "  background-color: var(--sklearn-color-fitted-level-0);\n",
       "}\n",
       "\n",
       "/* on hover */\n",
       "#sk-container-id-1 div.sk-estimator:hover {\n",
       "  /* unfitted */\n",
       "  background-color: var(--sklearn-color-unfitted-level-2);\n",
       "}\n",
       "\n",
       "#sk-container-id-1 div.sk-estimator.fitted:hover {\n",
       "  /* fitted */\n",
       "  background-color: var(--sklearn-color-fitted-level-2);\n",
       "}\n",
       "\n",
       "/* Specification for estimator info (e.g. \"i\" and \"?\") */\n",
       "\n",
       "/* Common style for \"i\" and \"?\" */\n",
       "\n",
       ".sk-estimator-doc-link,\n",
       "a:link.sk-estimator-doc-link,\n",
       "a:visited.sk-estimator-doc-link {\n",
       "  float: right;\n",
       "  font-size: smaller;\n",
       "  line-height: 1em;\n",
       "  font-family: monospace;\n",
       "  background-color: var(--sklearn-color-background);\n",
       "  border-radius: 1em;\n",
       "  height: 1em;\n",
       "  width: 1em;\n",
       "  text-decoration: none !important;\n",
       "  margin-left: 1ex;\n",
       "  /* unfitted */\n",
       "  border: var(--sklearn-color-unfitted-level-1) 1pt solid;\n",
       "  color: var(--sklearn-color-unfitted-level-1);\n",
       "}\n",
       "\n",
       ".sk-estimator-doc-link.fitted,\n",
       "a:link.sk-estimator-doc-link.fitted,\n",
       "a:visited.sk-estimator-doc-link.fitted {\n",
       "  /* fitted */\n",
       "  border: var(--sklearn-color-fitted-level-1) 1pt solid;\n",
       "  color: var(--sklearn-color-fitted-level-1);\n",
       "}\n",
       "\n",
       "/* On hover */\n",
       "div.sk-estimator:hover .sk-estimator-doc-link:hover,\n",
       ".sk-estimator-doc-link:hover,\n",
       "div.sk-label-container:hover .sk-estimator-doc-link:hover,\n",
       ".sk-estimator-doc-link:hover {\n",
       "  /* unfitted */\n",
       "  background-color: var(--sklearn-color-unfitted-level-3);\n",
       "  color: var(--sklearn-color-background);\n",
       "  text-decoration: none;\n",
       "}\n",
       "\n",
       "div.sk-estimator.fitted:hover .sk-estimator-doc-link.fitted:hover,\n",
       ".sk-estimator-doc-link.fitted:hover,\n",
       "div.sk-label-container:hover .sk-estimator-doc-link.fitted:hover,\n",
       ".sk-estimator-doc-link.fitted:hover {\n",
       "  /* fitted */\n",
       "  background-color: var(--sklearn-color-fitted-level-3);\n",
       "  color: var(--sklearn-color-background);\n",
       "  text-decoration: none;\n",
       "}\n",
       "\n",
       "/* Span, style for the box shown on hovering the info icon */\n",
       ".sk-estimator-doc-link span {\n",
       "  display: none;\n",
       "  z-index: 9999;\n",
       "  position: relative;\n",
       "  font-weight: normal;\n",
       "  right: .2ex;\n",
       "  padding: .5ex;\n",
       "  margin: .5ex;\n",
       "  width: min-content;\n",
       "  min-width: 20ex;\n",
       "  max-width: 50ex;\n",
       "  color: var(--sklearn-color-text);\n",
       "  box-shadow: 2pt 2pt 4pt #999;\n",
       "  /* unfitted */\n",
       "  background: var(--sklearn-color-unfitted-level-0);\n",
       "  border: .5pt solid var(--sklearn-color-unfitted-level-3);\n",
       "}\n",
       "\n",
       ".sk-estimator-doc-link.fitted span {\n",
       "  /* fitted */\n",
       "  background: var(--sklearn-color-fitted-level-0);\n",
       "  border: var(--sklearn-color-fitted-level-3);\n",
       "}\n",
       "\n",
       ".sk-estimator-doc-link:hover span {\n",
       "  display: block;\n",
       "}\n",
       "\n",
       "/* \"?\"-specific style due to the `<a>` HTML tag */\n",
       "\n",
       "#sk-container-id-1 a.estimator_doc_link {\n",
       "  float: right;\n",
       "  font-size: 1rem;\n",
       "  line-height: 1em;\n",
       "  font-family: monospace;\n",
       "  background-color: var(--sklearn-color-background);\n",
       "  border-radius: 1rem;\n",
       "  height: 1rem;\n",
       "  width: 1rem;\n",
       "  text-decoration: none;\n",
       "  /* unfitted */\n",
       "  color: var(--sklearn-color-unfitted-level-1);\n",
       "  border: var(--sklearn-color-unfitted-level-1) 1pt solid;\n",
       "}\n",
       "\n",
       "#sk-container-id-1 a.estimator_doc_link.fitted {\n",
       "  /* fitted */\n",
       "  border: var(--sklearn-color-fitted-level-1) 1pt solid;\n",
       "  color: var(--sklearn-color-fitted-level-1);\n",
       "}\n",
       "\n",
       "/* On hover */\n",
       "#sk-container-id-1 a.estimator_doc_link:hover {\n",
       "  /* unfitted */\n",
       "  background-color: var(--sklearn-color-unfitted-level-3);\n",
       "  color: var(--sklearn-color-background);\n",
       "  text-decoration: none;\n",
       "}\n",
       "\n",
       "#sk-container-id-1 a.estimator_doc_link.fitted:hover {\n",
       "  /* fitted */\n",
       "  background-color: var(--sklearn-color-fitted-level-3);\n",
       "}\n",
       "</style><div id=\"sk-container-id-1\" class=\"sk-top-container\"><div class=\"sk-text-repr-fallback\"><pre>UMAP(init=&#x27;random&#x27;, n_components=3, n_jobs=1, random_state=42, tqdm_kwds={&#x27;bar_format&#x27;: &#x27;{desc}: {percentage:3.0f}%| {bar} {n_fmt}/{total_fmt} [{elapsed}]&#x27;, &#x27;desc&#x27;: &#x27;Epochs completed&#x27;, &#x27;disable&#x27;: True})</pre><b>In a Jupyter environment, please rerun this cell to show the HTML representation or trust the notebook. <br />On GitHub, the HTML representation is unable to render, please try loading this page with nbviewer.org.</b></div><div class=\"sk-container\" hidden><div class=\"sk-item\"><div class=\"sk-estimator fitted sk-toggleable\"><input class=\"sk-toggleable__control sk-hidden--visually\" id=\"sk-estimator-id-1\" type=\"checkbox\" checked><label for=\"sk-estimator-id-1\" class=\"sk-toggleable__label fitted sk-toggleable__label-arrow fitted\">&nbsp;UMAP<span class=\"sk-estimator-doc-link fitted\">i<span>Fitted</span></span></label><div class=\"sk-toggleable__content fitted\"><pre>UMAP(init=&#x27;random&#x27;, n_components=3, n_jobs=1, random_state=42, tqdm_kwds={&#x27;bar_format&#x27;: &#x27;{desc}: {percentage:3.0f}%| {bar} {n_fmt}/{total_fmt} [{elapsed}]&#x27;, &#x27;desc&#x27;: &#x27;Epochs completed&#x27;, &#x27;disable&#x27;: True})</pre></div> </div></div></div></div>"
      ],
      "text/plain": [
       "UMAP(init='random', n_components=3, n_jobs=1, random_state=42, tqdm_kwds={'bar_format': '{desc}: {percentage:3.0f}%| {bar} {n_fmt}/{total_fmt} [{elapsed}]', 'desc': 'Epochs completed', 'disable': True})"
      ]
     },
     "execution_count": 41,
     "metadata": {},
     "output_type": "execute_result"
>>>>>>> 86560a565858918d2b2ce5e4375781d2bf5214f4
    }
   ],
   "execution_count": 23
  },
  {
   "cell_type": "code",
   "id": "2292c84a",
   "metadata": {
    "ExecuteTime": {
     "end_time": "2025-05-08T03:21:05.907405Z",
     "start_time": "2025-05-08T03:21:05.880981Z"
    }
   },
   "source": [
    "# Agregar latentes al dataframe\n",
    "df[['temporal_1', 'temporal_2', 'temporal_3']] = X_umap_full\n",
    "\n",
    "# 🔹 8. Seleccionar columnas finales para la RNN\n",
    "columns_to_keep = [\n",
    "    'userId', 'movieId',\n",
    "    'temporal_1', 'temporal_2', 'temporal_3',\n",
    "    'rating', 'timestamp',\n",
    "    'rating_previous', 'is_weekend', 'season_encoded', 'is_holiday',\n",
    "    'year', 'month', 'weekday',\n",
    "    'consumo_semanal_usuario', 'antiguedad_rating', 'diferencia_rating_anterior'\n",
    "]\n"
   ],
   "outputs": [],
   "execution_count": 24
  },
  {
   "cell_type": "code",
<<<<<<< HEAD
=======
   "execution_count": 42,
>>>>>>> 86560a565858918d2b2ce5e4375781d2bf5214f4
   "id": "b94c2359",
   "metadata": {
    "ExecuteTime": {
     "end_time": "2025-05-08T03:21:29.082499Z",
     "start_time": "2025-05-08T03:21:05.979890Z"
    }
   },
   "source": [
    "df_rnn_final = df[columns_to_keep]\n",
    "\n",
    "# 🔹 9. Guardar dataset final\n",
    "df_rnn_final.to_csv(\"dataset_final.csv\", index=False)\n",
    "print(\"✅ Dataset RNN FINAL generado exitosamente.\")"
   ],
   "outputs": [
    {
     "name": "stdout",
     "output_type": "stream",
     "text": [
      "✅ Dataset RNN FINAL generado exitosamente.\n"
     ]
    }
   ],
   "execution_count": 25
  },
  {
   "cell_type": "code",
<<<<<<< HEAD
   "id": "8c8c1384",
   "metadata": {
    "ExecuteTime": {
     "end_time": "2025-05-08T03:21:29.090910Z",
     "start_time": "2025-05-08T03:21:29.088793Z"
    }
   },
   "source": [],
=======
   "execution_count": 43,
   "id": "578e3eb6",
   "metadata": {},
   "outputs": [],
   "source": [
    "columns_to_keep = ['userId', 'movieId', 'temporal_1', 'temporal_2', 'temporal_3', 'rating']\n",
    "df_rnn_ready = df[columns_to_keep]\n",
    "\n",
    "# Guardar dataset limpio para la RNN\n",
    "df_rnn_ready.to_csv(\"dataset_rnn_ready.csv\", index=False)\n"
   ]
  },
  {
   "cell_type": "code",
   "execution_count": 44,
   "id": "4cad54d2",
   "metadata": {},
   "outputs": [
    {
     "data": {
      "text/html": [
       "<div>\n",
       "<style scoped>\n",
       "    .dataframe tbody tr th:only-of-type {\n",
       "        vertical-align: middle;\n",
       "    }\n",
       "\n",
       "    .dataframe tbody tr th {\n",
       "        vertical-align: top;\n",
       "    }\n",
       "\n",
       "    .dataframe thead th {\n",
       "        text-align: right;\n",
       "    }\n",
       "</style>\n",
       "<table border=\"1\" class=\"dataframe\">\n",
       "  <thead>\n",
       "    <tr style=\"text-align: right;\">\n",
       "      <th></th>\n",
       "      <th>userId</th>\n",
       "      <th>movieId</th>\n",
       "      <th>temporal_1</th>\n",
       "      <th>temporal_2</th>\n",
       "      <th>temporal_3</th>\n",
       "      <th>rating</th>\n",
       "    </tr>\n",
       "  </thead>\n",
       "  <tbody>\n",
       "    <tr>\n",
       "      <th>0</th>\n",
       "      <td>66954</td>\n",
       "      <td>780</td>\n",
       "      <td>0.525501</td>\n",
       "      <td>3.133001</td>\n",
       "      <td>6.159348</td>\n",
       "      <td>3.0</td>\n",
       "    </tr>\n",
       "    <tr>\n",
       "      <th>1</th>\n",
       "      <td>9877</td>\n",
       "      <td>566</td>\n",
       "      <td>-1.472224</td>\n",
       "      <td>15.369818</td>\n",
       "      <td>-1.053923</td>\n",
       "      <td>3.0</td>\n",
       "    </tr>\n",
       "    <tr>\n",
       "      <th>2</th>\n",
       "      <td>38348</td>\n",
       "      <td>1086</td>\n",
       "      <td>6.636450</td>\n",
       "      <td>6.637693</td>\n",
       "      <td>2.580070</td>\n",
       "      <td>4.0</td>\n",
       "    </tr>\n",
       "    <tr>\n",
       "      <th>3</th>\n",
       "      <td>177202</td>\n",
       "      <td>1020</td>\n",
       "      <td>4.658584</td>\n",
       "      <td>9.317274</td>\n",
       "      <td>3.417442</td>\n",
       "      <td>4.0</td>\n",
       "    </tr>\n",
       "    <tr>\n",
       "      <th>4</th>\n",
       "      <td>140400</td>\n",
       "      <td>275079</td>\n",
       "      <td>1.775986</td>\n",
       "      <td>6.858235</td>\n",
       "      <td>9.127460</td>\n",
       "      <td>3.5</td>\n",
       "    </tr>\n",
       "    <tr>\n",
       "      <th>...</th>\n",
       "      <td>...</td>\n",
       "      <td>...</td>\n",
       "      <td>...</td>\n",
       "      <td>...</td>\n",
       "      <td>...</td>\n",
       "      <td>...</td>\n",
       "    </tr>\n",
       "    <tr>\n",
       "      <th>5333363</th>\n",
       "      <td>58503</td>\n",
       "      <td>8961</td>\n",
       "      <td>15.252467</td>\n",
       "      <td>-3.368014</td>\n",
       "      <td>0.478582</td>\n",
       "      <td>4.0</td>\n",
       "    </tr>\n",
       "    <tr>\n",
       "      <th>5333364</th>\n",
       "      <td>75529</td>\n",
       "      <td>2278</td>\n",
       "      <td>16.990820</td>\n",
       "      <td>8.080815</td>\n",
       "      <td>1.536990</td>\n",
       "      <td>4.0</td>\n",
       "    </tr>\n",
       "    <tr>\n",
       "      <th>5333365</th>\n",
       "      <td>3245</td>\n",
       "      <td>36519</td>\n",
       "      <td>2.817215</td>\n",
       "      <td>-4.098837</td>\n",
       "      <td>2.576210</td>\n",
       "      <td>3.5</td>\n",
       "    </tr>\n",
       "    <tr>\n",
       "      <th>5333366</th>\n",
       "      <td>49658</td>\n",
       "      <td>5690</td>\n",
       "      <td>-4.100623</td>\n",
       "      <td>1.078507</td>\n",
       "      <td>13.098012</td>\n",
       "      <td>5.0</td>\n",
       "    </tr>\n",
       "    <tr>\n",
       "      <th>5333367</th>\n",
       "      <td>126078</td>\n",
       "      <td>6250</td>\n",
       "      <td>15.602806</td>\n",
       "      <td>10.021491</td>\n",
       "      <td>8.208865</td>\n",
       "      <td>2.5</td>\n",
       "    </tr>\n",
       "  </tbody>\n",
       "</table>\n",
       "<p>5333368 rows × 6 columns</p>\n",
       "</div>"
      ],
      "text/plain": [
       "         userId  movieId  temporal_1  temporal_2  temporal_3  rating\n",
       "0         66954      780    0.525501    3.133001    6.159348     3.0\n",
       "1          9877      566   -1.472224   15.369818   -1.053923     3.0\n",
       "2         38348     1086    6.636450    6.637693    2.580070     4.0\n",
       "3        177202     1020    4.658584    9.317274    3.417442     4.0\n",
       "4        140400   275079    1.775986    6.858235    9.127460     3.5\n",
       "...         ...      ...         ...         ...         ...     ...\n",
       "5333363   58503     8961   15.252467   -3.368014    0.478582     4.0\n",
       "5333364   75529     2278   16.990820    8.080815    1.536990     4.0\n",
       "5333365    3245    36519    2.817215   -4.098837    2.576210     3.5\n",
       "5333366   49658     5690   -4.100623    1.078507   13.098012     5.0\n",
       "5333367  126078     6250   15.602806   10.021491    8.208865     2.5\n",
       "\n",
       "[5333368 rows x 6 columns]"
      ]
     },
     "execution_count": 44,
     "metadata": {},
     "output_type": "execute_result"
    }
   ],
   "source": [
    "df_rnn_ready"
   ]
  },
  {
   "cell_type": "code",
   "execution_count": null,
   "id": "0903bea5",
   "metadata": {},
>>>>>>> 86560a565858918d2b2ce5e4375781d2bf5214f4
   "outputs": [],
   "execution_count": null
  }
 ],
 "metadata": {
  "colab": {
   "provenance": []
  },
  "kernelspec": {
   "display_name": "Python 3",
   "language": "python",
   "name": "python3"
  },
  "language_info": {
   "codemirror_mode": {
    "name": "ipython",
    "version": 3
   },
   "file_extension": ".py",
   "mimetype": "text/x-python",
   "name": "python",
   "nbconvert_exporter": "python",
   "pygments_lexer": "ipython3",
   "version": "3.12.4"
  }
 },
 "nbformat": 4,
 "nbformat_minor": 5
}
