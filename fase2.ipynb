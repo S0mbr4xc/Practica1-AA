{
 "cells": [
  {
   "cell_type": "markdown",
   "id": "87cb46ed9761fb5c",
   "metadata": {},
   "source": [
    "\n",
    "import pandas as pd\n",
    "import numpy as np\n",
    "from fastFM import sgd\n",
    "from sklearn.model_selection import train_test_split\n",
    "from sklearn.preprocessing import StandardScaler\n",
    "from sklearn.metrics import mean_squared_error\n",
    "from scipy import sparse\n",
    "\n",
    "df = pd.read_csv(\"dataset_final.csv\")\n",
    "\n",
    "X = df[['temporal_1', 'temporal_2', 'temporal_3']]\n",
    "y = df['rating']\n",
    "\n",
    "# 🔹 3. Normalizar features\n",
    "scaler = StandardScaler()\n",
    "X_scaled = scaler.fit_transform(X)\n",
    "\n",
    "# Convertir a sparse matrix (porque fastFM necesita sparse)\n",
    "X_sparse = sparse.csr_matrix(X_scaled)\n",
    "\n",
    "# 🔹 4. Separar en entrenamiento y prueba\n",
    "X_train, X_test, y_train, y_test = train_test_split(X_sparse, y, test_size=0.2, random_state=42)\n",
    "\n",
    "# 🔹 5. Crear el modelo Factorization Machine\n",
    "fm = sgd.FMRegression(n_iter=1000, init_stdev=0.1, l2_reg_w=0.1, l2_reg_V=0.5, rank=8, random_state=42)\n",
    "\n",
    "# 🔹 6. Entrenar el modelo\n",
    "fm.fit(X_train, y_train)\n",
    "\n",
    "# 🔹 7. Predecir\n",
    "y_pred = fm.predict(X_test)\n",
    "\n",
    "# 🔹 8. Evaluar con RMSE\n",
    "rmse = np.sqrt(mean_squared_error(y_test, y_pred))\n",
    "print(f\"\\n🔍 RMSE obtenido en test: {rmse:.4f}\")\n",
    "\n"
   ]
  },
  {
   "cell_type": "code",
   "execution_count": 33,
   "id": "c00wzqmtez-9",
   "metadata": {
    "ExecuteTime": {
     "end_time": "2025-05-22T00:55:41.127069Z",
     "start_time": "2025-05-22T00:37:53.486655Z"
    },
    "id": "c00wzqmtez-9"
   },
   "outputs": [
    {
     "name": "stdout",
     "output_type": "stream",
     "text": [
      "Datos cargados:\n"
     ]
    }
   ],
   "source": [
    "import pandas as pd\n",
    "import numpy as np\n",
    "from sklearn.metrics import mean_squared_error, mean_absolute_error\n",
    "\n",
    "# Ruta del archivo CSV\n",
    "csv_path = \"dataset_final_2.csv\"\n",
    "\n",
    "# Cargar el DataFrame\n",
    "df_rnn_final = pd.read_csv(csv_path)\n",
    "\n",
    "# Mostrar primeras filas para verificar\n",
    "print(\"Datos cargados:\")\n",
    "# Seleccionar solo las columnas numéricas que usaremos como input\n",
    "features_columns = [\n",
    "    'temporal_1', 'temporal_2', 'temporal_3',\n",
    "    'is_weekend', 'season_encoded', 'is_holiday',\n",
    "    'year', 'month', 'weekday',\n",
    "    'consumo_semanal_usuario'\n",
    "]\n",
    "\n",
    "# Opcional: agrega rating_previous si lo calculaste\n",
    "# features_columns.append('rating_previous')\n",
    "\n",
    "X = df_rnn_final[features_columns].values\n",
    "y = df_rnn_final['rating'].values  # El objetivo a predecir\n",
    "from collections import defaultdict\n",
    "\n",
    "# Diccionario para guardar secuencias por usuario\n",
    "user_sequences = defaultdict(list)\n",
    "user_targets = defaultdict(list)\n",
    "\n",
    "# Recorremos todo el dataset y vamos guardando por usuario\n",
    "for idx, row in df_rnn_final.iterrows():\n",
    "    user_id = row['userId']\n",
    "    x = row[features_columns].values\n",
    "    target = row['rating']\n",
    "\n",
    "    user_sequences[user_id].append(x)\n",
    "    user_targets[user_id].append(target)\n"
   ]
  },
  {
   "cell_type": "code",
   "execution_count": 34,
   "id": "C_LH47qRe89p",
   "metadata": {
    "ExecuteTime": {
     "end_time": "2025-05-22T01:02:23.246094Z",
     "start_time": "2025-05-22T01:02:15.864092Z"
    },
    "id": "C_LH47qRe89p"
   },
   "outputs": [
    {
     "name": "stdout",
     "output_type": "stream",
     "text": [
      "Forma de X_padded: (200384, 50, 10)\n",
      "Forma de y: (200384,)\n"
     ]
    }
   ],
   "source": [
    "from tensorflow.keras.preprocessing.sequence import pad_sequences\n",
    "\n",
    "# Convertimos a listas\n",
    "sequences_list = list(user_sequences.values())\n",
    "targets_list = np.array([t[-1] for t in user_targets.values()])\n",
    "\n",
    "# Padding (rellenar con ceros al inicio)\n",
    "maxlen = 50  # Máximo 50 interacciones por usuario\n",
    "X_padded = pad_sequences(sequences_list, maxlen=maxlen, padding='pre', dtype='float32')\n",
    "\n",
    "print(\"Forma de X_padded:\", X_padded.shape)\n",
    "print(\"Forma de y:\", targets_list.shape)\n",
    "\n",
    "from sklearn.model_selection import train_test_split\n",
    "\n",
    "X_train, X_test, y_train, y_test = train_test_split(X_padded, targets_list, test_size=0.2, random_state=42)\n",
    "\n"
   ]
  },
  {
   "cell_type": "code",
   "execution_count": 35,
   "id": "698c_p_HfBB9",
   "metadata": {
    "ExecuteTime": {
     "end_time": "2025-05-22T01:28:27.732311Z",
     "start_time": "2025-05-22T01:09:06.770800Z"
    },
    "id": "698c_p_HfBB9"
   },
   "outputs": [
    {
     "name": "stdout",
     "output_type": "stream",
     "text": [
      "Model: \"sequential\"\n",
      "_________________________________________________________________\n",
      " Layer (type)                Output Shape              Param #   \n",
      "=================================================================\n",
      " masking (Masking)           (None, 50, 10)            0         \n",
      "                                                                 \n",
      " lstm (LSTM)                 (None, 64)                19200     \n",
      "                                                                 \n",
      " dropout (Dropout)           (None, 64)                0         \n",
      "                                                                 \n",
      " dense_1 (Dense)             (None, 1)                 65        \n",
      "                                                                 \n",
      "=================================================================\n",
      "Total params: 19265 (75.25 KB)\n",
      "Trainable params: 19265 (75.25 KB)\n",
      "Non-trainable params: 0 (0.00 Byte)\n",
      "_________________________________________________________________\n",
      "Epoch 1/5\n"
     ]
    },
    {
     "name": "stderr",
     "output_type": "stream",
     "text": [
      "2025-05-21 22:59:48.452499: W tensorflow/core/common_runtime/type_inference.cc:339] Type inference failed. This indicates an invalid graph that escaped type checking. Error message: INVALID_ARGUMENT: expected compatible input types, but input 1:\n",
      "type_id: TFT_OPTIONAL\n",
      "args {\n",
      "  type_id: TFT_PRODUCT\n",
      "  args {\n",
      "    type_id: TFT_TENSOR\n",
      "    args {\n",
      "      type_id: TFT_INT32\n",
      "    }\n",
      "  }\n",
      "}\n",
      " is neither a subtype nor a supertype of the combined inputs preceding it:\n",
      "type_id: TFT_OPTIONAL\n",
      "args {\n",
      "  type_id: TFT_PRODUCT\n",
      "  args {\n",
      "    type_id: TFT_TENSOR\n",
      "    args {\n",
      "      type_id: TFT_FLOAT\n",
      "    }\n",
      "  }\n",
      "}\n",
      "\n",
      "\tfor Tuple type infernce function 0\n",
      "\twhile inferring type of node 'cond_36/output/_23'\n"
     ]
    },
    {
     "name": "stdout",
     "output_type": "stream",
     "text": [
      "2505/2505 [==============================] - 223s 88ms/step - loss: 1.6205 - mae: 1.0163 - val_loss: 1.1217 - val_mae: 0.8562\n",
      "Epoch 2/5\n",
      "2505/2505 [==============================] - 222s 89ms/step - loss: 1.3124 - mae: 0.9106 - val_loss: 1.1095 - val_mae: 0.8403\n",
      "Epoch 3/5\n",
      "2505/2505 [==============================] - 222s 88ms/step - loss: 1.1918 - mae: 0.8668 - val_loss: 1.1148 - val_mae: 0.8510\n",
      "Epoch 4/5\n",
      "2505/2505 [==============================] - 220s 88ms/step - loss: 1.1443 - mae: 0.8507 - val_loss: 1.1093 - val_mae: 0.8425\n",
      "Epoch 5/5\n",
      "2505/2505 [==============================] - 222s 89ms/step - loss: 1.1274 - mae: 0.8462 - val_loss: 1.1086 - val_mae: 0.8388\n",
      "627/627 [==============================] - 10s 15ms/step\n",
      "\n",
      "✅ Test Loss (MSE): 1.1086\n",
      "✅ Test MAE: 0.8388\n",
      "✅ Test RMSE: 1.0529\n"
     ]
    },
    {
     "data": {
      "image/png": "[encoded data removed]",
      "text/plain": [
       "<Figure size 640x480 with 1 Axes>"
      ]
     },
     "metadata": {},
     "output_type": "display_data"
    },
    {
     "name": "stdout",
     "output_type": "stream",
     "text": [
      "Modelo guardado como 'rnn_rating_model.h5'\n"
     ]
    },
    {
     "name": "stderr",
     "output_type": "stream",
     "text": [
      "/home/eduardo/PycharmProjects/Calculo_Entropia/.venv/lib/python3.10/site-packages/keras/src/engine/training.py:3103: UserWarning: You are saving your model as an HDF5 file via `model.save()`. This file format is considered legacy. We recommend using instead the native Keras format, e.g. `model.save('my_model.keras')`.\n",
      "  saving_api.save_model(\n"
     ]
    }
   ],
   "source": [
    "\n",
    "import tensorflow as tf\n",
    "from tensorflow.keras.models import Sequential\n",
    "from tensorflow.keras.layers import LSTM, Dense, Dropout, Masking\n",
    "from tensorflow.keras.callbacks import EarlyStopping\n",
    "\n",
    "# Parámetros del modelo\n",
    "input_shape = (X_train.shape[1], X_train.shape[2])  # maxlen, n_features\n",
    "lstm_units = 64\n",
    "dropout_rate = 0.4\n",
    "learning_rate = 0.001\n",
    "\n",
    "# Construcción del modelo\n",
    "model = Sequential()\n",
    "\n",
    "# Opcional: Capa Masking si usas padding ('mask_zero=True' en Embedding o aquí)\n",
    "model.add(Masking(mask_value=0., input_shape=input_shape))\n",
    "\n",
    "# Capa LSTM\n",
    "model.add(LSTM(units=lstm_units, return_sequences=False))  # False porque solo queremos 1 salida por secuencia\n",
    "model.add(Dropout(dropout_rate))\n",
    "\n",
    "# Capa densa final para regresión\n",
    "model.add(Dense(units=1, activation='linear'))  # Salida lineal para predecir el rating\n",
    "\n",
    "# Compilación del modelo\n",
    "model.compile(\n",
    "    optimizer=tf.keras.optimizers.Adam(learning_rate=learning_rate),\n",
    "    loss='mse',           # Error cuadrático medio\n",
    "    metrics=['mae']       # Métrica adicional: error absoluto medio\n",
    ")\n",
    "\n",
    "# Mostrar resumen del modelo\n",
    "model.summary()\n",
    "\n",
    "# Callback para detener el entrenamiento si deja de mejorar\n",
    "early_stop = EarlyStopping(monitor='val_loss', patience=5, restore_best_weights=True)\n",
    "\n",
    "# Entrenamiento\n",
    "history = model.fit(\n",
    "    X_train,\n",
    "    y_train,\n",
    "    validation_data=(X_test, y_test),\n",
    "    epochs=5,\n",
    "    batch_size=64,\n",
    "    callbacks=[early_stop],\n",
    "    verbose=1\n",
    ")\n",
    "\n",
    "# Evaluar en test\n",
    "loss, mae = model.evaluate(X_test, y_test, verbose=0)\n",
    "\n",
    "# Predecir y calcular RMSE manualmente\n",
    "y_pred = model.predict(X_test, batch_size=64).flatten()\n",
    "rmse = np.sqrt(mean_squared_error(y_test, y_pred))\n",
    "\n",
    "# Mostrar resultados finales\n",
    "print(f\"\\n✅ Test Loss (MSE): {loss:.4f}\")\n",
    "print(f\"✅ Test MAE: {mae:.4f}\")\n",
    "print(f\"✅ Test RMSE: {rmse:.4f}\")\n",
    "\n",
    "import matplotlib.pyplot as plt\n",
    "\n",
    "# Gráfica de pérdida\n",
    "plt.plot(history.history['loss'], label='Train Loss')\n",
    "plt.plot(history.history['val_loss'], label='Val Loss')\n",
    "plt.xlabel('Epoch')\n",
    "plt.ylabel('Loss (MSE)')\n",
    "plt.legend()\n",
    "plt.title('Training and Validation Loss')\n",
    "plt.show()\n",
    "\n",
    "# Guardar modelo completo\n",
    "model.save(\"rnn_rating_model12.h5\")\n",
    "print(\"Modelo guardado como 'rnn_rating_model.h5'\")"
   ]
  },
  {
   "cell_type": "markdown",
   "id": "85d0d67e1efd90be",
   "metadata": {},
   "source": [
    "### Predicciones"
   ]
  },
  {
   "cell_type": "code",
   "execution_count": 36,
   "id": "245857fa9253b7c",
   "metadata": {
    "ExecuteTime": {
     "end_time": "2025-05-22T01:39:02.805667Z",
     "start_time": "2025-05-22T01:39:01.990301Z"
    }
   },
   "outputs": [
    {
     "name": "stdout",
     "output_type": "stream",
     "text": [
      "Datos nuevos cargados:\n",
      "   userId  movieId   timestamp\n",
      "0   50403     1994   974714656\n",
      "1   32443     2571  1595779316\n",
      "2  188231     1387  1035549808\n",
      "3   54812    49530  1321586136\n",
      "4   32676     1704   992549210\n"
     ]
    }
   ],
   "source": [
    "import pandas as pd\n",
    "\n",
    "# Cargar CSV con userId, movieId, timestamp (y opcionalmente rating)\n",
    "df_new = pd.read_csv(\"test.csv\", sep=';')\n",
    "\n",
    "# Mostrar ejemplo\n",
    "print(\"Datos nuevos cargados:\")\n",
    "print(df_new.head())"
   ]
  },
  {
   "cell_type": "code",
   "execution_count": 37,
   "id": "59bfeb1d6e5d501c",
   "metadata": {
    "jupyter": {
     "is_executing": true
    }
   },
   "outputs": [],
   "source": [
    "# Convertir timestamp a datetime\n",
    "df_new['date'] = pd.to_datetime(df_new['timestamp'], unit='s')\n",
    "df_new['year'] = df_new['date'].dt.year\n",
    "df_new['month'] = df_new['date'].dt.month\n",
    "df_new['weekday'] = df_new['date'].dt.weekday"
   ]
  },
  {
   "cell_type": "code",
   "execution_count": 38,
   "id": "8be638ae",
   "metadata": {},
   "outputs": [
    {
     "name": "stderr",
     "output_type": "stream",
     "text": [
      "/tmp/ipykernel_36086/1724492501.py:21: FutureWarning: The behavior of 'isin' with dtype=datetime64[ns] and castable values (e.g. strings) is deprecated. In a future version, these will not be considered matching by isin. Explicitly cast to the appropriate dtype before calling isin instead.\n",
      "  df_new['is_holiday'] = df_new['date'].isin(ecu_holidays).astype(int)\n"
     ]
    }
   ],
   "source": [
    "def get_season(month):\n",
    "    if month in [12, 1, 2]:\n",
    "        return 'invierno'\n",
    "    elif month in [3, 4, 5]:\n",
    "        return 'primavera'\n",
    "    elif month in [6, 7, 8]:\n",
    "        return 'verano'\n",
    "    else:\n",
    "        return 'otoño'\n",
    "\n",
    "df_new['season'] = df_new['month'].apply(get_season)\n",
    "df_new['is_weekend'] = df_new['weekday'].isin([5, 6]).astype(int)\n",
    "\n",
    "# Codificar estaciones\n",
    "season_map = {'invierno': 0, 'primavera': 1, 'verano': 2, 'otoño': 3}\n",
    "df_new['season_encoded'] = df_new['season'].map(season_map)\n",
    "\n",
    "# Importar holidays si lo necesitas\n",
    "import holidays\n",
    "ecu_holidays = holidays.Ecuador(years=range(df_new['year'].min(), df_new['year'].max() + 1))\n",
    "df_new['is_holiday'] = df_new['date'].isin(ecu_holidays).astype(int)"
   ]
  },
  {
   "cell_type": "code",
   "execution_count": 39,
   "id": "746869b4",
   "metadata": {},
   "outputs": [],
   "source": [
    "# Semana del año\n",
    "df_new['week_of_year'] = df_new['date'].dt.isocalendar().week.astype(int)\n",
    "\n",
    "# Consumo semanal (cuenta de interacciones por usuario por semana)\n",
    "consumo = df_new.groupby(['userId', 'week_of_year']).size().reset_index(name='consumo_semanal_usuario')\n",
    "df_new = pd.merge(df_new, consumo, on=['userId', 'week_of_year'], how='left')"
   ]
  },
  {
   "cell_type": "code",
   "execution_count": 40,
   "id": "ac8d3e22",
   "metadata": {},
   "outputs": [
    {
     "name": "stderr",
     "output_type": "stream",
     "text": [
      "/home/eduardo/PycharmProjects/Calculo_Entropia/.venv/lib/python3.10/site-packages/sklearn/utils/deprecation.py:151: FutureWarning: 'force_all_finite' was renamed to 'ensure_all_finite' in 1.6 and will be removed in 1.8.\n",
      "  warnings.warn(\n"
     ]
    }
   ],
   "source": [
    "import joblib\n",
    "import umap\n",
    "\n",
    "# Cargar scaler y reducer UMAP guardados\n",
    "scaler = joblib.load(\"scaler_temporal2.pkl\")\n",
    "reducer = joblib.load(\"umap_model2.pkl\")\n",
    "\n",
    "# Seleccionar features para UMAP\n",
    "temporal_features = ['year', 'month', 'weekday', 'season_encoded', 'is_weekend', 'is_holiday']\n",
    "\n",
    "# Escalar\n",
    "X_scaled_new = scaler.transform(df_new[temporal_features])\n",
    "\n",
    "# Aplicar UMAP\n",
    "X_umap_new = reducer.transform(X_scaled_new)\n",
    "\n",
    "# Agregar al DataFrame\n",
    "df_new[['temporal_1', 'temporal_2', 'temporal_3']] = X_umap_new"
   ]
  },
  {
   "cell_type": "code",
   "execution_count": 41,
   "id": "316327c0",
   "metadata": {},
   "outputs": [],
   "source": [
    "features_columns = [\n",
    "    'temporal_1', 'temporal_2', 'temporal_3',\n",
    "    'is_weekend', 'season_encoded', 'is_holiday',\n",
    "    'year', 'month', 'weekday',\n",
    "    'consumo_semanal_usuario'\n",
    "]"
   ]
  },
  {
   "cell_type": "code",
   "execution_count": 42,
   "id": "8ae17d98",
   "metadata": {},
   "outputs": [],
   "source": [
    "from collections import defaultdict\n",
    "\n",
    "user_sequences_new = defaultdict(list)\n",
    "\n",
    "for _, row in df_new.iterrows():\n",
    "    user_id = row['userId']\n",
    "    x = row[features_columns].values\n",
    "    user_sequences_new[user_id].append(x)"
   ]
  },
  {
   "cell_type": "code",
   "execution_count": 43,
   "id": "11c8efa8",
   "metadata": {},
   "outputs": [],
   "source": [
    "from tensorflow.keras.preprocessing.sequence import pad_sequences\n",
    "\n",
    "# Convertir a lista de arrays\n",
    "sequences_list_new = list(user_sequences_new.values())\n",
    "\n",
    "# Padding (igual que en entrenamiento)\n",
    "maxlen = 50  # Debe ser igual al maxlen usado antes\n",
    "X_new_padded = pad_sequences(sequences_list_new, maxlen=maxlen, padding='pre', dtype='float32')"
   ]
  },
  {
   "cell_type": "code",
   "execution_count": 44,
   "id": "62464037",
   "metadata": {},
   "outputs": [
    {
     "name": "stdout",
     "output_type": "stream",
     "text": [
      "5284/5284 [==============================] - 74s 14ms/step\n",
      "\n",
      "Predicciones:\n",
      "   userId  predicted_avg_rating\n",
      "0   50403              3.704789\n",
      "1   32443              3.682004\n",
      "2  188231              3.701351\n",
      "3   54812              3.704725\n",
      "4   32676              3.704789\n"
     ]
    }
   ],
   "source": [
    "# Cargar modelo si no está cargado\n",
    "from tensorflow.keras.models import load_model\n",
    "model = load_model(\"rnn_rating_model12.h5\")\n",
    "\n",
    "# Hacer predicción\n",
    "y_pred_new = model.predict(X_new_padded).flatten()\n",
    "\n",
    "# Mostrar resultados por usuario\n",
    "users_new = list(user_sequences_new.keys())\n",
    "results = pd.DataFrame({\n",
    "    'userId': users_new,\n",
    "    'predicted_avg_rating': y_pred_new\n",
    "})\n",
    "\n",
    "print(\"\\nPredicciones:\")\n",
    "print(results.head())"
   ]
  },
  {
   "cell_type": "code",
   "execution_count": 45,
   "id": "88fad87c",
   "metadata": {},
   "outputs": [
    {
     "name": "stdout",
     "output_type": "stream",
     "text": [
      "\n",
      "Predicciones:\n",
      "    userId  predicted_avg_rating\n",
      "0    50403              3.704789\n",
      "1    32443              3.682004\n",
      "2   188231              3.701351\n",
      "3    54812              3.704725\n",
      "4    32676              3.704789\n",
      "..     ...                   ...\n",
      "95  159066              3.704789\n",
      "96  176320              3.704788\n",
      "97   55705              3.704788\n",
      "98  125610              3.704789\n",
      "99   44029              3.704789\n",
      "\n",
      "[100 rows x 2 columns]\n"
     ]
    }
   ],
   "source": [
    "print(\"\\nPredicciones:\")\n",
    "print(results.head(100))"
   ]
  },
  {
   "cell_type": "code",
   "execution_count": 46,
   "id": "7f59b5cb",
   "metadata": {},
   "outputs": [],
   "source": [
    "X_single = df_new[features_columns].values"
   ]
  },
  {
   "cell_type": "code",
   "execution_count": 47,
   "id": "d7ad91ef",
   "metadata": {},
   "outputs": [],
   "source": [
    "# 1. Definir las mismas columnas que usaste en entrenamiento\n",
    "FEATURES_ORDER = ['year', 'month', 'weekday', 'season_encoded', 'is_weekend', 'is_holiday']\n",
    "\n",
    "# 2. Aseguramos que df_new tenga esas columnas (y en ese orden)\n",
    "X_to_scale = df_new[FEATURES_ORDER]\n",
    "\n",
    "# 3. Escalamos con el mismo scaler usado antes\n",
    "X_scaled_new = scaler.transform(X_to_scale)\n",
    "\n",
    "# 4. Hacer predicciones por interacción (por fila, no por usuario)\n"
   ]
  },
  {
   "cell_type": "code",
   "execution_count": 48,
   "id": "256935a5",
   "metadata": {},
   "outputs": [
    {
     "name": "stdout",
     "output_type": "stream",
     "text": [
      "Forma antes: (1048575, 6)\n",
      "Forma después: (1048575, 1, 6)\n"
     ]
    }
   ],
   "source": [
    "import numpy as np\n",
    "\n",
    "# Asegúrate de que X_scaled_new tenga forma (n_samples, n_features)\n",
    "print(\"Forma antes:\", X_scaled_new.shape)  # Debe ser (n, 6)\n",
    "\n",
    "# Añadimos la dimensión de \"timesteps\"\n",
    "X_lstm = np.expand_dims(X_scaled_new, axis=1)  # Ahora será (n, 1, 6)\n",
    "\n",
    "print(\"Forma después:\", X_lstm.shape)  # Ahora debe ser (n, 1, 6)"
   ]
  },
  {
   "cell_type": "code",
   "execution_count": 49,
   "id": "b89674d2",
   "metadata": {},
   "outputs": [
    {
     "name": "stdout",
     "output_type": "stream",
     "text": [
      "32768/32768 [==============================] - 64s 2ms/step\n"
     ]
    }
   ],
   "source": [
    "# Ahora sí, predecimos\n",
    "y_pred_by_interaction = model.predict(X_lstm).flatten()"
   ]
  },
  {
   "cell_type": "code",
   "execution_count": 50,
   "id": "dad91ec1",
   "metadata": {},
   "outputs": [],
   "source": [
    "df_new['predicted_rating'] = y_pred_by_interaction"
   ]
  },
  {
   "cell_type": "code",
   "execution_count": 51,
   "id": "497cff9b",
   "metadata": {},
   "outputs": [
    {
     "name": "stdout",
     "output_type": "stream",
     "text": [
      "   userId  movieId  rounded_rating\n",
      "0   50403     1994             3.5\n",
      "1   32443     2571             3.5\n",
      "2  188231     1387             3.5\n",
      "3   54812    49530             3.5\n",
      "4   32676     1704             3.5\n",
      "5   89328   122892             3.5\n",
      "6   19325     5025             3.5\n",
      "7  150689    38600             3.5\n",
      "8  115166    52579             3.5\n",
      "9   99558   202439             3.5\n"
     ]
    }
   ],
   "source": [
    "def round_half_up(n):\n",
    "    return np.round(n * 2) / 2\n",
    "\n",
    "df_new['rounded_rating'] = round_half_up(df_new['predicted_rating'])\n",
    "print(df_new[['userId', 'movieId', 'rounded_rating']].head(10))"
   ]
  },
  {
   "cell_type": "code",
   "execution_count": 52,
   "id": "99610e61",
   "metadata": {},
   "outputs": [
    {
     "name": "stdout",
     "output_type": "stream",
     "text": [
      "Rango de predicciones: 3.6820045 - 3.7047894\n",
      "Desviación estándar: 0.002649768\n"
     ]
    }
   ],
   "source": [
    "import numpy as np\n",
    "print(\"Rango de predicciones:\", np.min(y_pred), \"-\", np.max(y_pred))\n",
    "print(\"Desviación estándar:\", np.std(y_pred))\n"
   ]
  },
  {
   "cell_type": "code",
   "execution_count": null,
   "id": "acfd7c23",
   "metadata": {},
   "outputs": [],
   "source": [
    "import pandas as pd\n",
    "import numpy as np\n",
    "from collections import defaultdict\n",
    "from sklearn.model_selection import train_test_split\n",
    "from sklearn.metrics import mean_squared_error, mean_absolute_error\n",
    "from tensorflow.keras.preprocessing.sequence import pad_sequences\n",
    "from tensorflow.keras.models import Sequential\n",
    "from tensorflow.keras.layers import LSTM, Dense, Dropout, Masking, TimeDistributed\n",
    "from tensorflow.keras.callbacks import EarlyStopping\n",
    "import matplotlib.pyplot as plt\n",
    "\n",
    "# === 1. Cargar dataset ===\n",
    "df = pd.read_csv(\"dataset_final_2.csv\")\n",
    "\n",
    "# === 2. Columnas de entrada ===\n",
    "features_columns = [\n",
    "    'temporal_1', 'temporal_2', 'temporal_3',\n",
    "    'is_weekend', 'season_encoded', 'is_holiday',\n",
    "    'year', 'month', 'weekday',\n",
    "    'consumo_semanal_usuario'\n",
    "]\n",
    "\n",
    "# === 3. Agrupar por usuario ===\n",
    "user_sequences = defaultdict(list)\n",
    "user_ratings = defaultdict(list)\n",
    "\n",
    "for _, row in df.iterrows():\n",
    "    user_id = row['userId']\n",
    "    x = row[features_columns].values\n",
    "    rating = row['rating']\n",
    "    user_sequences[user_id].append(x)\n",
    "    user_ratings[user_id].append(rating)\n",
    "\n",
    "# === 4. Convertir a listas ===\n",
    "X_seq = list(user_sequences.values())\n",
    "y_seq = list(user_ratings.values())\n",
    "\n",
    "\n"
   ]
  },
  {
   "cell_type": "code",
   "execution_count": null,
   "id": "fa796eae",
   "metadata": {},
   "outputs": [],
   "source": [
    "# === 5. Padding ===\n",
    "maxlen = 50\n",
    "X_padded = pad_sequences(X_seq, maxlen=maxlen, padding='pre', dtype='float32')\n",
    "y_padded = pad_sequences(y_seq, maxlen=maxlen, padding='pre', dtype='float32')\n",
    "\n",
    "# === 6. Dividir en train/test ===\n",
    "X_train, X_test, y_train, y_test = train_test_split(X_padded, y_padded, test_size=0.2, random_state=42)\n",
    "\n",
    "# === 7. Definir modelo LSTM ===\n",
    "input_shape = (X_train.shape[1], X_train.shape[2])\n",
    "\n",
    "model = Sequential()\n",
    "model.add(Masking(mask_value=0., input_shape=input_shape))\n",
    "model.add(LSTM(units=64, return_sequences=True))\n",
    "model.add(Dropout(0.4))\n",
    "model.add(TimeDistributed(Dense(1, activation='linear')))\n",
    "\n",
    "model.compile(optimizer='adam', loss='mse', metrics=['mae'])\n",
    "model.summary()\n",
    "\n",
    "# === 8. Entrenamiento ===\n",
    "early_stop = EarlyStopping(monitor='val_loss', patience=5, restore_best_weights=True)\n",
    "\n",
    "history = model.fit(\n",
    "    X_train, y_train[..., np.newaxis],  # Expandimos dimensión: (batch, steps, 1)\n",
    "    validation_data=(X_test, y_test[..., np.newaxis]),\n",
    "    epochs=5,\n",
    "    batch_size=64,\n",
    "    callbacks=[early_stop],\n",
    "    verbose=1\n",
    ")\n",
    "\n",
    "# === 9. Evaluación ===\n",
    "y_pred = model.predict(X_test).squeeze()\n",
    "\n",
    "rmse = np.sqrt(mean_squared_error(y_test.flatten(), y_pred.flatten()))\n",
    "mae = mean_absolute_error(y_test.flatten(), y_pred.flatten())\n",
    "\n",
    "print(f\"\\n✅ Test RMSE: {rmse:.4f}\")\n",
    "print(f\"✅ Test MAE: {mae:.4f}\")\n",
    "\n",
    "# === 10. Visualizar pérdida ===\n",
    "plt.plot(history.history['loss'], label='Train Loss')\n",
    "plt.plot(history.history['val_loss'], label='Val Loss')\n",
    "plt.xlabel('Epoch')\n",
    "plt.ylabel('Loss (MSE)')\n",
    "plt.legend()\n",
    "plt.title('Training vs Validation Loss')\n",
    "plt.show()\n",
    "\n",
    "# === 11. Guardar modelo ===\n",
    "model.save(\"rnn_stepwise_rating_model.h5\")\n",
    "print(\"Modelo guardado como 'rnn_stepwise_rating_model.h5'\")"
   ]
  }
 ],
 "metadata": {
  "colab": {
   "provenance": []
  },
  "kernelspec": {
   "display_name": "calculo_entropia",
   "language": "python",
   "name": "calculo_entropia"
  },
  "language_info": {
   "codemirror_mode": {
    "name": "ipython",
    "version": 3
   },
   "file_extension": ".py",
   "mimetype": "text/x-python",
   "name": "python",
   "nbconvert_exporter": "python",
   "pygments_lexer": "ipython3",
   "version": "3.10.12"
  }
 },
 "nbformat": 4,
 "nbformat_minor": 5
}
