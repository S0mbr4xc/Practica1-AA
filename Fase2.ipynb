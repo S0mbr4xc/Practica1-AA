{
  "cells": [
    {
      "cell_type": "code",
      "execution_count": 2,
      "id": "c00wzqmtez-9",
      "metadata": {
        "id": "c00wzqmtez-9"
      },
      "outputs": [
        {
          "name": "stdout",
          "output_type": "stream",
          "text": [
            "Datos cargados:\n"
          ]
        }
      ],
      "source": [
        "import pandas as pd\n",
        "import numpy as np\n",
        "from sklearn.metrics import mean_squared_error, mean_absolute_error\n",
        "\n",
        "# Ruta del archivo CSV\n",
        "csv_path = \"dataset_final_2.csv\"\n",
        "\n",
        "# Cargar el DataFrame\n",
        "df_rnn_final = pd.read_csv(csv_path)\n",
        "\n",
        "# Mostrar primeras filas para verificar\n",
        "print(\"Datos cargados:\")\n",
        "# Seleccionar solo las columnas numéricas que usaremos como input\n",
        "features_columns = [\n",
        "    'temporal_1', 'temporal_2', 'temporal_3',\n",
        "    'is_weekend', 'season_encoded', 'is_holiday',\n",
        "    'year', 'month', 'weekday',\n",
        "    'consumo_semanal_usuario'\n",
        "]\n",
        "\n",
        "# Opcional: agrega rating_previous si lo calculaste\n",
        "# features_columns.append('rating_previous')\n",
        "\n",
        "X = df_rnn_final[features_columns].values\n",
        "y = df_rnn_final['rating'].values  # El objetivo a predecir\n",
        "from collections import defaultdict\n",
        "\n",
        "# Diccionario para guardar secuencias por usuario\n",
        "user_sequences = defaultdict(list)\n",
        "user_targets = defaultdict(list)\n",
        "\n",
        "# Recorremos todo el dataset y vamos guardando por usuario\n",
        "for idx, row in df_rnn_final.iterrows():\n",
        "    user_id = row['userId']\n",
        "    x = row[features_columns].values\n",
        "    target = row['rating']\n",
        "\n",
        "    user_sequences[user_id].append(x)\n",
        "    user_targets[user_id].append(target)\n"
      ]
    },
    {
      "cell_type": "code",
      "execution_count": 3,
      "id": "C_LH47qRe89p",
      "metadata": {
        "id": "C_LH47qRe89p"
      },
      "outputs": [
        {
          "name": "stdout",
          "output_type": "stream",
          "text": [
            "Forma de X_padded: (200384, 50, 10)\n",
            "Forma de y: (200384,)\n"
          ]
        }
      ],
      "source": [
        "from tensorflow.keras.preprocessing.sequence import pad_sequences\n",
        "\n",
        "# Convertimos a listas\n",
        "sequences_list = list(user_sequences.values())\n",
        "targets_list = np.array([np.mean(t) for t in user_targets.values()])  # promedio del rating del usuario, o puedes usar último valor\n",
        "\n",
        "# Padding (rellenar con ceros al inicio)\n",
        "maxlen = 50  # Máximo 50 interacciones por usuario\n",
        "X_padded = pad_sequences(sequences_list, maxlen=maxlen, padding='pre', dtype='float32')\n",
        "\n",
        "print(\"Forma de X_padded:\", X_padded.shape)\n",
        "print(\"Forma de y:\", targets_list.shape)\n",
        "\n",
        "from sklearn.model_selection import train_test_split\n",
        "\n",
        "X_train, X_test, y_train, y_test = train_test_split(X_padded, targets_list, test_size=0.2, random_state=42)\n",
        "\n"
      ]
    },
    {
      "cell_type": "code",
      "execution_count": 4,
      "id": "698c_p_HfBB9",
      "metadata": {
        "id": "698c_p_HfBB9"
      },
      "outputs": [
        {
          "name": "stderr",
          "output_type": "stream",
          "text": [
            "c:\\Python312\\Lib\\site-packages\\keras\\src\\layers\\core\\masking.py:47: UserWarning: Do not pass an `input_shape`/`input_dim` argument to a layer. When using Sequential models, prefer using an `Input(shape)` object as the first layer in the model instead.\n",
            "  super().__init__(**kwargs)\n"
          ]
        },
        {
          "data": {
            "text/html": [
              "<pre style=\"white-space:pre;overflow-x:auto;line-height:normal;font-family:Menlo,'DejaVu Sans Mono',consolas,'Courier New',monospace\"><span style=\"font-weight: bold\">Model: \"sequential\"</span>\n",
              "</pre>\n"
            ],
            "text/plain": [
              "\u001b[1mModel: \"sequential\"\u001b[0m\n"
            ]
          },
          "metadata": {},
          "output_type": "display_data"
        },
        {
          "data": {
            "text/html": [
              "<pre style=\"white-space:pre;overflow-x:auto;line-height:normal;font-family:Menlo,'DejaVu Sans Mono',consolas,'Courier New',monospace\">┏━━━━━━━━━━━━━━━━━━━━━━━━━━━━━━━━━┳━━━━━━━━━━━━━━━━━━━━━━━━┳━━━━━━━━━━━━━━━┓\n",
              "┃<span style=\"font-weight: bold\"> Layer (type)                    </span>┃<span style=\"font-weight: bold\"> Output Shape           </span>┃<span style=\"font-weight: bold\">       Param # </span>┃\n",
              "┡━━━━━━━━━━━━━━━━━━━━━━━━━━━━━━━━━╇━━━━━━━━━━━━━━━━━━━━━━━━╇━━━━━━━━━━━━━━━┩\n",
              "│ masking (<span style=\"color: #0087ff; text-decoration-color: #0087ff\">Masking</span>)               │ (<span style=\"color: #00d7ff; text-decoration-color: #00d7ff\">None</span>, <span style=\"color: #00af00; text-decoration-color: #00af00\">50</span>, <span style=\"color: #00af00; text-decoration-color: #00af00\">10</span>)         │             <span style=\"color: #00af00; text-decoration-color: #00af00\">0</span> │\n",
              "├─────────────────────────────────┼────────────────────────┼───────────────┤\n",
              "│ lstm (<span style=\"color: #0087ff; text-decoration-color: #0087ff\">LSTM</span>)                     │ (<span style=\"color: #00d7ff; text-decoration-color: #00d7ff\">None</span>, <span style=\"color: #00af00; text-decoration-color: #00af00\">64</span>)             │        <span style=\"color: #00af00; text-decoration-color: #00af00\">19,200</span> │\n",
              "├─────────────────────────────────┼────────────────────────┼───────────────┤\n",
              "│ dropout (<span style=\"color: #0087ff; text-decoration-color: #0087ff\">Dropout</span>)               │ (<span style=\"color: #00d7ff; text-decoration-color: #00d7ff\">None</span>, <span style=\"color: #00af00; text-decoration-color: #00af00\">64</span>)             │             <span style=\"color: #00af00; text-decoration-color: #00af00\">0</span> │\n",
              "├─────────────────────────────────┼────────────────────────┼───────────────┤\n",
              "│ dense (<span style=\"color: #0087ff; text-decoration-color: #0087ff\">Dense</span>)                   │ (<span style=\"color: #00d7ff; text-decoration-color: #00d7ff\">None</span>, <span style=\"color: #00af00; text-decoration-color: #00af00\">1</span>)              │            <span style=\"color: #00af00; text-decoration-color: #00af00\">65</span> │\n",
              "└─────────────────────────────────┴────────────────────────┴───────────────┘\n",
              "</pre>\n"
            ],
            "text/plain": [
              "┏━━━━━━━━━━━━━━━━━━━━━━━━━━━━━━━━━┳━━━━━━━━━━━━━━━━━━━━━━━━┳━━━━━━━━━━━━━━━┓\n",
              "┃\u001b[1m \u001b[0m\u001b[1mLayer (type)                   \u001b[0m\u001b[1m \u001b[0m┃\u001b[1m \u001b[0m\u001b[1mOutput Shape          \u001b[0m\u001b[1m \u001b[0m┃\u001b[1m \u001b[0m\u001b[1m      Param #\u001b[0m\u001b[1m \u001b[0m┃\n",
              "┡━━━━━━━━━━━━━━━━━━━━━━━━━━━━━━━━━╇━━━━━━━━━━━━━━━━━━━━━━━━╇━━━━━━━━━━━━━━━┩\n",
              "│ masking (\u001b[38;5;33mMasking\u001b[0m)               │ (\u001b[38;5;45mNone\u001b[0m, \u001b[38;5;34m50\u001b[0m, \u001b[38;5;34m10\u001b[0m)         │             \u001b[38;5;34m0\u001b[0m │\n",
              "├─────────────────────────────────┼────────────────────────┼───────────────┤\n",
              "│ lstm (\u001b[38;5;33mLSTM\u001b[0m)                     │ (\u001b[38;5;45mNone\u001b[0m, \u001b[38;5;34m64\u001b[0m)             │        \u001b[38;5;34m19,200\u001b[0m │\n",
              "├─────────────────────────────────┼────────────────────────┼───────────────┤\n",
              "│ dropout (\u001b[38;5;33mDropout\u001b[0m)               │ (\u001b[38;5;45mNone\u001b[0m, \u001b[38;5;34m64\u001b[0m)             │             \u001b[38;5;34m0\u001b[0m │\n",
              "├─────────────────────────────────┼────────────────────────┼───────────────┤\n",
              "│ dense (\u001b[38;5;33mDense\u001b[0m)                   │ (\u001b[38;5;45mNone\u001b[0m, \u001b[38;5;34m1\u001b[0m)              │            \u001b[38;5;34m65\u001b[0m │\n",
              "└─────────────────────────────────┴────────────────────────┴───────────────┘\n"
            ]
          },
          "metadata": {},
          "output_type": "display_data"
        },
        {
          "data": {
            "text/html": [
              "<pre style=\"white-space:pre;overflow-x:auto;line-height:normal;font-family:Menlo,'DejaVu Sans Mono',consolas,'Courier New',monospace\"><span style=\"font-weight: bold\"> Total params: </span><span style=\"color: #00af00; text-decoration-color: #00af00\">19,265</span> (75.25 KB)\n",
              "</pre>\n"
            ],
            "text/plain": [
              "\u001b[1m Total params: \u001b[0m\u001b[38;5;34m19,265\u001b[0m (75.25 KB)\n"
            ]
          },
          "metadata": {},
          "output_type": "display_data"
        },
        {
          "data": {
            "text/html": [
              "<pre style=\"white-space:pre;overflow-x:auto;line-height:normal;font-family:Menlo,'DejaVu Sans Mono',consolas,'Courier New',monospace\"><span style=\"font-weight: bold\"> Trainable params: </span><span style=\"color: #00af00; text-decoration-color: #00af00\">19,265</span> (75.25 KB)\n",
              "</pre>\n"
            ],
            "text/plain": [
              "\u001b[1m Trainable params: \u001b[0m\u001b[38;5;34m19,265\u001b[0m (75.25 KB)\n"
            ]
          },
          "metadata": {},
          "output_type": "display_data"
        },
        {
          "data": {
            "text/html": [
              "<pre style=\"white-space:pre;overflow-x:auto;line-height:normal;font-family:Menlo,'DejaVu Sans Mono',consolas,'Courier New',monospace\"><span style=\"font-weight: bold\"> Non-trainable params: </span><span style=\"color: #00af00; text-decoration-color: #00af00\">0</span> (0.00 B)\n",
              "</pre>\n"
            ],
            "text/plain": [
              "\u001b[1m Non-trainable params: \u001b[0m\u001b[38;5;34m0\u001b[0m (0.00 B)\n"
            ]
          },
          "metadata": {},
          "output_type": "display_data"
        },
        {
          "name": "stdout",
          "output_type": "stream",
          "text": [
            "Epoch 1/15\n",
            "\u001b[1m2505/2505\u001b[0m \u001b[32m━━━━━━━━━━━━━━━━━━━━\u001b[0m\u001b[37m\u001b[0m \u001b[1m42s\u001b[0m 16ms/step - loss: 2.4205 - mae: 1.1758 - val_loss: 0.3537 - val_mae: 0.4619\n",
            "Epoch 2/15\n",
            "\u001b[1m2505/2505\u001b[0m \u001b[32m━━━━━━━━━━━━━━━━━━━━\u001b[0m\u001b[37m\u001b[0m \u001b[1m39s\u001b[0m 15ms/step - loss: 0.6300 - mae: 0.6263 - val_loss: 0.3479 - val_mae: 0.4579\n",
            "Epoch 3/15\n",
            "\u001b[1m2505/2505\u001b[0m \u001b[32m━━━━━━━━━━━━━━━━━━━━\u001b[0m\u001b[37m\u001b[0m \u001b[1m39s\u001b[0m 16ms/step - loss: 0.4548 - mae: 0.5276 - val_loss: 0.3453 - val_mae: 0.4557\n",
            "Epoch 4/15\n",
            "\u001b[1m2505/2505\u001b[0m \u001b[32m━━━━━━━━━━━━━━━━━━━━\u001b[0m\u001b[37m\u001b[0m \u001b[1m39s\u001b[0m 16ms/step - loss: 0.3659 - mae: 0.4686 - val_loss: 0.3398 - val_mae: 0.4487\n",
            "Epoch 5/15\n",
            "\u001b[1m2505/2505\u001b[0m \u001b[32m━━━━━━━━━━━━━━━━━━━━\u001b[0m\u001b[37m\u001b[0m \u001b[1m39s\u001b[0m 16ms/step - loss: 0.3440 - mae: 0.4521 - val_loss: 0.3403 - val_mae: 0.4498\n",
            "Epoch 6/15\n",
            "\u001b[1m2505/2505\u001b[0m \u001b[32m━━━━━━━━━━━━━━━━━━━━\u001b[0m\u001b[37m\u001b[0m \u001b[1m40s\u001b[0m 16ms/step - loss: 0.3411 - mae: 0.4500 - val_loss: 0.3399 - val_mae: 0.4497\n",
            "Epoch 7/15\n",
            "\u001b[1m2505/2505\u001b[0m \u001b[32m━━━━━━━━━━━━━━━━━━━━\u001b[0m\u001b[37m\u001b[0m \u001b[1m38s\u001b[0m 15ms/step - loss: 0.3423 - mae: 0.4507 - val_loss: 0.3407 - val_mae: 0.4510\n",
            "Epoch 8/15\n",
            "\u001b[1m2505/2505\u001b[0m \u001b[32m━━━━━━━━━━━━━━━━━━━━\u001b[0m\u001b[37m\u001b[0m \u001b[1m37s\u001b[0m 15ms/step - loss: 0.3382 - mae: 0.4470 - val_loss: 0.3400 - val_mae: 0.4483\n",
            "Epoch 9/15\n",
            "\u001b[1m2505/2505\u001b[0m \u001b[32m━━━━━━━━━━━━━━━━━━━━\u001b[0m\u001b[37m\u001b[0m \u001b[1m37s\u001b[0m 15ms/step - loss: 0.3393 - mae: 0.4490 - val_loss: 0.3395 - val_mae: 0.4483\n",
            "Epoch 10/15\n",
            "\u001b[1m2505/2505\u001b[0m \u001b[32m━━━━━━━━━━━━━━━━━━━━\u001b[0m\u001b[37m\u001b[0m \u001b[1m38s\u001b[0m 15ms/step - loss: 0.3392 - mae: 0.4476 - val_loss: 0.3403 - val_mae: 0.4499\n",
            "Epoch 11/15\n",
            "\u001b[1m2505/2505\u001b[0m \u001b[32m━━━━━━━━━━━━━━━━━━━━\u001b[0m\u001b[37m\u001b[0m \u001b[1m38s\u001b[0m 15ms/step - loss: 0.3416 - mae: 0.4485 - val_loss: 0.3403 - val_mae: 0.4506\n",
            "Epoch 12/15\n",
            "\u001b[1m2505/2505\u001b[0m \u001b[32m━━━━━━━━━━━━━━━━━━━━\u001b[0m\u001b[37m\u001b[0m \u001b[1m37s\u001b[0m 15ms/step - loss: 0.3410 - mae: 0.4483 - val_loss: 0.3401 - val_mae: 0.4487\n",
            "Epoch 13/15\n",
            "\u001b[1m2505/2505\u001b[0m \u001b[32m━━━━━━━━━━━━━━━━━━━━\u001b[0m\u001b[37m\u001b[0m \u001b[1m38s\u001b[0m 15ms/step - loss: 0.3384 - mae: 0.4474 - val_loss: 0.3403 - val_mae: 0.4505\n",
            "Epoch 14/15\n",
            "\u001b[1m2505/2505\u001b[0m \u001b[32m━━━━━━━━━━━━━━━━━━━━\u001b[0m\u001b[37m\u001b[0m \u001b[1m39s\u001b[0m 16ms/step - loss: 0.3410 - mae: 0.4495 - val_loss: 0.3401 - val_mae: 0.4485\n",
            "\u001b[1m627/627\u001b[0m \u001b[32m━━━━━━━━━━━━━━━━━━━━\u001b[0m\u001b[37m\u001b[0m \u001b[1m4s\u001b[0m 6ms/step\n",
            "\n",
            "✅ Test Loss (MSE): 0.3395\n",
            "✅ Test MAE: 0.4483\n",
            "✅ Test RMSE: 0.5827\n"
          ]
        },
        {
          "data": {
            "image/png": "[encoded data removed]",
            "text/plain": [
              "<Figure size 640x480 with 1 Axes>"
            ]
          },
          "metadata": {},
          "output_type": "display_data"
        },
        {
          "name": "stderr",
          "output_type": "stream",
          "text": [
            "WARNING:absl:You are saving your model as an HDF5 file via `model.save()` or `keras.saving.save_model(model)`. This file format is considered legacy. We recommend using instead the native Keras format, e.g. `model.save('my_model.keras')` or `keras.saving.save_model(model, 'my_model.keras')`. \n"
          ]
        },
        {
          "name": "stdout",
          "output_type": "stream",
          "text": [
            "Modelo guardado como 'rnn_rating_model.h5'\n"
          ]
        }
      ],
      "source": [
        "\n",
        "import tensorflow as tf\n",
        "from tensorflow.keras.models import Sequential\n",
        "from tensorflow.keras.layers import LSTM, Dense, Dropout, Masking\n",
        "from tensorflow.keras.callbacks import EarlyStopping\n",
        "\n",
        "# Parámetros del modelo\n",
        "input_shape = (X_train.shape[1], X_train.shape[2])  # maxlen, n_features\n",
        "lstm_units = 64\n",
        "dropout_rate = 0.4\n",
        "learning_rate = 0.001\n",
        "\n",
        "# Construcción del modelo\n",
        "model = Sequential()\n",
        "\n",
        "# Opcional: Capa Masking si usas padding ('mask_zero=True' en Embedding o aquí)\n",
        "model.add(Masking(mask_value=0., input_shape=input_shape))\n",
        "\n",
        "# Capa LSTM\n",
        "model.add(LSTM(units=lstm_units, return_sequences=False))  # False porque solo queremos 1 salida por secuencia\n",
        "model.add(Dropout(dropout_rate))\n",
        "\n",
        "# Capa densa final para regresión\n",
        "model.add(Dense(units=1, activation='linear'))  # Salida lineal para predecir el rating\n",
        "\n",
        "# Compilación del modelo\n",
        "model.compile(\n",
        "    optimizer=tf.keras.optimizers.Adam(learning_rate=learning_rate),\n",
        "    loss='mse',           # Error cuadrático medio\n",
        "    metrics=['mae']       # Métrica adicional: error absoluto medio\n",
        ")\n",
        "\n",
        "# Mostrar resumen del modelo\n",
        "model.summary()\n",
        "\n",
        "# Callback para detener el entrenamiento si deja de mejorar\n",
        "early_stop = EarlyStopping(monitor='val_loss', patience=5, restore_best_weights=True)\n",
        "\n",
        "# Entrenamiento\n",
        "history = model.fit(\n",
        "    X_train,\n",
        "    y_train,\n",
        "    validation_data=(X_test, y_test),\n",
        "    epochs=15,\n",
        "    batch_size=64,\n",
        "    callbacks=[early_stop],\n",
        "    verbose=1\n",
        ")\n",
        "\n",
        "# Evaluar en test\n",
        "loss, mae = model.evaluate(X_test, y_test, verbose=0)\n",
        "\n",
        "# Predecir y calcular RMSE manualmente\n",
        "y_pred = model.predict(X_test, batch_size=64).flatten()\n",
        "rmse = np.sqrt(mean_squared_error(y_test, y_pred))\n",
        "\n",
        "# Mostrar resultados finales\n",
        "print(f\"\\n✅ Test Loss (MSE): {loss:.4f}\")\n",
        "print(f\"✅ Test MAE: {mae:.4f}\")\n",
        "print(f\"✅ Test RMSE: {rmse:.4f}\")\n",
        "\n",
        "import matplotlib.pyplot as plt\n",
        "\n",
        "# Gráfica de pérdida\n",
        "plt.plot(history.history['loss'], label='Train Loss')\n",
        "plt.plot(history.history['val_loss'], label='Val Loss')\n",
        "plt.xlabel('Epoch')\n",
        "plt.ylabel('Loss (MSE)')\n",
        "plt.legend()\n",
        "plt.title('Training and Validation Loss')\n",
        "plt.show()\n",
        "\n",
        "# Guardar modelo completo\n",
        "model.save(\"rnn_rating_model12.h5\")\n",
        "print(\"Modelo guardado como 'rnn_rating_model.h5'\")"
      ]
    },
    {
      "cell_type": "code",
      "execution_count": null,
      "id": "54cf4ac6",
      "metadata": {},
      "outputs": [],
      "source": []
    }
  ],
  "metadata": {
    "colab": {
      "provenance": []
    },
    "kernelspec": {
      "display_name": "Python 3",
      "language": "python",
      "name": "python3"
    },
    "language_info": {
      "codemirror_mode": {
        "name": "ipython",
        "version": 3
      },
      "file_extension": ".py",
      "mimetype": "text/x-python",
      "name": "python",
      "nbconvert_exporter": "python",
      "pygments_lexer": "ipython3",
      "version": "3.12.4"
    }
  },
  "nbformat": 4,
  "nbformat_minor": 5
}
