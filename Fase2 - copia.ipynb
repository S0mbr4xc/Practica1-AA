{
  "cells": [
    {
      "cell_type": "code",
      "execution_count": 1,
      "id": "64734d37",
      "metadata": {},
      "outputs": [],
      "source": [
        "import pandas as pd\n",
        "import numpy as np\n",
        "from sklearn.metrics import mean_squared_error, mean_absolute_error\n",
        "from tensorflow.keras.preprocessing.sequence import pad_sequences\n",
        "from sklearn.model_selection import train_test_split\n",
        "import tensorflow as tf\n",
        "from tensorflow.keras.models import Sequential\n",
        "from tensorflow.keras.layers import LSTM, Dense, Dropout, Masking\n",
        "from tensorflow.keras.callbacks import EarlyStopping"
      ]
    },
    {
      "cell_type": "code",
      "execution_count": 2,
      "id": "7d94c460",
      "metadata": {},
      "outputs": [
        {
          "data": {
            "text/html": [
              "<div>\n",
              "<style scoped>\n",
              "    .dataframe tbody tr th:only-of-type {\n",
              "        vertical-align: middle;\n",
              "    }\n",
              "\n",
              "    .dataframe tbody tr th {\n",
              "        vertical-align: top;\n",
              "    }\n",
              "\n",
              "    .dataframe thead th {\n",
              "        text-align: right;\n",
              "    }\n",
              "</style>\n",
              "<table border=\"1\" class=\"dataframe\">\n",
              "  <thead>\n",
              "    <tr style=\"text-align: right;\">\n",
              "      <th></th>\n",
              "      <th>userId</th>\n",
              "      <th>movieId</th>\n",
              "      <th>temporal_1</th>\n",
              "      <th>temporal_2</th>\n",
              "      <th>temporal_3</th>\n",
              "      <th>rating</th>\n",
              "      <th>timestamp</th>\n",
              "      <th>is_weekend</th>\n",
              "      <th>season_encoded</th>\n",
              "      <th>is_holiday</th>\n",
              "      <th>year</th>\n",
              "      <th>month</th>\n",
              "      <th>weekday</th>\n",
              "      <th>consumo_semanal_usuario</th>\n",
              "    </tr>\n",
              "  </thead>\n",
              "  <tbody>\n",
              "    <tr>\n",
              "      <th>0</th>\n",
              "      <td>1</td>\n",
              "      <td>541</td>\n",
              "      <td>6.076570</td>\n",
              "      <td>1.968400</td>\n",
              "      <td>4.461806</td>\n",
              "      <td>1.000000</td>\n",
              "      <td>943227521</td>\n",
              "      <td>1</td>\n",
              "      <td>3</td>\n",
              "      <td>0</td>\n",
              "      <td>1999</td>\n",
              "      <td>11</td>\n",
              "      <td>6</td>\n",
              "      <td>3</td>\n",
              "    </tr>\n",
              "    <tr>\n",
              "      <th>1</th>\n",
              "      <td>1</td>\n",
              "      <td>166</td>\n",
              "      <td>6.072158</td>\n",
              "      <td>1.971917</td>\n",
              "      <td>4.457658</td>\n",
              "      <td>1.000000</td>\n",
              "      <td>943228442</td>\n",
              "      <td>1</td>\n",
              "      <td>3</td>\n",
              "      <td>0</td>\n",
              "      <td>1999</td>\n",
              "      <td>11</td>\n",
              "      <td>6</td>\n",
              "      <td>3</td>\n",
              "    </tr>\n",
              "    <tr>\n",
              "      <th>2</th>\n",
              "      <td>1</td>\n",
              "      <td>1784</td>\n",
              "      <td>6.075465</td>\n",
              "      <td>1.968327</td>\n",
              "      <td>4.461445</td>\n",
              "      <td>0.111111</td>\n",
              "      <td>943228545</td>\n",
              "      <td>1</td>\n",
              "      <td>3</td>\n",
              "      <td>0</td>\n",
              "      <td>1999</td>\n",
              "      <td>11</td>\n",
              "      <td>6</td>\n",
              "      <td>3</td>\n",
              "    </tr>\n",
              "    <tr>\n",
              "      <th>3</th>\n",
              "      <td>1</td>\n",
              "      <td>1944</td>\n",
              "      <td>-6.705580</td>\n",
              "      <td>17.750286</td>\n",
              "      <td>3.588970</td>\n",
              "      <td>0.333333</td>\n",
              "      <td>943231120</td>\n",
              "      <td>0</td>\n",
              "      <td>3</td>\n",
              "      <td>0</td>\n",
              "      <td>1999</td>\n",
              "      <td>11</td>\n",
              "      <td>0</td>\n",
              "      <td>3</td>\n",
              "    </tr>\n",
              "    <tr>\n",
              "      <th>4</th>\n",
              "      <td>1</td>\n",
              "      <td>1208</td>\n",
              "      <td>-6.705580</td>\n",
              "      <td>17.750286</td>\n",
              "      <td>3.588970</td>\n",
              "      <td>1.000000</td>\n",
              "      <td>943231192</td>\n",
              "      <td>0</td>\n",
              "      <td>3</td>\n",
              "      <td>0</td>\n",
              "      <td>1999</td>\n",
              "      <td>11</td>\n",
              "      <td>0</td>\n",
              "      <td>3</td>\n",
              "    </tr>\n",
              "  </tbody>\n",
              "</table>\n",
              "</div>"
            ],
            "text/plain": [
              "   userId  movieId  temporal_1  temporal_2  temporal_3    rating  timestamp  \\\n",
              "0       1      541    6.076570    1.968400    4.461806  1.000000  943227521   \n",
              "1       1      166    6.072158    1.971917    4.457658  1.000000  943228442   \n",
              "2       1     1784    6.075465    1.968327    4.461445  0.111111  943228545   \n",
              "3       1     1944   -6.705580   17.750286    3.588970  0.333333  943231120   \n",
              "4       1     1208   -6.705580   17.750286    3.588970  1.000000  943231192   \n",
              "\n",
              "   is_weekend  season_encoded  is_holiday  year  month  weekday  \\\n",
              "0           1               3           0  1999     11        6   \n",
              "1           1               3           0  1999     11        6   \n",
              "2           1               3           0  1999     11        6   \n",
              "3           0               3           0  1999     11        0   \n",
              "4           0               3           0  1999     11        0   \n",
              "\n",
              "   consumo_semanal_usuario  \n",
              "0                        3  \n",
              "1                        3  \n",
              "2                        3  \n",
              "3                        3  \n",
              "4                        3  "
            ]
          },
          "execution_count": 2,
          "metadata": {},
          "output_type": "execute_result"
        }
      ],
      "source": [
        "# Ruta del archivo CSV\n",
        "csv_path = \"dataset_final_2.csv\"\n",
        "\n",
        "# Cargar el DataFrame\n",
        "df_rnn_final = pd.read_csv(csv_path)\n",
        "\n",
        "# Normalizar la columna rating en valores entre 0 y 1\n",
        "df_rnn_final['rating'] = (df_rnn_final['rating'] - df_rnn_final['rating'].min()) / (df_rnn_final['rating'].max() - df_rnn_final['rating'].min())\n",
        "\n",
        "# Mostrar primeras filas para verificar\n",
        "df_rnn_final.head()"
      ]
    },
    {
      "cell_type": "code",
      "execution_count": 3,
      "id": "32535ccf",
      "metadata": {},
      "outputs": [
        {
          "data": {
            "text/html": [
              "<div>\n",
              "<style scoped>\n",
              "    .dataframe tbody tr th:only-of-type {\n",
              "        vertical-align: middle;\n",
              "    }\n",
              "\n",
              "    .dataframe tbody tr th {\n",
              "        vertical-align: top;\n",
              "    }\n",
              "\n",
              "    .dataframe thead th {\n",
              "        text-align: right;\n",
              "    }\n",
              "</style>\n",
              "<table border=\"1\" class=\"dataframe\">\n",
              "  <thead>\n",
              "    <tr style=\"text-align: right;\">\n",
              "      <th></th>\n",
              "      <th>userId</th>\n",
              "      <th>movieId</th>\n",
              "      <th>rating</th>\n",
              "      <th>temporal_1</th>\n",
              "      <th>temporal_2</th>\n",
              "      <th>temporal_3</th>\n",
              "    </tr>\n",
              "  </thead>\n",
              "  <tbody>\n",
              "    <tr>\n",
              "      <th>0</th>\n",
              "      <td>1</td>\n",
              "      <td>541</td>\n",
              "      <td>1.000000</td>\n",
              "      <td>6.076570</td>\n",
              "      <td>1.968400</td>\n",
              "      <td>4.461806</td>\n",
              "    </tr>\n",
              "    <tr>\n",
              "      <th>1</th>\n",
              "      <td>1</td>\n",
              "      <td>166</td>\n",
              "      <td>1.000000</td>\n",
              "      <td>6.072158</td>\n",
              "      <td>1.971917</td>\n",
              "      <td>4.457658</td>\n",
              "    </tr>\n",
              "    <tr>\n",
              "      <th>2</th>\n",
              "      <td>1</td>\n",
              "      <td>1784</td>\n",
              "      <td>0.111111</td>\n",
              "      <td>6.075465</td>\n",
              "      <td>1.968327</td>\n",
              "      <td>4.461445</td>\n",
              "    </tr>\n",
              "    <tr>\n",
              "      <th>3</th>\n",
              "      <td>1</td>\n",
              "      <td>1944</td>\n",
              "      <td>0.333333</td>\n",
              "      <td>-6.705580</td>\n",
              "      <td>17.750286</td>\n",
              "      <td>3.588970</td>\n",
              "    </tr>\n",
              "    <tr>\n",
              "      <th>4</th>\n",
              "      <td>1</td>\n",
              "      <td>1208</td>\n",
              "      <td>1.000000</td>\n",
              "      <td>-6.705580</td>\n",
              "      <td>17.750286</td>\n",
              "      <td>3.588970</td>\n",
              "    </tr>\n",
              "  </tbody>\n",
              "</table>\n",
              "</div>"
            ],
            "text/plain": [
              "   userId  movieId    rating  temporal_1  temporal_2  temporal_3\n",
              "0       1      541  1.000000    6.076570    1.968400    4.461806\n",
              "1       1      166  1.000000    6.072158    1.971917    4.457658\n",
              "2       1     1784  0.111111    6.075465    1.968327    4.461445\n",
              "3       1     1944  0.333333   -6.705580   17.750286    3.588970\n",
              "4       1     1208  1.000000   -6.705580   17.750286    3.588970"
            ]
          },
          "execution_count": 3,
          "metadata": {},
          "output_type": "execute_result"
        }
      ],
      "source": [
        "# Conservar las columnas userId, movieId, rating, timestamp, temporal_1, temporal_2, temporal_3\n",
        "df_rnn_final = df_rnn_final[['userId', 'movieId', 'rating', 'temporal_1', 'temporal_2', 'temporal_3']]\n",
        "df_rnn_final.head()"
      ]
    },
    {
      "cell_type": "code",
      "execution_count": 4,
      "id": "7bf27702",
      "metadata": {},
      "outputs": [
        {
          "data": {
            "text/plain": [
              "array([1.        , 0.11111111, 0.33333333, 0.55555556, 0.77777778,\n",
              "       0.66666667, 0.44444444, 0.88888889, 0.        , 0.22222222])"
            ]
          },
          "execution_count": 4,
          "metadata": {},
          "output_type": "execute_result"
        }
      ],
      "source": [
        "# mostrar los valores unicos de la columns rating\n",
        "df_rnn_final['rating'].unique()"
      ]
    },
    {
      "cell_type": "code",
      "execution_count": 5,
      "id": "c00wzqmtez-9",
      "metadata": {
        "id": "c00wzqmtez-9"
      },
      "outputs": [],
      "source": [
        "# Seleccionar solo las columnas numéricas que usaremos como input\n",
        "features_columns = [\n",
        "    'userId', 'movieId',\n",
        "    'temporal_1', 'temporal_2', 'temporal_3'\n",
        "]\n",
        "\n",
        "# Opcional: agrega rating_previous si lo calculaste\n",
        "# features_columns.append('rating_previous')\n",
        "\n",
        "X = df_rnn_final[features_columns].values\n",
        "y = df_rnn_final['rating'].values  # El objetivo a predecir\n",
        "from collections import defaultdict\n",
        "\n",
        "# Diccionario para guardar secuencias por usuario\n",
        "user_sequences = defaultdict(list)\n",
        "user_targets = defaultdict(list)\n",
        "\n",
        "# Recorremos todo el dataset y vamos guardando por usuario\n",
        "for idx, row in df_rnn_final.iterrows():\n",
        "    user_id = row['userId']\n",
        "    x = row[features_columns].values\n",
        "    target = row['rating']\n",
        "\n",
        "    user_sequences[user_id].append(x)\n",
        "    user_targets[user_id].append(target)\n"
      ]
    },
    {
      "cell_type": "code",
      "execution_count": 6,
      "id": "C_LH47qRe89p",
      "metadata": {
        "id": "C_LH47qRe89p"
      },
      "outputs": [
        {
          "name": "stdout",
          "output_type": "stream",
          "text": [
            "Forma de X_padded: (200384, 50, 5)\n",
            "Forma de y: (200384,)\n"
          ]
        }
      ],
      "source": [
        "\n",
        "# Convertimos a listas\n",
        "sequences_list = list(user_sequences.values())\n",
        "targets_list = np.array([np.mean(t) for t in user_targets.values()])  # promedio del rating del usuario, o puedes usar último valor\n",
        "\n",
        "# Padding (rellenar con ceros al inicio)\n",
        "maxlen = 50  # Máximo 50 interacciones por usuario\n",
        "X_padded = pad_sequences(sequences_list, maxlen=maxlen, padding='pre', dtype='float32')\n",
        "\n",
        "print(\"Forma de X_padded:\", X_padded.shape)\n",
        "print(\"Forma de y:\", targets_list.shape)\n",
        "\n",
        "\n",
        "\n",
        "X_train, X_test, y_train, y_test = train_test_split(X_padded, targets_list, test_size=0.2, random_state=42)\n",
        "\n"
      ]
    },
    {
      "cell_type": "code",
      "execution_count": 7,
      "id": "698c_p_HfBB9",
      "metadata": {
        "id": "698c_p_HfBB9"
      },
      "outputs": [
        {
          "name": "stderr",
          "output_type": "stream",
          "text": [
            "c:\\Python312\\Lib\\site-packages\\keras\\src\\layers\\core\\masking.py:47: UserWarning: Do not pass an `input_shape`/`input_dim` argument to a layer. When using Sequential models, prefer using an `Input(shape)` object as the first layer in the model instead.\n",
            "  super().__init__(**kwargs)\n"
          ]
        },
        {
          "data": {
            "text/html": [
              "<pre style=\"white-space:pre;overflow-x:auto;line-height:normal;font-family:Menlo,'DejaVu Sans Mono',consolas,'Courier New',monospace\"><span style=\"font-weight: bold\">Model: \"sequential\"</span>\n",
              "</pre>\n"
            ],
            "text/plain": [
              "\u001b[1mModel: \"sequential\"\u001b[0m\n"
            ]
          },
          "metadata": {},
          "output_type": "display_data"
        },
        {
          "data": {
            "text/html": [
              "<pre style=\"white-space:pre;overflow-x:auto;line-height:normal;font-family:Menlo,'DejaVu Sans Mono',consolas,'Courier New',monospace\">┏━━━━━━━━━━━━━━━━━━━━━━━━━━━━━━━━━┳━━━━━━━━━━━━━━━━━━━━━━━━┳━━━━━━━━━━━━━━━┓\n",
              "┃<span style=\"font-weight: bold\"> Layer (type)                    </span>┃<span style=\"font-weight: bold\"> Output Shape           </span>┃<span style=\"font-weight: bold\">       Param # </span>┃\n",
              "┡━━━━━━━━━━━━━━━━━━━━━━━━━━━━━━━━━╇━━━━━━━━━━━━━━━━━━━━━━━━╇━━━━━━━━━━━━━━━┩\n",
              "│ masking (<span style=\"color: #0087ff; text-decoration-color: #0087ff\">Masking</span>)               │ (<span style=\"color: #00d7ff; text-decoration-color: #00d7ff\">None</span>, <span style=\"color: #00af00; text-decoration-color: #00af00\">50</span>, <span style=\"color: #00af00; text-decoration-color: #00af00\">5</span>)          │             <span style=\"color: #00af00; text-decoration-color: #00af00\">0</span> │\n",
              "├─────────────────────────────────┼────────────────────────┼───────────────┤\n",
              "│ lstm (<span style=\"color: #0087ff; text-decoration-color: #0087ff\">LSTM</span>)                     │ (<span style=\"color: #00d7ff; text-decoration-color: #00d7ff\">None</span>, <span style=\"color: #00af00; text-decoration-color: #00af00\">64</span>)             │        <span style=\"color: #00af00; text-decoration-color: #00af00\">17,920</span> │\n",
              "├─────────────────────────────────┼────────────────────────┼───────────────┤\n",
              "│ dropout (<span style=\"color: #0087ff; text-decoration-color: #0087ff\">Dropout</span>)               │ (<span style=\"color: #00d7ff; text-decoration-color: #00d7ff\">None</span>, <span style=\"color: #00af00; text-decoration-color: #00af00\">64</span>)             │             <span style=\"color: #00af00; text-decoration-color: #00af00\">0</span> │\n",
              "├─────────────────────────────────┼────────────────────────┼───────────────┤\n",
              "│ dense (<span style=\"color: #0087ff; text-decoration-color: #0087ff\">Dense</span>)                   │ (<span style=\"color: #00d7ff; text-decoration-color: #00d7ff\">None</span>, <span style=\"color: #00af00; text-decoration-color: #00af00\">1</span>)              │            <span style=\"color: #00af00; text-decoration-color: #00af00\">65</span> │\n",
              "└─────────────────────────────────┴────────────────────────┴───────────────┘\n",
              "</pre>\n"
            ],
            "text/plain": [
              "┏━━━━━━━━━━━━━━━━━━━━━━━━━━━━━━━━━┳━━━━━━━━━━━━━━━━━━━━━━━━┳━━━━━━━━━━━━━━━┓\n",
              "┃\u001b[1m \u001b[0m\u001b[1mLayer (type)                   \u001b[0m\u001b[1m \u001b[0m┃\u001b[1m \u001b[0m\u001b[1mOutput Shape          \u001b[0m\u001b[1m \u001b[0m┃\u001b[1m \u001b[0m\u001b[1m      Param #\u001b[0m\u001b[1m \u001b[0m┃\n",
              "┡━━━━━━━━━━━━━━━━━━━━━━━━━━━━━━━━━╇━━━━━━━━━━━━━━━━━━━━━━━━╇━━━━━━━━━━━━━━━┩\n",
              "│ masking (\u001b[38;5;33mMasking\u001b[0m)               │ (\u001b[38;5;45mNone\u001b[0m, \u001b[38;5;34m50\u001b[0m, \u001b[38;5;34m5\u001b[0m)          │             \u001b[38;5;34m0\u001b[0m │\n",
              "├─────────────────────────────────┼────────────────────────┼───────────────┤\n",
              "│ lstm (\u001b[38;5;33mLSTM\u001b[0m)                     │ (\u001b[38;5;45mNone\u001b[0m, \u001b[38;5;34m64\u001b[0m)             │        \u001b[38;5;34m17,920\u001b[0m │\n",
              "├─────────────────────────────────┼────────────────────────┼───────────────┤\n",
              "│ dropout (\u001b[38;5;33mDropout\u001b[0m)               │ (\u001b[38;5;45mNone\u001b[0m, \u001b[38;5;34m64\u001b[0m)             │             \u001b[38;5;34m0\u001b[0m │\n",
              "├─────────────────────────────────┼────────────────────────┼───────────────┤\n",
              "│ dense (\u001b[38;5;33mDense\u001b[0m)                   │ (\u001b[38;5;45mNone\u001b[0m, \u001b[38;5;34m1\u001b[0m)              │            \u001b[38;5;34m65\u001b[0m │\n",
              "└─────────────────────────────────┴────────────────────────┴───────────────┘\n"
            ]
          },
          "metadata": {},
          "output_type": "display_data"
        },
        {
          "data": {
            "text/html": [
              "<pre style=\"white-space:pre;overflow-x:auto;line-height:normal;font-family:Menlo,'DejaVu Sans Mono',consolas,'Courier New',monospace\"><span style=\"font-weight: bold\"> Total params: </span><span style=\"color: #00af00; text-decoration-color: #00af00\">17,985</span> (70.25 KB)\n",
              "</pre>\n"
            ],
            "text/plain": [
              "\u001b[1m Total params: \u001b[0m\u001b[38;5;34m17,985\u001b[0m (70.25 KB)\n"
            ]
          },
          "metadata": {},
          "output_type": "display_data"
        },
        {
          "data": {
            "text/html": [
              "<pre style=\"white-space:pre;overflow-x:auto;line-height:normal;font-family:Menlo,'DejaVu Sans Mono',consolas,'Courier New',monospace\"><span style=\"font-weight: bold\"> Trainable params: </span><span style=\"color: #00af00; text-decoration-color: #00af00\">17,985</span> (70.25 KB)\n",
              "</pre>\n"
            ],
            "text/plain": [
              "\u001b[1m Trainable params: \u001b[0m\u001b[38;5;34m17,985\u001b[0m (70.25 KB)\n"
            ]
          },
          "metadata": {},
          "output_type": "display_data"
        },
        {
          "data": {
            "text/html": [
              "<pre style=\"white-space:pre;overflow-x:auto;line-height:normal;font-family:Menlo,'DejaVu Sans Mono',consolas,'Courier New',monospace\"><span style=\"font-weight: bold\"> Non-trainable params: </span><span style=\"color: #00af00; text-decoration-color: #00af00\">0</span> (0.00 B)\n",
              "</pre>\n"
            ],
            "text/plain": [
              "\u001b[1m Non-trainable params: \u001b[0m\u001b[38;5;34m0\u001b[0m (0.00 B)\n"
            ]
          },
          "metadata": {},
          "output_type": "display_data"
        },
        {
          "name": "stdout",
          "output_type": "stream",
          "text": [
            "Epoch 1/15\n",
            "\u001b[1m2505/2505\u001b[0m \u001b[32m━━━━━━━━━━━━━━━━━━━━\u001b[0m\u001b[37m\u001b[0m \u001b[1m41s\u001b[0m 16ms/step - loss: 0.2665 - mae: 0.3397 - val_loss: 0.0171 - val_mae: 0.1011\n",
            "Epoch 2/15\n",
            "\u001b[1m2505/2505\u001b[0m \u001b[32m━━━━━━━━━━━━━━━━━━━━\u001b[0m\u001b[37m\u001b[0m \u001b[1m38s\u001b[0m 15ms/step - loss: 0.0191 - mae: 0.1074 - val_loss: 0.0168 - val_mae: 0.0998\n",
            "Epoch 3/15\n",
            "\u001b[1m2505/2505\u001b[0m \u001b[32m━━━━━━━━━━━━━━━━━━━━\u001b[0m\u001b[37m\u001b[0m \u001b[1m39s\u001b[0m 15ms/step - loss: 0.0169 - mae: 0.1001 - val_loss: 0.0168 - val_mae: 0.0997\n",
            "Epoch 4/15\n",
            "\u001b[1m2505/2505\u001b[0m \u001b[32m━━━━━━━━━━━━━━━━━━━━\u001b[0m\u001b[37m\u001b[0m \u001b[1m39s\u001b[0m 15ms/step - loss: 0.0168 - mae: 0.0997 - val_loss: 0.0168 - val_mae: 0.0995\n",
            "Epoch 5/15\n",
            "\u001b[1m2505/2505\u001b[0m \u001b[32m━━━━━━━━━━━━━━━━━━━━\u001b[0m\u001b[37m\u001b[0m \u001b[1m39s\u001b[0m 15ms/step - loss: 0.0169 - mae: 0.0998 - val_loss: 0.0167 - val_mae: 0.0995\n",
            "Epoch 6/15\n",
            "\u001b[1m2505/2505\u001b[0m \u001b[32m━━━━━━━━━━━━━━━━━━━━\u001b[0m\u001b[37m\u001b[0m \u001b[1m39s\u001b[0m 15ms/step - loss: 0.0168 - mae: 0.0995 - val_loss: 0.0169 - val_mae: 0.0997\n",
            "Epoch 7/15\n",
            "\u001b[1m2505/2505\u001b[0m \u001b[32m━━━━━━━━━━━━━━━━━━━━\u001b[0m\u001b[37m\u001b[0m \u001b[1m39s\u001b[0m 16ms/step - loss: 0.0168 - mae: 0.0999 - val_loss: 0.0168 - val_mae: 0.0999\n",
            "Epoch 8/15\n",
            "\u001b[1m2505/2505\u001b[0m \u001b[32m━━━━━━━━━━━━━━━━━━━━\u001b[0m\u001b[37m\u001b[0m \u001b[1m39s\u001b[0m 16ms/step - loss: 0.0169 - mae: 0.1000 - val_loss: 0.0170 - val_mae: 0.1010\n",
            "Epoch 9/15\n",
            "\u001b[1m2505/2505\u001b[0m \u001b[32m━━━━━━━━━━━━━━━━━━━━\u001b[0m\u001b[37m\u001b[0m \u001b[1m39s\u001b[0m 16ms/step - loss: 0.0170 - mae: 0.1001 - val_loss: 0.0168 - val_mae: 0.0997\n",
            "Epoch 10/15\n",
            "\u001b[1m2505/2505\u001b[0m \u001b[32m━━━━━━━━━━━━━━━━━━━━\u001b[0m\u001b[37m\u001b[0m \u001b[1m39s\u001b[0m 16ms/step - loss: 0.0168 - mae: 0.0998 - val_loss: 0.0171 - val_mae: 0.1006\n",
            "\u001b[1m627/627\u001b[0m \u001b[32m━━━━━━━━━━━━━━━━━━━━\u001b[0m\u001b[37m\u001b[0m \u001b[1m4s\u001b[0m 7ms/step\n",
            "\n",
            "✅ Test Loss (MSE): 0.0167\n",
            "✅ Test MAE: 0.0995\n",
            "✅ Test RMSE: 0.1293\n"
          ]
        },
        {
          "data": {
            "image/png": "[encoded data removed]",
            "text/plain": [
              "<Figure size 640x480 with 1 Axes>"
            ]
          },
          "metadata": {},
          "output_type": "display_data"
        },
        {
          "name": "stderr",
          "output_type": "stream",
          "text": [
            "WARNING:absl:You are saving your model as an HDF5 file via `model.save()` or `keras.saving.save_model(model)`. This file format is considered legacy. We recommend using instead the native Keras format, e.g. `model.save('my_model.keras')` or `keras.saving.save_model(model, 'my_model.keras')`. \n"
          ]
        },
        {
          "name": "stdout",
          "output_type": "stream",
          "text": [
            "Modelo guardado como 'rnn_rating_model.h5'\n"
          ]
        }
      ],
      "source": [
        "\n",
        "\n",
        "# Parámetros del modelo\n",
        "input_shape = (X_train.shape[1], X_train.shape[2])  # maxlen, n_features\n",
        "lstm_units = 64\n",
        "dropout_rate = 0.4\n",
        "learning_rate = 0.001\n",
        "\n",
        "# Construcción del modelo\n",
        "model = Sequential()\n",
        "\n",
        "# Opcional: Capa Masking si usas padding ('mask_zero=True' en Embedding o aquí)\n",
        "model.add(Masking(mask_value=0., input_shape=input_shape))\n",
        "\n",
        "# Capa LSTM\n",
        "model.add(LSTM(units=lstm_units, return_sequences=False))  # False porque solo queremos 1 salida por secuencia\n",
        "model.add(Dropout(dropout_rate))\n",
        "\n",
        "# Capa densa final para regresión\n",
        "model.add(Dense(units=1, activation='linear'))  # Salida lineal para predecir el rating\n",
        "\n",
        "# Compilación del modelo\n",
        "model.compile(\n",
        "    optimizer=tf.keras.optimizers.Adam(learning_rate=learning_rate),\n",
        "    loss='mse',           # Error cuadrático medio\n",
        "    metrics=['mae']       # Métrica adicional: error absoluto medio\n",
        ")\n",
        "\n",
        "# Mostrar resumen del modelo\n",
        "model.summary()\n",
        "\n",
        "# Callback para detener el entrenamiento si deja de mejorar\n",
        "early_stop = EarlyStopping(monitor='val_loss', patience=5, restore_best_weights=True)\n",
        "\n",
        "# Entrenamiento\n",
        "history = model.fit(\n",
        "    X_train,\n",
        "    y_train,\n",
        "    validation_data=(X_test, y_test),\n",
        "    epochs=15,\n",
        "    batch_size=64,\n",
        "    callbacks=[early_stop],\n",
        "    verbose=1\n",
        ")\n",
        "\n",
        "# Evaluar en test\n",
        "loss, mae = model.evaluate(X_test, y_test, verbose=0)\n",
        "\n",
        "# Predecir y calcular RMSE manualmente\n",
        "y_pred = model.predict(X_test, batch_size=64).flatten()\n",
        "rmse = np.sqrt(mean_squared_error(y_test, y_pred))\n",
        "\n",
        "# Mostrar resultados finales\n",
        "print(f\"\\n✅ Test Loss (MSE): {loss:.4f}\")\n",
        "print(f\"✅ Test MAE: {mae:.4f}\")\n",
        "print(f\"✅ Test RMSE: {rmse:.4f}\")\n",
        "\n",
        "import matplotlib.pyplot as plt\n",
        "\n",
        "# Gráfica de pérdida\n",
        "plt.plot(history.history['loss'], label='Train Loss')\n",
        "plt.plot(history.history['val_loss'], label='Val Loss')\n",
        "plt.xlabel('Epoch')\n",
        "plt.ylabel('Loss (MSE)')\n",
        "plt.legend()\n",
        "plt.title('Training and Validation Loss')\n",
        "plt.show()\n",
        "\n",
        "# Guardar modelo completo\n",
        "model.save(\"rnn_rating_model_only_temporals.h5\")\n",
        "print(\"Modelo guardado como 'rnn_rating_model.h5'\")"
      ]
    },
    {
      "cell_type": "code",
      "execution_count": 8,
      "id": "54cf4ac6",
      "metadata": {},
      "outputs": [
        {
          "data": {
            "text/html": [
              "<div>\n",
              "<style scoped>\n",
              "    .dataframe tbody tr th:only-of-type {\n",
              "        vertical-align: middle;\n",
              "    }\n",
              "\n",
              "    .dataframe tbody tr th {\n",
              "        vertical-align: top;\n",
              "    }\n",
              "\n",
              "    .dataframe thead th {\n",
              "        text-align: right;\n",
              "    }\n",
              "</style>\n",
              "<table border=\"1\" class=\"dataframe\">\n",
              "  <thead>\n",
              "    <tr style=\"text-align: right;\">\n",
              "      <th></th>\n",
              "      <th>userId</th>\n",
              "      <th>movieId</th>\n",
              "      <th>temporal_1</th>\n",
              "      <th>temporal_2</th>\n",
              "      <th>temporal_3</th>\n",
              "    </tr>\n",
              "  </thead>\n",
              "  <tbody>\n",
              "    <tr>\n",
              "      <th>0</th>\n",
              "      <td>1</td>\n",
              "      <td>541</td>\n",
              "      <td>6.076570</td>\n",
              "      <td>1.968400</td>\n",
              "      <td>4.461806</td>\n",
              "    </tr>\n",
              "    <tr>\n",
              "      <th>1</th>\n",
              "      <td>1</td>\n",
              "      <td>3078</td>\n",
              "      <td>-0.530652</td>\n",
              "      <td>2.521121</td>\n",
              "      <td>2.499882</td>\n",
              "    </tr>\n",
              "    <tr>\n",
              "      <th>2</th>\n",
              "      <td>1</td>\n",
              "      <td>838</td>\n",
              "      <td>-0.533817</td>\n",
              "      <td>2.518621</td>\n",
              "      <td>2.497426</td>\n",
              "    </tr>\n",
              "    <tr>\n",
              "      <th>3</th>\n",
              "      <td>1</td>\n",
              "      <td>1236</td>\n",
              "      <td>-0.545981</td>\n",
              "      <td>2.506378</td>\n",
              "      <td>2.485310</td>\n",
              "    </tr>\n",
              "    <tr>\n",
              "      <th>4</th>\n",
              "      <td>1</td>\n",
              "      <td>2918</td>\n",
              "      <td>-0.524821</td>\n",
              "      <td>2.527317</td>\n",
              "      <td>2.506026</td>\n",
              "    </tr>\n",
              "  </tbody>\n",
              "</table>\n",
              "</div>"
            ],
            "text/plain": [
              "   userId  movieId  temporal_1  temporal_2  temporal_3\n",
              "0       1      541    6.076570    1.968400    4.461806\n",
              "1       1     3078   -0.530652    2.521121    2.499882\n",
              "2       1      838   -0.533817    2.518621    2.497426\n",
              "3       1     1236   -0.545981    2.506378    2.485310\n",
              "4       1     2918   -0.524821    2.527317    2.506026"
            ]
          },
          "execution_count": 8,
          "metadata": {},
          "output_type": "execute_result"
        }
      ],
      "source": [
        "df_prediccion = pd.read_csv(\"dataset_final_21.csv\")\n",
        "df_prediccion = df_prediccion[['userId', 'movieId', 'temporal_1', 'temporal_2', 'temporal_3']]\n",
        "df_prediccion.sort_values(by=['userId', 'movieId'])\n",
        "df_prediccion.head()"
      ]
    },
    {
      "cell_type": "code",
      "execution_count": 9,
      "id": "48679c51",
      "metadata": {},
      "outputs": [],
      "source": [
        "feature_cols = ['userId', 'movieId', 'temporal_1', 'temporal_2', 'temporal_3']"
      ]
    },
    {
      "cell_type": "code",
      "execution_count": 10,
      "id": "a00844c6",
      "metadata": {},
      "outputs": [
        {
          "name": "stdout",
          "output_type": "stream",
          "text": [
            "✅ Shape final para predicción: (1580637, 50, 5)\n"
          ]
        }
      ],
      "source": [
        "sequences = []\n",
        "X_pred = []\n",
        "ids = []\n",
        "\n",
        "for user_id, group in df_prediccion.groupby('userId'):\n",
        "    features = group[feature_cols].values\n",
        "    user_movie_ids = group[['userId', 'movieId']].values\n",
        "\n",
        "    for i in range(len(features) - 50 + 1):\n",
        "        seq = features[i:i+50]\n",
        "        X_pred.append(seq)\n",
        "        ids.append(user_movie_ids[i+49])  # película objetivo: paso 50\n",
        "\n",
        "# Convertir a numpy array\n",
        "X_pred = np.array(X_pred)  # shape: (n_samples, 50, 3)\n",
        "\n",
        "print(\"✅ Shape final para predicción:\", X_pred.shape)  # (n_samples, 50, 3)\n"
      ]
    },
    {
      "cell_type": "code",
      "execution_count": 11,
      "id": "76407bbc",
      "metadata": {},
      "outputs": [
        {
          "name": "stdout",
          "output_type": "stream",
          "text": [
            "\u001b[1m24698/24698\u001b[0m \u001b[32m━━━━━━━━━━━━━━━━━━━━\u001b[0m\u001b[37m\u001b[0m \u001b[1m242s\u001b[0m 10ms/step\n",
            "✅ Archivo 'predicciones_secuencias_allfeatures.csv' creado con 1580637 predicciones.\n"
          ]
        }
      ],
      "source": [
        "# --- Realizar predicciones ---\n",
        "preds = model.predict(X_pred, batch_size=64).flatten()\n",
        "\n",
        "# --- Crear DataFrame con predicciones ---\n",
        "df_result = pd.DataFrame(ids, columns=['userId', 'movieId'])\n",
        "df_result['predicted_rating'] = preds\n",
        "\n",
        "# --- Guardar a CSV ---\n",
        "df_result.to_csv(\"predicciones_secuencias_allfeatures.csv\", index=False)\n",
        "\n",
        "print(\"✅ Archivo 'predicciones_secuencias_allfeatures.csv' creado con\", len(df_result), \"predicciones.\")"
      ]
    },
    {
      "cell_type": "code",
      "execution_count": 12,
      "id": "d4138b79",
      "metadata": {},
      "outputs": [
        {
          "data": {
            "image/png": "[encoded data removed]",
            "text/plain": [
              "<Figure size 640x480 with 1 Axes>"
            ]
          },
          "metadata": {},
          "output_type": "display_data"
        }
      ],
      "source": [
        "# mostrar un histograma de las predicciones\n",
        "plt.hist(df_result['predicted_rating'], bins=20, edgecolor='black')\n",
        "plt.xlabel('Predicted Rating')\n",
        "plt.ylabel('Frequency')\n",
        "plt.title('Histogram of Predicted Ratings')\n",
        "plt.show()"
      ]
    },
    {
      "cell_type": "code",
      "execution_count": 13,
      "id": "74a5fd79",
      "metadata": {},
      "outputs": [
        {
          "name": "stdout",
          "output_type": "stream",
          "text": [
            "Predicción máxima: 0.7581019\n",
            "Predicción mínima: 0.47454622\n"
          ]
        }
      ],
      "source": [
        "# mmostrar los maximos y minimos de las predicciones\n",
        "print(\"Predicción máxima:\", df_result['predicted_rating'].max())\n",
        "print(\"Predicción mínima:\", df_result['predicted_rating'].min())"
      ]
    },
    {
      "cell_type": "code",
      "execution_count": null,
      "id": "4cb80b6e",
      "metadata": {},
      "outputs": [],
      "source": []
    }
  ],
  "metadata": {
    "colab": {
      "provenance": []
    },
    "kernelspec": {
      "display_name": "Python 3",
      "language": "python",
      "name": "python3"
    },
    "language_info": {
      "codemirror_mode": {
        "name": "ipython",
        "version": 3
      },
      "file_extension": ".py",
      "mimetype": "text/x-python",
      "name": "python",
      "nbconvert_exporter": "python",
      "pygments_lexer": "ipython3",
      "version": "3.12.4"
    }
  },
  "nbformat": 4,
  "nbformat_minor": 5
}
